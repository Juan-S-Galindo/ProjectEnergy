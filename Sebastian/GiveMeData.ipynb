{
 "metadata": {
  "language_info": {
   "codemirror_mode": {
    "name": "ipython",
    "version": 3
   },
   "file_extension": ".py",
   "mimetype": "text/x-python",
   "name": "python",
   "nbconvert_exporter": "python",
   "pygments_lexer": "ipython3",
   "version": "3.8.5-final"
  },
  "orig_nbformat": 2,
  "kernelspec": {
   "name": "python_defaultSpec_1599092209097",
   "display_name": "Python 3.8.5 64-bit"
  }
 },
 "nbformat": 4,
 "nbformat_minor": 2,
 "cells": [
  {
   "cell_type": "code",
   "execution_count": 1,
   "metadata": {},
   "outputs": [],
   "source": [
    "# Database dependencies.\n",
    "import pymongo\n",
    " \n",
    "# Api dependencies\n",
    "import json\n",
    "import requests \n",
    "\n",
    "#Json dependencies\n",
    "from pprint import pprint\n",
    "\n",
    "#API key\n",
    "from DriversConfig.config import API_KEY\n",
    "\n",
    "#DataFrame dependencies\n",
    "import pandas as pd \n",
    "\n",
    "#Webscrapping \n",
    "from bs4 import BeautifulSoup as bs\n",
    "from selenium import webdriver\n",
    "\n",
    "#Random crap\n",
    "import time\n",
    "\n",
    "#Settings for headless mode.\n",
    "options = webdriver.ChromeOptions()\n",
    "options.add_argument('headless')\n",
    "\n",
    "#path to the driver and load the options.\n",
    "browser = webdriver.Chrome(\"/Users/Sebastian/Documents/GitHub/Data Visualization Bootcamp/Sebastian Homework/Group Project2 - ProjectEnergy/Sebastian/DriversConfig/chromedriver\",chrome_options = options)\n",
    "\n"
   ]
  },
  {
   "cell_type": "code",
   "execution_count": 2,
   "metadata": {},
   "outputs": [],
   "source": [
    "# Database connection\n",
    "conn = 'mongodb://localhost:27017'\n",
    "client = pymongo.MongoClient(conn)\n",
    "\n",
    "# Define database and collection --- creates database.\n",
    "db = client.USEnergy"
   ]
  },
  {
   "cell_type": "code",
   "execution_count": 3,
   "metadata": {},
   "outputs": [],
   "source": [
    "#Lower 48 list.\n",
    "states = [\"AL\", \"AK\", \"AZ\", \"AR\", \"CA\", \"CO\", \"CT\", \"DC\", \"DE\", \"FL\", \"GA\", \n",
    "          \"HI\", \"ID\", \"IL\", \"IN\", \"IA\", \"KS\", \"KY\", \"LA\", \"ME\", \"MD\", \n",
    "          \"MA\", \"MI\", \"MN\", \"MS\", \"MO\", \"MT\", \"NE\", \"NV\", \"NH\", \"NJ\", \n",
    "          \"NM\", \"NY\", \"NC\", \"ND\", \"OH\", \"OK\", \"OR\", \"PA\", \"RI\", \"SC\", \n",
    "          \"SD\", \"TN\", \"TX\", \"UT\", \"VT\", \"VA\", \"WA\", \"WV\", \"WI\", \"WY\"]"
   ]
  },
  {
   "cell_type": "markdown",
   "metadata": {},
   "source": [
    "# Prices \n",
    "\n",
    "- Data is very structured, SQL can be a good idea here"
   ]
  },
  {
   "cell_type": "code",
   "execution_count": 18,
   "metadata": {
    "tags": []
   },
   "outputs": [
    {
     "output_type": "execute_result",
     "data": {
      "text/plain": "<pymongo.results.InsertOneResult at 0x7fc6f8a8f080>"
     },
     "metadata": {},
     "execution_count": 18
    }
   ],
   "source": [
    "#Define collection for prices\n",
    "collection = db.Prices\n",
    "\n",
    "#API key from config file.\n",
    "api_key = API_KEY\n",
    "\n",
    "#Empty dictionary to store prices\n",
    "price_df = pd.DataFrame(columns = states)\n",
    "\n",
    "#for state in states.\n",
    "for state in states:\n",
    "\n",
    "    #query each state. ALL = average combined rates, A = Annual. --> we can get more specific and get Residential, bussiness, etc. \n",
    "    priceQuery = f\"ELEC.PRICE.{state}-ALL.A\"\n",
    "\n",
    "    #Api url.\n",
    "    url = f\"http://api.eia.gov/series/?api_key={API_KEY}&series_id={priceQuery}\"\n",
    "\n",
    "    #Api reqeust. \n",
    "    statePriceRequest = requests.get(url)\n",
    "\n",
    "    #Pulls list of list of with the information of prices and yaer.\n",
    "    yearPricesList = statePriceRequest.json()['series'][0]['data']\n",
    "    \n",
    "    #Parse through the list and build DataFrame.\n",
    "    for priceYear in yearPricesList:\n",
    "\n",
    "        price_df.loc[priceYear[0],state] = priceYear[1]\n",
    "\n",
    "#Converts the dataframe to a dictionary. \n",
    "post = price_df.to_dict()\n",
    "collection.insert_one(post)\n",
    "\n",
    "\n"
   ]
  },
  {
   "cell_type": "markdown",
   "metadata": {
    "tags": []
   },
   "source": [
    "# Energy Generation\n",
    "\n",
    "- Data is very unstructured, we might have to use NoSQL (Mongo_dB)\n",
    "\n",
    "\n",
    "<img src=\"images/2019 US Energy Distribution.png\">"
   ]
  },
  {
   "cell_type": "code",
   "execution_count": 19,
   "metadata": {
    "tags": []
   },
   "outputs": [
    {
     "output_type": "stream",
     "name": "stdout",
     "text": "'series'. Petroleum Coke not found in AL.\n'series'. Petroleum Coke not found in AK.\n'series'. Petroleum Coke not found in AZ.\n'series'. Other Gasses not found in AR.\n'series'. Petroleum Coke not found in CO.\n'series'. Petroleum Coke not found in CT.\n'series'. Coal not found in DC.\n'series'. Nuclear not found in DE.\n'series'. Geothermal not found in FL.\n'series'. Other Gasses not found in GA.\n'series'. Natural Gas not found in HI.\n'series'. Petroleum Coke not found in ID.\n'series'. Geothermal not found in IL.\n'series'. Nuclear not found in IN.\n'series'. Other Gasses not found in IA.\n'series'. Other Gasses not found in KS.\n'series'. Nuclear not found in KY.\n'series'. Wind not found in LA.\n'series'. Petroleum Coke not found in ME.\n'series'. Petroleum Coke not found in MD.\n'series'. Petroleum Coke not found in MA.\n'series'. Geothermal not found in MI.\n'series'. Geothermal not found in MN.\n'series'. Petroleum Coke not found in MS.\n'series'. Geothermal not found in MO.\n'series'. Nuclear not found in MT.\n'series'. Petroleum Coke not found in NE.\n'series'. Petroleum Coke not found in NV.\n'series'. Petroleum Coke not found in NH.\n'series'. Wood and Wood Derived Fuels not found in NJ.\n'series'. Petroleum Coke not found in NM.\n'series'. Geothermal not found in NY.\n'series'. Petroleum Coke not found in NC.\n'series'. Petroleum Coke not found in ND.\n'series'. Geothermal not found in OH.\n'series'. Nuclear not found in OK.\n'series'. Petroleum Coke not found in OR.\n'series'. Geothermal not found in PA.\n'series'. Coal not found in RI.\n'series'. Wind not found in SC.\n'series'. Petroleum Coke not found in SD.\n'series'. Petroleum Coke not found in TN.\n'series'. Geothermal not found in TX.\n'series'. Petroleum Coke not found in UT.\n'series'. Coal not found in VT.\n'series'. Petroleum Coke not found in VA.\n'series'. Petroleum Coke not found in WA.\n'series'. Petroleum Coke not found in WV.\n'series'. Geothermal not found in WI.\n'series'. Petroleum Coke not found in WY.\nDone!\n"
    }
   ],
   "source": [
    "#Define collection for Energy Generation.\n",
    "collection = db.EnegryGeneration\n",
    "\n",
    "#Dictionary to build.\n",
    "energySources_dict = {}\n",
    "\n",
    "#list of the US Energy Sources by EIA.\n",
    "energySources = {\"Natural Gas\" : \"NG\",\n",
    "                \"Coal\" : \"COW\",\n",
    "                \"Petroleum Liquids\" : \"PEL\", \n",
    "                \"Petroleum Coke\" : \"PC\", \n",
    "                \"Other Gasses\": \"OOG\",\n",
    "                \"Nuclear\" : \"NUC\",\n",
    "                \"Hydroelectric\" : 'HYC',\n",
    "                \"Wind\" : \"WND\",\n",
    "                'Wood and Wood Derived Fuels' : 'WWW',\n",
    "                'Other Biomass' : 'WAS',\n",
    "                'Geothermal' : 'GEO',\n",
    "                'All Other Renewables' : \"AOR\",\n",
    "                \"All Solar\": 'TSN',\n",
    "                'Other' : 'OTH',\n",
    "                'Utility Scale Thermal' : 'STH',\n",
    "                'Hydroelectic Pumped Storage' : 'HPS'\n",
    "                }\n",
    "\n",
    "#For state in states\n",
    "for state in states:\n",
    "    \n",
    "    try:\n",
    "        #For every statem loop each energy source.\n",
    "        for energySourceKey, energySourceValue in zip(energySources.keys(), energySources.values()):\n",
    "            \n",
    "            #builds api query.\n",
    "            priceQuery = f\"ELEC.GEN.{energySourceValue}-{state}-99.A\"\n",
    "            \n",
    "            #API url\n",
    "            url = f\"http://api.eia.gov/series/?api_key={API_KEY}&series_id={priceQuery}\"\n",
    "\n",
    "            #Api reqeust. \n",
    "            energySourceRequest = requests.get(url, allow_redirects = False) \n",
    "\n",
    "            #Extracts the year-energy liss\n",
    "            energySourceList = energySourceRequest.json()['series'][0]['data']\n",
    "\n",
    "            #builds the state keys.\n",
    "            if state not in energySources_dict.keys():\n",
    "                energySources_dict[state] = {}\n",
    "\n",
    "            #builds the energy source keys by year and energy production by source.\n",
    "            if energySourceKey not in energySources_dict[state].keys():\n",
    "                energySources_dict[state][energySourceKey] = {}\n",
    "                energySources_dict[state][energySourceKey]['Year'] = []\n",
    "                energySources_dict[state][energySourceKey]['K Megawatthours'] = []\n",
    "                \n",
    "            #builds the list for the years\n",
    "            [energySources_dict[state][energySourceKey]['Year'].append(i[0]) for i in energySourceList]\n",
    "\n",
    "            #Builds list for the values of each year.\n",
    "            [energySources_dict[state][energySourceKey]['K Megawatthours'].append(i[1]) for i in energySourceList]\n",
    "    \n",
    "    #if energy surce is not found.\n",
    "    except KeyError as K:\n",
    "        print(f'{K}. {energySourceKey} not found in {state}.')\n",
    "\n",
    "        time.sleep(5)\n",
    "\n",
    "print('Done!')\n",
    "\n",
    "post = energySources_dict\n",
    "\n",
    "collection.insert_one(post)"
   ]
  },
  {
   "cell_type": "markdown",
   "metadata": {},
   "source": [
    "# Energy Consumption by State\n",
    "\n",
    "<img src=\"images/Energy Classification.png\">\n"
   ]
  },
  {
   "cell_type": "code",
   "execution_count": 32,
   "metadata": {},
   "outputs": [],
   "source": [
    "#Empty dataframe to store the data \n",
    "EndUseCosumption_df = pd.DataFrame(columns = states)\n",
    "\n",
    "for state in states:\n",
    "\n",
    "    #URL to scrape\n",
    "    url = f\"https://www.eia.gov/beta/states/states/{state}/overview\"\n",
    "\n",
    "    #Open url.\n",
    "    browser.get(url)\n",
    "\n",
    "    #Time to let the website load all the elements\n",
    "    time.sleep(4)\n",
    "\n",
    "    #save the html source.\n",
    "    html = browser.page_source\n",
    "\n",
    "    #Use bs4 to parse the html response.\n",
    "    soup = bs(html, \"html.parser\")\n",
    "\n",
    "    #List of classes to parse \n",
    "    parseClasses = [\"info-coal\",\"info-natural-gas\",\"info-petroleum\",\"info-renewable\",'info-electricity'] \n",
    "\n",
    "    for parseClass in parseClasses:\n",
    "\n",
    "        yummySoup = soup.find_all(\"li\", class_={parseClass})[0].text.split()\n",
    "\n",
    "        typeEnergy = yummySoup[0]\n",
    "\n",
    "        marketShare = yummySoup[2]\n",
    "\n",
    "        EndUseCosumption_df.loc[typeEnergy,state] = marketShare\n",
    "\n",
    "EndUseCosumption_df.to_pickle(\"Output Files/End-User_Consumption_by_Source.pkl\")\n",
    "\n",
    "EndUseCosumption_df"
   ]
  },
  {
   "cell_type": "code",
   "execution_count": 35,
   "metadata": {},
   "outputs": [
    {
     "output_type": "execute_result",
     "data": {
      "text/plain": "                      AL       AK       AZ       AR       CA       CO  \\\nCoal              (4.3%)   (1.2%)   (0.7%)   (0.5%)   (0.5%)   (0.3%)   \nNaturalgas       (23.3%)  (55.8%)  (10.7%)  (26.2%)  (24.7%)  (34.2%)   \nPetroleum        (38.9%)  (37.8%)  (58.0%)  (43.0%)  (57.7%)  (46.1%)   \nRenewableenergy  (11.6%)   (1.6%)   (3.3%)   (9.3%)   (3.4%)   (2.3%)   \nElectricity      (21.9%)   (3.5%)  (27.4%)  (21.0%)  (13.7%)  (17.0%)   \n\n                      CT       DC       DE       FL  ...       SD       TN  \\\nCoal              (0.0%)   (0.0%)   (0.0%)   (0.4%)  ...   (1.0%)   (2.4%)   \nNaturalgas       (25.0%)  (35.0%)  (28.5%)   (7.3%)  ...  (27.3%)  (19.8%)   \nPetroleum        (55.3%)  (21.6%)  (51.8%)  (59.4%)  ...  (38.1%)  (49.4%)   \nRenewableenergy   (2.9%)   (1.7%)   (1.1%)   (5.1%)  ...  (19.6%)   (5.2%)   \nElectricity      (16.8%)  (41.6%)  (18.6%)  (27.7%)  ...  (14.0%)  (23.2%)   \n\n                      TX       UT       VT       VA       WA       WV  \\\nCoal              (0.1%)   (1.4%)   (0.0%)   (2.7%)   (0.1%)   (4.7%)   \nNaturalgas       (24.8%)  (30.2%)  (10.8%)  (18.0%)  (16.7%)  (35.3%)   \nPetroleum        (61.7%)  (49.9%)  (60.0%)  (49.4%)  (55.2%)  (37.6%)   \nRenewableenergy   (0.9%)   (1.5%)  (14.8%)   (5.2%)   (7.5%)   (3.1%)   \nElectricity      (12.5%)  (16.9%)  (14.3%)  (24.7%)  (20.5%)  (19.2%)   \n\n                      WI       WY  \nCoal              (1.5%)   (7.3%)  \nNaturalgas       (31.2%)  (39.9%)  \nPetroleum        (40.9%)  (38.2%)  \nRenewableenergy   (8.9%)   (1.3%)  \nElectricity      (17.5%)  (13.3%)  \n\n[5 rows x 51 columns]",
      "text/html": "<div>\n<style scoped>\n    .dataframe tbody tr th:only-of-type {\n        vertical-align: middle;\n    }\n\n    .dataframe tbody tr th {\n        vertical-align: top;\n    }\n\n    .dataframe thead th {\n        text-align: right;\n    }\n</style>\n<table border=\"1\" class=\"dataframe\">\n  <thead>\n    <tr style=\"text-align: right;\">\n      <th></th>\n      <th>AL</th>\n      <th>AK</th>\n      <th>AZ</th>\n      <th>AR</th>\n      <th>CA</th>\n      <th>CO</th>\n      <th>CT</th>\n      <th>DC</th>\n      <th>DE</th>\n      <th>FL</th>\n      <th>...</th>\n      <th>SD</th>\n      <th>TN</th>\n      <th>TX</th>\n      <th>UT</th>\n      <th>VT</th>\n      <th>VA</th>\n      <th>WA</th>\n      <th>WV</th>\n      <th>WI</th>\n      <th>WY</th>\n    </tr>\n  </thead>\n  <tbody>\n    <tr>\n      <th>Coal</th>\n      <td>(4.3%)</td>\n      <td>(1.2%)</td>\n      <td>(0.7%)</td>\n      <td>(0.5%)</td>\n      <td>(0.5%)</td>\n      <td>(0.3%)</td>\n      <td>(0.0%)</td>\n      <td>(0.0%)</td>\n      <td>(0.0%)</td>\n      <td>(0.4%)</td>\n      <td>...</td>\n      <td>(1.0%)</td>\n      <td>(2.4%)</td>\n      <td>(0.1%)</td>\n      <td>(1.4%)</td>\n      <td>(0.0%)</td>\n      <td>(2.7%)</td>\n      <td>(0.1%)</td>\n      <td>(4.7%)</td>\n      <td>(1.5%)</td>\n      <td>(7.3%)</td>\n    </tr>\n    <tr>\n      <th>Naturalgas</th>\n      <td>(23.3%)</td>\n      <td>(55.8%)</td>\n      <td>(10.7%)</td>\n      <td>(26.2%)</td>\n      <td>(24.7%)</td>\n      <td>(34.2%)</td>\n      <td>(25.0%)</td>\n      <td>(35.0%)</td>\n      <td>(28.5%)</td>\n      <td>(7.3%)</td>\n      <td>...</td>\n      <td>(27.3%)</td>\n      <td>(19.8%)</td>\n      <td>(24.8%)</td>\n      <td>(30.2%)</td>\n      <td>(10.8%)</td>\n      <td>(18.0%)</td>\n      <td>(16.7%)</td>\n      <td>(35.3%)</td>\n      <td>(31.2%)</td>\n      <td>(39.9%)</td>\n    </tr>\n    <tr>\n      <th>Petroleum</th>\n      <td>(38.9%)</td>\n      <td>(37.8%)</td>\n      <td>(58.0%)</td>\n      <td>(43.0%)</td>\n      <td>(57.7%)</td>\n      <td>(46.1%)</td>\n      <td>(55.3%)</td>\n      <td>(21.6%)</td>\n      <td>(51.8%)</td>\n      <td>(59.4%)</td>\n      <td>...</td>\n      <td>(38.1%)</td>\n      <td>(49.4%)</td>\n      <td>(61.7%)</td>\n      <td>(49.9%)</td>\n      <td>(60.0%)</td>\n      <td>(49.4%)</td>\n      <td>(55.2%)</td>\n      <td>(37.6%)</td>\n      <td>(40.9%)</td>\n      <td>(38.2%)</td>\n    </tr>\n    <tr>\n      <th>Renewableenergy</th>\n      <td>(11.6%)</td>\n      <td>(1.6%)</td>\n      <td>(3.3%)</td>\n      <td>(9.3%)</td>\n      <td>(3.4%)</td>\n      <td>(2.3%)</td>\n      <td>(2.9%)</td>\n      <td>(1.7%)</td>\n      <td>(1.1%)</td>\n      <td>(5.1%)</td>\n      <td>...</td>\n      <td>(19.6%)</td>\n      <td>(5.2%)</td>\n      <td>(0.9%)</td>\n      <td>(1.5%)</td>\n      <td>(14.8%)</td>\n      <td>(5.2%)</td>\n      <td>(7.5%)</td>\n      <td>(3.1%)</td>\n      <td>(8.9%)</td>\n      <td>(1.3%)</td>\n    </tr>\n    <tr>\n      <th>Electricity</th>\n      <td>(21.9%)</td>\n      <td>(3.5%)</td>\n      <td>(27.4%)</td>\n      <td>(21.0%)</td>\n      <td>(13.7%)</td>\n      <td>(17.0%)</td>\n      <td>(16.8%)</td>\n      <td>(41.6%)</td>\n      <td>(18.6%)</td>\n      <td>(27.7%)</td>\n      <td>...</td>\n      <td>(14.0%)</td>\n      <td>(23.2%)</td>\n      <td>(12.5%)</td>\n      <td>(16.9%)</td>\n      <td>(14.3%)</td>\n      <td>(24.7%)</td>\n      <td>(20.5%)</td>\n      <td>(19.2%)</td>\n      <td>(17.5%)</td>\n      <td>(13.3%)</td>\n    </tr>\n  </tbody>\n</table>\n<p>5 rows × 51 columns</p>\n</div>"
     },
     "metadata": {},
     "execution_count": 35
    }
   ],
   "source": [
    "EndUseCosumption_df"
   ]
  },
  {
   "cell_type": "code",
   "execution_count": 57,
   "metadata": {},
   "outputs": [
    {
     "output_type": "execute_result",
     "data": {
      "text/plain": "                      AL       AK       AZ       AR       CA       CO  \\\nCoal             (24.7%)  (18.7%)  (30.5%)  (48.3%)   (0.0%)  (52.3%)   \nNaturalgas       (34.6%)  (45.6%)  (27.8%)  (25.1%)  (39.4%)  (25.8%)   \nPetroleum         (0.1%)   (8.7%)   (0.1%)   (0.1%)   (0.0%)   (0.0%)   \nRenewableenergy   (8.4%)  (26.9%)  (11.1%)   (5.2%)  (48.7%)  (21.8%)   \nNuclearpower     (32.2%)   (0.0%)  (30.5%)  (21.4%)  (11.8%)   (0.0%)   \n\n                      CT      DC       DE       FL  ...       SD       TN  \\\nCoal              (1.2%)  (0.0%)   (9.6%)  (15.6%)  ...  (21.0%)  (27.1%)   \nNaturalgas       (40.8%)  (0.0%)  (83.9%)  (64.0%)  ...   (8.4%)  (13.0%)   \nPetroleum         (0.9%)  (0.0%)   (4.4%)   (1.1%)  ...   (0.1%)   (0.2%)   \nRenewableenergy   (5.5%)  (0.0%)   (2.1%)   (4.3%)  ...  (70.6%)  (12.1%)   \nNuclearpower     (51.5%)  (0.0%)   (0.0%)  (15.1%)  ...   (0.0%)  (47.6%)   \n\n                      TX       UT       VT       VA       WA       WV  \\\nCoal             (29.2%)  (71.7%)   (0.0%)  (12.4%)   (5.6%)  (94.1%)   \nNaturalgas       (41.9%)  (17.1%)   (0.0%)  (43.8%)   (7.9%)   (1.7%)   \nPetroleum         (0.0%)   (0.1%)   (0.2%)   (1.1%)   (0.0%)   (0.2%)   \nRenewableenergy  (18.2%)  (11.1%)  (99.8%)   (6.9%)  (76.9%)   (4.0%)   \nNuclearpower     (10.7%)   (0.0%)   (0.0%)  (35.8%)   (9.6%)   (0.0%)   \n\n                      WI       WY  \nCoal             (54.2%)  (89.8%)  \nNaturalgas       (20.9%)   (0.4%)  \nPetroleum         (0.3%)   (0.1%)  \nRenewableenergy   (7.8%)   (9.7%)  \nNuclearpower     (16.8%)   (0.0%)  \n\n[5 rows x 51 columns]",
      "text/html": "<div>\n<style scoped>\n    .dataframe tbody tr th:only-of-type {\n        vertical-align: middle;\n    }\n\n    .dataframe tbody tr th {\n        vertical-align: top;\n    }\n\n    .dataframe thead th {\n        text-align: right;\n    }\n</style>\n<table border=\"1\" class=\"dataframe\">\n  <thead>\n    <tr style=\"text-align: right;\">\n      <th></th>\n      <th>AL</th>\n      <th>AK</th>\n      <th>AZ</th>\n      <th>AR</th>\n      <th>CA</th>\n      <th>CO</th>\n      <th>CT</th>\n      <th>DC</th>\n      <th>DE</th>\n      <th>FL</th>\n      <th>...</th>\n      <th>SD</th>\n      <th>TN</th>\n      <th>TX</th>\n      <th>UT</th>\n      <th>VT</th>\n      <th>VA</th>\n      <th>WA</th>\n      <th>WV</th>\n      <th>WI</th>\n      <th>WY</th>\n    </tr>\n  </thead>\n  <tbody>\n    <tr>\n      <th>Coal</th>\n      <td>(24.7%)</td>\n      <td>(18.7%)</td>\n      <td>(30.5%)</td>\n      <td>(48.3%)</td>\n      <td>(0.0%)</td>\n      <td>(52.3%)</td>\n      <td>(1.2%)</td>\n      <td>(0.0%)</td>\n      <td>(9.6%)</td>\n      <td>(15.6%)</td>\n      <td>...</td>\n      <td>(21.0%)</td>\n      <td>(27.1%)</td>\n      <td>(29.2%)</td>\n      <td>(71.7%)</td>\n      <td>(0.0%)</td>\n      <td>(12.4%)</td>\n      <td>(5.6%)</td>\n      <td>(94.1%)</td>\n      <td>(54.2%)</td>\n      <td>(89.8%)</td>\n    </tr>\n    <tr>\n      <th>Naturalgas</th>\n      <td>(34.6%)</td>\n      <td>(45.6%)</td>\n      <td>(27.8%)</td>\n      <td>(25.1%)</td>\n      <td>(39.4%)</td>\n      <td>(25.8%)</td>\n      <td>(40.8%)</td>\n      <td>(0.0%)</td>\n      <td>(83.9%)</td>\n      <td>(64.0%)</td>\n      <td>...</td>\n      <td>(8.4%)</td>\n      <td>(13.0%)</td>\n      <td>(41.9%)</td>\n      <td>(17.1%)</td>\n      <td>(0.0%)</td>\n      <td>(43.8%)</td>\n      <td>(7.9%)</td>\n      <td>(1.7%)</td>\n      <td>(20.9%)</td>\n      <td>(0.4%)</td>\n    </tr>\n    <tr>\n      <th>Petroleum</th>\n      <td>(0.1%)</td>\n      <td>(8.7%)</td>\n      <td>(0.1%)</td>\n      <td>(0.1%)</td>\n      <td>(0.0%)</td>\n      <td>(0.0%)</td>\n      <td>(0.9%)</td>\n      <td>(0.0%)</td>\n      <td>(4.4%)</td>\n      <td>(1.1%)</td>\n      <td>...</td>\n      <td>(0.1%)</td>\n      <td>(0.2%)</td>\n      <td>(0.0%)</td>\n      <td>(0.1%)</td>\n      <td>(0.2%)</td>\n      <td>(1.1%)</td>\n      <td>(0.0%)</td>\n      <td>(0.2%)</td>\n      <td>(0.3%)</td>\n      <td>(0.1%)</td>\n    </tr>\n    <tr>\n      <th>Renewableenergy</th>\n      <td>(8.4%)</td>\n      <td>(26.9%)</td>\n      <td>(11.1%)</td>\n      <td>(5.2%)</td>\n      <td>(48.7%)</td>\n      <td>(21.8%)</td>\n      <td>(5.5%)</td>\n      <td>(0.0%)</td>\n      <td>(2.1%)</td>\n      <td>(4.3%)</td>\n      <td>...</td>\n      <td>(70.6%)</td>\n      <td>(12.1%)</td>\n      <td>(18.2%)</td>\n      <td>(11.1%)</td>\n      <td>(99.8%)</td>\n      <td>(6.9%)</td>\n      <td>(76.9%)</td>\n      <td>(4.0%)</td>\n      <td>(7.8%)</td>\n      <td>(9.7%)</td>\n    </tr>\n    <tr>\n      <th>Nuclearpower</th>\n      <td>(32.2%)</td>\n      <td>(0.0%)</td>\n      <td>(30.5%)</td>\n      <td>(21.4%)</td>\n      <td>(11.8%)</td>\n      <td>(0.0%)</td>\n      <td>(51.5%)</td>\n      <td>(0.0%)</td>\n      <td>(0.0%)</td>\n      <td>(15.1%)</td>\n      <td>...</td>\n      <td>(0.0%)</td>\n      <td>(47.6%)</td>\n      <td>(10.7%)</td>\n      <td>(0.0%)</td>\n      <td>(0.0%)</td>\n      <td>(35.8%)</td>\n      <td>(9.6%)</td>\n      <td>(0.0%)</td>\n      <td>(16.8%)</td>\n      <td>(0.0%)</td>\n    </tr>\n  </tbody>\n</table>\n<p>5 rows × 51 columns</p>\n</div>"
     },
     "metadata": {},
     "execution_count": 57
    }
   ],
   "source": [
    "#Empty dataframe to store the data \n",
    "ElectricPowerConsumption_df = pd.DataFrame(columns = states)\n",
    "\n",
    "for state in states:\n",
    "\n",
    "    #URL to scrape\n",
    "    url = f\"https://www.eia.gov/beta/states/states/{state}/overview\"\n",
    "\n",
    "    #Open url.\n",
    "    browser.get(url)\n",
    "\n",
    "    #Time to let the website load all the elements\n",
    "    time.sleep(4)\n",
    "\n",
    "    #save the html source.\n",
    "    html = browser.page_source\n",
    "\n",
    "    #Use bs4 to parse the html response.\n",
    "    soup = bs(html, \"html.parser\")\n",
    "\n",
    "    #List of classes to parse \n",
    "    parseClasses = [\"info-coal\",\"info-natural-gas\",\"info-petroleum\",\"info-renewable\",'info-nuclear'] \n",
    "\n",
    "    for parseClass in parseClasses:\n",
    "\n",
    "        #From the soup, the electricity generation is in the index 1.\n",
    "        indexNum = 1\n",
    "\n",
    "        #Nuclear energy is only for electricity generation. It only has 1 index = 0\n",
    "        if parseClass == 'info-nuclear' :\n",
    "            indexNum = 0\n",
    "\n",
    "        yummySoup = soup.find_all(\"li\", class_={parseClass})[indexNum].text.split()\n",
    "\n",
    "        typeEnergy = yummySoup[0]\n",
    "\n",
    "        marketShare = yummySoup[2]\n",
    "\n",
    "        ElectricPowerConsumption_df.loc[typeEnergy,state] = marketShare\n",
    "\n",
    "ElectricPowerConsumption_df.to_pickle(\"Output Files/Eletric_Power_Consumption_by_Source.pkl\")\n",
    "\n",
    "ElectricPowerConsumption_df\n"
   ]
  },
  {
   "cell_type": "code",
   "execution_count": null,
   "metadata": {},
   "outputs": [],
   "source": []
  }
 ]
}