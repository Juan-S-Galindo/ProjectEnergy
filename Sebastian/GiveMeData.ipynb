{
 "metadata": {
  "language_info": {
   "codemirror_mode": {
    "name": "ipython",
    "version": 3
   },
   "file_extension": ".py",
   "mimetype": "text/x-python",
   "name": "python",
   "nbconvert_exporter": "python",
   "pygments_lexer": "ipython3",
   "version": "3.8.5-final"
  },
  "orig_nbformat": 2,
  "kernelspec": {
   "name": "python_defaultSpec_1599611234633",
   "display_name": "Python 3.8.5 64-bit"
  }
 },
 "nbformat": 4,
 "nbformat_minor": 2,
 "cells": [
  {
   "cell_type": "markdown",
   "metadata": {},
   "source": [
    "# To access the Mongo_db follow instructions:\n",
    "\n",
    "To dump your mongo_db call this command on your terminal\n",
    "\n",
    " - mongodump --db database_name --collection collection_name (It will create a folder called dump in the folder active directory)\n",
    "\n",
    "To import mongo_db file to mongodb you can use the following command on your terminal:\n",
    "\n",
    " - mongorestore --db database_name path_to_bson_file"
   ]
  },
  {
   "cell_type": "code",
   "execution_count": 1,
   "metadata": {
    "tags": []
   },
   "outputs": [
    {
     "output_type": "stream",
     "name": "stdout",
     "text": "2020-09-08 19:28:05,063 INFO sqlalchemy.engine.base.Engine SELECT CAST('test plain returns' AS VARCHAR(60)) AS anon_1\n2020-09-08 19:28:05,064 INFO sqlalchemy.engine.base.Engine ()\n2020-09-08 19:28:05,064 INFO sqlalchemy.engine.base.Engine SELECT CAST('test unicode returns' AS VARCHAR(60)) AS anon_1\n2020-09-08 19:28:05,065 INFO sqlalchemy.engine.base.Engine ()\n"
    }
   ],
   "source": [
    "# Database dependencies.\n",
    "from sqlalchemy import create_engine\n",
    "\n",
    "#Sqlite engine\n",
    "engine = create_engine(\"sqlite:///USEnergy.sqlite\", echo=True)\n",
    "conn = engine.connect()\n",
    " \n",
    "# Api dependencies\n",
    "import requests \n",
    "\n",
    "#Json dependencies\n",
    "from pprint import pprint\n",
    "\n",
    "#API key\n",
    "from DriversConfig.config import API_KEY #Save API key as API_KEY in a folder called DriversConfig\n",
    "\n",
    "#DataFrame dependencies\n",
    "import pandas as pd \n",
    "\n",
    "#Webscrapping \n",
    "from bs4 import BeautifulSoup as bs\n",
    "from selenium import webdriver\n",
    "\n",
    "#Random crap\n",
    "import time\n",
    "\n",
    "#Settings for headless mode.\n",
    "options = webdriver.ChromeOptions()\n",
    "options.add_argument('headless')\n",
    "\n",
    "#path to the driver and load the options.\n",
    "browser = webdriver.Chrome(\"/Users/Sebastian/Documents/GitHub/Data Visualization Bootcamp/Sebastian Homework/Group Project2 - ProjectEnergy/Sebastian/DriversConfig/chromedriver\",chrome_options = options) #Dowload Selenium chromedriver and save the driver in the folder in the repo and update Absolute path.\n",
    "\n",
    "\n",
    "\n"
   ]
  },
  {
   "cell_type": "code",
   "execution_count": 2,
   "metadata": {},
   "outputs": [],
   "source": [
    "#Lower 48 list.\n",
    "states = [\"AL\", \"AK\", \"AZ\", \"AR\", \"CA\", \"CO\", \"CT\", \"DC\", \"DE\", \"FL\", \"GA\", \n",
    "          \"HI\", \"ID\", \"IL\", \"IN\", \"IA\", \"KS\", \"KY\", \"LA\", \"ME\", \"MD\", \n",
    "          \"MA\", \"MI\", \"MN\", \"MS\", \"MO\", \"MT\", \"NE\", \"NV\", \"NH\", \"NJ\", \n",
    "          \"NM\", \"NY\", \"NC\", \"ND\", \"OH\", \"OK\", \"OR\", \"PA\", \"RI\", \"SC\", \n",
    "          \"SD\", \"TN\", \"TX\", \"UT\", \"VT\", \"VA\", \"WA\", \"WV\", \"WI\", \"WY\"]"
   ]
  },
  {
   "cell_type": "markdown",
   "metadata": {},
   "source": [
    "# Prices \n",
    "\n",
    "- Data is very structured, SQL can be a good idea here"
   ]
  },
  {
   "cell_type": "code",
   "execution_count": 4,
   "metadata": {
    "tags": []
   },
   "outputs": [],
   "source": [
    "#API key from config file.\n",
    "api_key = API_KEY\n",
    "\n",
    "#Empty dictionary to store prices\n",
    "price_df = pd.DataFrame(columns = states)\n",
    "\n",
    "#for state in states.\n",
    "for state in states:\n",
    "\n",
    "    #query each state. ALL = average combined rates, A = Annual. --> we can get more specific and get Residential, bussiness, etc. \n",
    "    priceQuery = f\"ELEC.PRICE.{state}-ALL.A\"\n",
    "\n",
    "    #Api url.\n",
    "    url = f\"http://api.eia.gov/series/?api_key={API_KEY}&series_id={priceQuery}\"\n",
    "\n",
    "    #Api reqeust. \n",
    "    statePriceRequest = requests.get(url)\n",
    "\n",
    "    #Pulls list of list of with the information of prices and yaer.\n",
    "    yearPricesList = statePriceRequest.json()['series'][0]['data']\n",
    "    \n",
    "    #Parse through the list and build DataFrame.\n",
    "    for priceYear in yearPricesList:\n",
    "\n",
    "        price_df.loc[priceYear[0],state] = priceYear[1]\n",
    "\n",
    "#Save to Sqlite \n",
    "price_df.to_sql('Average Energy Prices', conn, if_exists='replace')"
   ]
  },
  {
   "cell_type": "code",
   "execution_count": 22,
   "metadata": {
    "tags": []
   },
   "outputs": [
    {
     "output_type": "stream",
     "name": "stdout",
     "text": "2020-09-08 19:58:21,657 INFO sqlalchemy.engine.base.Engine SELECT * from 'Average Energy Prices'\n2020-09-08 19:58:21,657 INFO sqlalchemy.engine.base.Engine ()\n"
    }
   ],
   "source": [
    "#To view the sqlite \n",
    "prices = pd.read_sql_query(\"SELECT * from 'Average Energy Prices'\", conn)\n",
    "prices.set_index('index', inplace = True)\n",
    "\n",
    "state = 'TX'\n",
    "\n",
    "outputPrice = prices.loc[:,state].to_json(f'Output Files/{state} prices.json')\n",
    "\n",
    "outputPrice"
   ]
  },
  {
   "cell_type": "markdown",
   "metadata": {
    "tags": []
   },
   "source": [
    "# Energy Generation\n",
    "\n",
    "- Data is very unstructured, we might have to use NoSQL (Mongo_dB)\n",
    "\n",
    "\n",
    "<img src=\"images/2019 US Energy Distribution.png\">"
   ]
  },
  {
   "cell_type": "code",
   "execution_count": 63,
   "metadata": {
    "tags": [
     "outputPrepend"
    ]
   },
   "outputs": [
    {
     "output_type": "stream",
     "name": "stdout",
     "text": " (2005, 6386.79365, 41729.31343, 163.96753, 582.54246, 0.0, 9920.991, 1740.21896, 92.544, 740.34998, 0, 0, 0, 0, 0, 0, 0), (2006, 5358.4816, 40116.49023, 135.70123, 741.48433, 0.0, 12233.515, 1678.5983, 101.376, 773.8628, 0, 0, 0, 0, 0, 0, 0), (2007, 6488.75032, 40028.24955, 159.71219, 853.70149, 0.0, 12910.319, 1516.08286, 109.283, 785.07895, 0, 0, 0, 0, 0, 0, 0), (2008, 5243.58889, 41705.86048, 96.00967, 835.15012, 0.0, 12154.51, 1616.14196, 487.141, 775.04025, 0, 0, 0, 0, 0, 0, 0)  ... displaying 10 of 19 total bound parameter sets ...  (2018, 16798.65559, 33322.37949, 36.08083, 101.4305, 0.0, 10129.122, 2392.00955, 1637.658, 883.11537, 0, 0, 0, 0, 0, 0, 0), (2019, 21136.97903, 26348.94969, 46.54271, 89.68668, 0.0, 10030.305, 1992.70442, 1649.21371, 841.48595, 0, 0, 0, 0, 0, 0, 0))\n2020-09-04 21:07:38,711 INFO sqlalchemy.engine.base.Engine COMMIT\n2020-09-04 21:07:38,713 INFO sqlalchemy.engine.base.Engine SELECT name FROM sqlite_master WHERE type='table' ORDER BY name\n2020-09-04 21:07:38,714 INFO sqlalchemy.engine.base.Engine ()\n2020-09-04 21:07:38,848 INFO sqlalchemy.engine.base.Engine PRAGMA main.table_info(\"WI Generation\")\n2020-09-04 21:07:38,848 INFO sqlalchemy.engine.base.Engine ()\n2020-09-04 21:07:38,849 INFO sqlalchemy.engine.base.Engine PRAGMA main.table_info(\"WI Generation\")\n2020-09-04 21:07:38,850 INFO sqlalchemy.engine.base.Engine ()\n2020-09-04 21:07:38,851 INFO sqlalchemy.engine.base.Engine SELECT name FROM sqlite_master WHERE type='table' ORDER BY name\n2020-09-04 21:07:38,851 INFO sqlalchemy.engine.base.Engine ()\n2020-09-04 21:07:38,852 INFO sqlalchemy.engine.base.Engine PRAGMA main.table_xinfo(\"WI Generation\")\n2020-09-04 21:07:38,853 INFO sqlalchemy.engine.base.Engine ()\n2020-09-04 21:07:38,855 INFO sqlalchemy.engine.base.Engine SELECT sql FROM  (SELECT * FROM sqlite_master UNION ALL   SELECT * FROM sqlite_temp_master) WHERE name = 'WI Generation' AND type = 'table'\n2020-09-04 21:07:38,855 INFO sqlalchemy.engine.base.Engine ()\n2020-09-04 21:07:38,856 INFO sqlalchemy.engine.base.Engine PRAGMA main.foreign_key_list(\"WI Generation\")\n2020-09-04 21:07:38,857 INFO sqlalchemy.engine.base.Engine ()\n2020-09-04 21:07:38,857 INFO sqlalchemy.engine.base.Engine PRAGMA temp.foreign_key_list(\"WI Generation\")\n2020-09-04 21:07:38,858 INFO sqlalchemy.engine.base.Engine ()\n2020-09-04 21:07:38,858 INFO sqlalchemy.engine.base.Engine SELECT sql FROM  (SELECT * FROM sqlite_master UNION ALL   SELECT * FROM sqlite_temp_master) WHERE name = 'WI Generation' AND type = 'table'\n2020-09-04 21:07:38,859 INFO sqlalchemy.engine.base.Engine ()\n2020-09-04 21:07:38,860 INFO sqlalchemy.engine.base.Engine PRAGMA main.index_list(\"WI Generation\")\n2020-09-04 21:07:38,860 INFO sqlalchemy.engine.base.Engine ()\n2020-09-04 21:07:38,861 INFO sqlalchemy.engine.base.Engine PRAGMA main.index_info(\"ix_WI Generation_index\")\n2020-09-04 21:07:38,861 INFO sqlalchemy.engine.base.Engine ()\n2020-09-04 21:07:38,862 INFO sqlalchemy.engine.base.Engine PRAGMA main.index_list(\"WI Generation\")\n2020-09-04 21:07:38,862 INFO sqlalchemy.engine.base.Engine ()\n2020-09-04 21:07:38,863 INFO sqlalchemy.engine.base.Engine PRAGMA main.index_info(\"ix_WI Generation_index\")\n2020-09-04 21:07:38,863 INFO sqlalchemy.engine.base.Engine ()\n2020-09-04 21:07:38,864 INFO sqlalchemy.engine.base.Engine SELECT sql FROM  (SELECT * FROM sqlite_master UNION ALL   SELECT * FROM sqlite_temp_master) WHERE name = 'WI Generation' AND type = 'table'\n2020-09-04 21:07:38,864 INFO sqlalchemy.engine.base.Engine ()\n2020-09-04 21:07:38,865 INFO sqlalchemy.engine.base.Engine \nDROP TABLE \"WI Generation\"\n2020-09-04 21:07:38,866 INFO sqlalchemy.engine.base.Engine ()\n2020-09-04 21:07:38,867 INFO sqlalchemy.engine.base.Engine COMMIT\n2020-09-04 21:07:38,869 INFO sqlalchemy.engine.base.Engine \nCREATE TABLE \"WI Generation\" (\n\t\"index\" BIGINT, \n\t\"Natural Gas\" FLOAT, \n\t\"Coal\" FLOAT, \n\t\"Petroleum Liquids\" FLOAT, \n\t\"Petroleum Coke\" FLOAT, \n\t\"Other Gasses\" FLOAT, \n\t\"Nuclear\" FLOAT, \n\t\"Hydroelectric\" FLOAT, \n\t\"Wind\" FLOAT, \n\t\"Wood and Wood Derived Fuels\" FLOAT, \n\t\"Other Biomass\" FLOAT, \n\t\"Geothermal\" BIGINT, \n\t\"All Other Renewables\" BIGINT, \n\t\"All Solar\" BIGINT, \n\t\"Other\" BIGINT, \n\t\"Utility Scale Thermal\" BIGINT, \n\t\"Hydroelectic Pumped Storage\" BIGINT\n)\n\n\n2020-09-04 21:07:38,869 INFO sqlalchemy.engine.base.Engine ()\n2020-09-04 21:07:38,871 INFO sqlalchemy.engine.base.Engine COMMIT\n2020-09-04 21:07:38,871 INFO sqlalchemy.engine.base.Engine CREATE INDEX \"ix_WI Generation_index\" ON \"WI Generation\" (\"index\")\n2020-09-04 21:07:38,871 INFO sqlalchemy.engine.base.Engine ()\n2020-09-04 21:07:38,873 INFO sqlalchemy.engine.base.Engine COMMIT\n2020-09-04 21:07:38,874 INFO sqlalchemy.engine.base.Engine BEGIN (implicit)\n2020-09-04 21:07:38,875 INFO sqlalchemy.engine.base.Engine INSERT INTO \"WI Generation\" (\"index\", \"Natural Gas\", \"Coal\", \"Petroleum Liquids\", \"Petroleum Coke\", \"Other Gasses\", \"Nuclear\", \"Hydroelectric\", \"Wind\", \"Wood and Wood Derived Fuels\", \"Other Biomass\", \"Geothermal\", \"All Other Renewables\", \"All Solar\", \"Other\", \"Utility Scale Thermal\", \"Hydroelectic Pumped Storage\") VALUES (?, ?, ?, ?, ?, ?, ?, ?, ?, ?, ?, ?, ?, ?, ?, ?, ?)\n2020-09-04 21:07:38,876 INFO sqlalchemy.engine.base.Engine ((2001, 2233.965, 41253.456, 158.839, 288.944, 0.0, 11507.078, 2056.244, 72.284, 705.35, 324.57624, 0, 0, 0, 0, 0, 0), (2002, 2076.314, 39807.484, 109.303, 313.374, 0.0, 12448.813, 2515.017, 46.18, 644.947, 324.46558, 0, 0, 0, 0, 0, 0), (2003, 2478.39, 41717.216, 143.231, 329.557, 0.0, 12215.463, 1843.295, 97.58, 757.443, 370.70103, 0, 0, 0, 0, 0, 0), (2004, 2405.362, 42148.17629, 161.43, 634.18851, 0.0, 11887.849, 1980.67613, 103.563, 604.6339, 405.44251, 0, 0, 0, 0, 0, 0), (2005, 6386.79365, 41729.31343, 163.96753, 582.54246, 0.0, 9920.991, 1740.21896, 92.544, 740.34998, 348.75925, 0, 0, 0, 0, 0, 0), (2006, 5358.4816, 40116.49023, 135.70123, 741.48433, 0.0, 12233.515, 1678.5983, 101.376, 773.8628, 390.38431, 0, 0, 0, 0, 0, 0), (2007, 6488.75032, 40028.24955, 159.71219, 853.70149, 0.0, 12910.319, 1516.08286, 109.283, 785.07895, 435.15566, 0, 0, 0, 0, 0, 0), (2008, 5243.58889, 41705.86048, 96.00967, 835.15012, 0.0, 12154.51, 1616.14196, 487.141, 775.04025, 491.75416, 0, 0, 0, 0, 0, 0)  ... displaying 10 of 19 total bound parameter sets ...  (2018, 16798.65559, 33322.37949, 36.08083, 101.4305, 0.0, 10129.122, 2392.00955, 1637.658, 883.11537, 554.03916, 0, 0, 0, 0, 0, 0), (2019, 21136.97903, 26348.94969, 46.54271, 89.68668, 0.0, 10030.305, 1992.70442, 1649.21371, 841.48595, 516.81845, 0, 0, 0, 0, 0, 0))\n2020-09-04 21:07:38,878 INFO sqlalchemy.engine.base.Engine COMMIT\n2020-09-04 21:07:38,879 INFO sqlalchemy.engine.base.Engine SELECT name FROM sqlite_master WHERE type='table' ORDER BY name\n2020-09-04 21:07:38,880 INFO sqlalchemy.engine.base.Engine ()\n'series'. Geothermal not found in WI.\n2020-09-04 21:07:44,220 INFO sqlalchemy.engine.base.Engine PRAGMA main.table_info(\"WY Generation\")\n2020-09-04 21:07:44,221 INFO sqlalchemy.engine.base.Engine ()\n2020-09-04 21:07:44,221 INFO sqlalchemy.engine.base.Engine PRAGMA temp.table_info(\"WY Generation\")\n2020-09-04 21:07:44,222 INFO sqlalchemy.engine.base.Engine ()\n2020-09-04 21:07:44,224 INFO sqlalchemy.engine.base.Engine \nCREATE TABLE \"WY Generation\" (\n\t\"index\" BIGINT, \n\t\"Natural Gas\" FLOAT, \n\t\"Coal\" BIGINT, \n\t\"Petroleum Liquids\" BIGINT, \n\t\"Petroleum Coke\" BIGINT, \n\t\"Other Gasses\" BIGINT, \n\t\"Nuclear\" BIGINT, \n\t\"Hydroelectric\" BIGINT, \n\t\"Wind\" BIGINT, \n\t\"Wood and Wood Derived Fuels\" BIGINT, \n\t\"Other Biomass\" BIGINT, \n\t\"Geothermal\" BIGINT, \n\t\"All Other Renewables\" BIGINT, \n\t\"All Solar\" BIGINT, \n\t\"Other\" BIGINT, \n\t\"Utility Scale Thermal\" BIGINT, \n\t\"Hydroelectic Pumped Storage\" BIGINT\n)\n\n\n2020-09-04 21:07:44,224 INFO sqlalchemy.engine.base.Engine ()\n2020-09-04 21:07:44,226 INFO sqlalchemy.engine.base.Engine COMMIT\n2020-09-04 21:07:44,227 INFO sqlalchemy.engine.base.Engine CREATE INDEX \"ix_WY Generation_index\" ON \"WY Generation\" (\"index\")\n2020-09-04 21:07:44,228 INFO sqlalchemy.engine.base.Engine ()\n2020-09-04 21:07:44,229 INFO sqlalchemy.engine.base.Engine COMMIT\n2020-09-04 21:07:44,231 INFO sqlalchemy.engine.base.Engine BEGIN (implicit)\n2020-09-04 21:07:44,233 INFO sqlalchemy.engine.base.Engine INSERT INTO \"WY Generation\" (\"index\", \"Natural Gas\", \"Coal\", \"Petroleum Liquids\", \"Petroleum Coke\", \"Other Gasses\", \"Nuclear\", \"Hydroelectric\", \"Wind\", \"Wood and Wood Derived Fuels\", \"Other Biomass\", \"Geothermal\", \"All Other Renewables\", \"All Solar\", \"Other\", \"Utility Scale Thermal\", \"Hydroelectic Pumped Storage\") VALUES (?, ?, ?, ?, ?, ?, ?, ?, ?, ?, ?, ?, ?, ?, ?, ?, ?)\n2020-09-04 21:07:44,234 INFO sqlalchemy.engine.base.Engine ((2001, 591.842, 0, 0, 0, 0, 0, 0, 0, 0, 0, 0, 0, 0, 0, 0, 0), (2002, 713.08, 0, 0, 0, 0, 0, 0, 0, 0, 0, 0, 0, 0, 0, 0, 0), (2003, 280.196, 0, 0, 0, 0, 0, 0, 0, 0, 0, 0, 0, 0, 0, 0, 0), (2004, 86.89748, 0, 0, 0, 0, 0, 0, 0, 0, 0, 0, 0, 0, 0, 0, 0), (2005, 324.98139, 0, 0, 0, 0, 0, 0, 0, 0, 0, 0, 0, 0, 0, 0, 0), (2006, 501.27013, 0, 0, 0, 0, 0, 0, 0, 0, 0, 0, 0, 0, 0, 0, 0), (2007, 594.02585, 0, 0, 0, 0, 0, 0, 0, 0, 0, 0, 0, 0, 0, 0, 0), (2008, 494.67877, 0, 0, 0, 0, 0, 0, 0, 0, 0, 0, 0, 0, 0, 0, 0)  ... displaying 10 of 19 total bound parameter sets ...  (2018, 896.12229, 0, 0, 0, 0, 0, 0, 0, 0, 0, 0, 0, 0, 0, 0, 0), (2019, 1041.75975, 0, 0, 0, 0, 0, 0, 0, 0, 0, 0, 0, 0, 0, 0, 0))\n2020-09-04 21:07:44,236 INFO sqlalchemy.engine.base.Engine COMMIT\n2020-09-04 21:07:44,237 INFO sqlalchemy.engine.base.Engine SELECT name FROM sqlite_master WHERE type='table' ORDER BY name\n2020-09-04 21:07:44,238 INFO sqlalchemy.engine.base.Engine ()\n2020-09-04 21:07:44,389 INFO sqlalchemy.engine.base.Engine PRAGMA main.table_info(\"WY Generation\")\n2020-09-04 21:07:44,390 INFO sqlalchemy.engine.base.Engine ()\n2020-09-04 21:07:44,391 INFO sqlalchemy.engine.base.Engine PRAGMA main.table_info(\"WY Generation\")\n2020-09-04 21:07:44,391 INFO sqlalchemy.engine.base.Engine ()\n2020-09-04 21:07:44,392 INFO sqlalchemy.engine.base.Engine SELECT name FROM sqlite_master WHERE type='table' ORDER BY name\n2020-09-04 21:07:44,393 INFO sqlalchemy.engine.base.Engine ()\n2020-09-04 21:07:44,395 INFO sqlalchemy.engine.base.Engine PRAGMA main.table_xinfo(\"WY Generation\")\n2020-09-04 21:07:44,395 INFO sqlalchemy.engine.base.Engine ()\n2020-09-04 21:07:44,397 INFO sqlalchemy.engine.base.Engine SELECT sql FROM  (SELECT * FROM sqlite_master UNION ALL   SELECT * FROM sqlite_temp_master) WHERE name = 'WY Generation' AND type = 'table'\n2020-09-04 21:07:44,397 INFO sqlalchemy.engine.base.Engine ()\n2020-09-04 21:07:44,398 INFO sqlalchemy.engine.base.Engine PRAGMA main.foreign_key_list(\"WY Generation\")\n2020-09-04 21:07:44,399 INFO sqlalchemy.engine.base.Engine ()\n2020-09-04 21:07:44,399 INFO sqlalchemy.engine.base.Engine PRAGMA temp.foreign_key_list(\"WY Generation\")\n2020-09-04 21:07:44,400 INFO sqlalchemy.engine.base.Engine ()\n2020-09-04 21:07:44,400 INFO sqlalchemy.engine.base.Engine SELECT sql FROM  (SELECT * FROM sqlite_master UNION ALL   SELECT * FROM sqlite_temp_master) WHERE name = 'WY Generation' AND type = 'table'\n2020-09-04 21:07:44,401 INFO sqlalchemy.engine.base.Engine ()\n2020-09-04 21:07:44,402 INFO sqlalchemy.engine.base.Engine PRAGMA main.index_list(\"WY Generation\")\n2020-09-04 21:07:44,402 INFO sqlalchemy.engine.base.Engine ()\n2020-09-04 21:07:44,403 INFO sqlalchemy.engine.base.Engine PRAGMA main.index_info(\"ix_WY Generation_index\")\n2020-09-04 21:07:44,403 INFO sqlalchemy.engine.base.Engine ()\n2020-09-04 21:07:44,404 INFO sqlalchemy.engine.base.Engine PRAGMA main.index_list(\"WY Generation\")\n2020-09-04 21:07:44,404 INFO sqlalchemy.engine.base.Engine ()\n2020-09-04 21:07:44,405 INFO sqlalchemy.engine.base.Engine PRAGMA main.index_info(\"ix_WY Generation_index\")\n2020-09-04 21:07:44,405 INFO sqlalchemy.engine.base.Engine ()\n2020-09-04 21:07:44,406 INFO sqlalchemy.engine.base.Engine SELECT sql FROM  (SELECT * FROM sqlite_master UNION ALL   SELECT * FROM sqlite_temp_master) WHERE name = 'WY Generation' AND type = 'table'\n2020-09-04 21:07:44,406 INFO sqlalchemy.engine.base.Engine ()\n2020-09-04 21:07:44,407 INFO sqlalchemy.engine.base.Engine \nDROP TABLE \"WY Generation\"\n2020-09-04 21:07:44,407 INFO sqlalchemy.engine.base.Engine ()\n2020-09-04 21:07:44,409 INFO sqlalchemy.engine.base.Engine COMMIT\n2020-09-04 21:07:44,410 INFO sqlalchemy.engine.base.Engine \nCREATE TABLE \"WY Generation\" (\n\t\"index\" BIGINT, \n\t\"Natural Gas\" FLOAT, \n\t\"Coal\" FLOAT, \n\t\"Petroleum Liquids\" BIGINT, \n\t\"Petroleum Coke\" BIGINT, \n\t\"Other Gasses\" BIGINT, \n\t\"Nuclear\" BIGINT, \n\t\"Hydroelectric\" BIGINT, \n\t\"Wind\" BIGINT, \n\t\"Wood and Wood Derived Fuels\" BIGINT, \n\t\"Other Biomass\" BIGINT, \n\t\"Geothermal\" BIGINT, \n\t\"All Other Renewables\" BIGINT, \n\t\"All Solar\" BIGINT, \n\t\"Other\" BIGINT, \n\t\"Utility Scale Thermal\" BIGINT, \n\t\"Hydroelectic Pumped Storage\" BIGINT\n)\n\n\n2020-09-04 21:07:44,411 INFO sqlalchemy.engine.base.Engine ()\n2020-09-04 21:07:44,412 INFO sqlalchemy.engine.base.Engine COMMIT\n2020-09-04 21:07:44,413 INFO sqlalchemy.engine.base.Engine CREATE INDEX \"ix_WY Generation_index\" ON \"WY Generation\" (\"index\")\n2020-09-04 21:07:44,413 INFO sqlalchemy.engine.base.Engine ()\n2020-09-04 21:07:44,414 INFO sqlalchemy.engine.base.Engine COMMIT\n2020-09-04 21:07:44,415 INFO sqlalchemy.engine.base.Engine BEGIN (implicit)\n2020-09-04 21:07:44,417 INFO sqlalchemy.engine.base.Engine INSERT INTO \"WY Generation\" (\"index\", \"Natural Gas\", \"Coal\", \"Petroleum Liquids\", \"Petroleum Coke\", \"Other Gasses\", \"Nuclear\", \"Hydroelectric\", \"Wind\", \"Wood and Wood Derived Fuels\", \"Other Biomass\", \"Geothermal\", \"All Other Renewables\", \"All Solar\", \"Other\", \"Utility Scale Thermal\", \"Hydroelectic Pumped Storage\") VALUES (?, ?, ?, ?, ?, ?, ?, ?, ?, ?, ?, ?, ?, ?, ?, ?, ?)\n2020-09-04 21:07:44,417 INFO sqlalchemy.engine.base.Engine ((2001, 591.842, 42789.31, 0, 0, 0, 0, 0, 0, 0, 0, 0, 0, 0, 0, 0, 0), (2002, 713.08, 41923.161, 0, 0, 0, 0, 0, 0, 0, 0, 0, 0, 0, 0, 0, 0), (2003, 280.196, 42341.452, 0, 0, 0, 0, 0, 0, 0, 0, 0, 0, 0, 0, 0, 0), (2004, 86.89748, 43345.74026, 0, 0, 0, 0, 0, 0, 0, 0, 0, 0, 0, 0, 0, 0), (2005, 324.98139, 43345.67563, 0, 0, 0, 0, 0, 0, 0, 0, 0, 0, 0, 0, 0, 0), (2006, 501.27013, 42891.82671, 0, 0, 0, 0, 0, 0, 0, 0, 0, 0, 0, 0, 0, 0), (2007, 594.02585, 43126.8092, 0, 0, 0, 0, 0, 0, 0, 0, 0, 0, 0, 0, 0, 0), (2008, 494.67877, 43807.9031, 0, 0, 0, 0, 0, 0, 0, 0, 0, 0, 0, 0, 0, 0)  ... displaying 10 of 19 total bound parameter sets ...  (2018, 896.12229, 39679.287, 0, 0, 0, 0, 0, 0, 0, 0, 0, 0, 0, 0, 0, 0), (2019, 1041.75975, 34846.11571, 0, 0, 0, 0, 0, 0, 0, 0, 0, 0, 0, 0, 0, 0))\n2020-09-04 21:07:44,418 INFO sqlalchemy.engine.base.Engine COMMIT\n2020-09-04 21:07:44,419 INFO sqlalchemy.engine.base.Engine SELECT name FROM sqlite_master WHERE type='table' ORDER BY name\n2020-09-04 21:07:44,420 INFO sqlalchemy.engine.base.Engine ()\n2020-09-04 21:07:44,588 INFO sqlalchemy.engine.base.Engine PRAGMA main.table_info(\"WY Generation\")\n2020-09-04 21:07:44,588 INFO sqlalchemy.engine.base.Engine ()\n2020-09-04 21:07:44,589 INFO sqlalchemy.engine.base.Engine PRAGMA main.table_info(\"WY Generation\")\n2020-09-04 21:07:44,590 INFO sqlalchemy.engine.base.Engine ()\n2020-09-04 21:07:44,590 INFO sqlalchemy.engine.base.Engine SELECT name FROM sqlite_master WHERE type='table' ORDER BY name\n2020-09-04 21:07:44,591 INFO sqlalchemy.engine.base.Engine ()\n2020-09-04 21:07:44,592 INFO sqlalchemy.engine.base.Engine PRAGMA main.table_xinfo(\"WY Generation\")\n2020-09-04 21:07:44,593 INFO sqlalchemy.engine.base.Engine ()\n2020-09-04 21:07:44,594 INFO sqlalchemy.engine.base.Engine SELECT sql FROM  (SELECT * FROM sqlite_master UNION ALL   SELECT * FROM sqlite_temp_master) WHERE name = 'WY Generation' AND type = 'table'\n2020-09-04 21:07:44,595 INFO sqlalchemy.engine.base.Engine ()\n2020-09-04 21:07:44,596 INFO sqlalchemy.engine.base.Engine PRAGMA main.foreign_key_list(\"WY Generation\")\n2020-09-04 21:07:44,596 INFO sqlalchemy.engine.base.Engine ()\n2020-09-04 21:07:44,597 INFO sqlalchemy.engine.base.Engine PRAGMA temp.foreign_key_list(\"WY Generation\")\n2020-09-04 21:07:44,597 INFO sqlalchemy.engine.base.Engine ()\n2020-09-04 21:07:44,598 INFO sqlalchemy.engine.base.Engine SELECT sql FROM  (SELECT * FROM sqlite_master UNION ALL   SELECT * FROM sqlite_temp_master) WHERE name = 'WY Generation' AND type = 'table'\n2020-09-04 21:07:44,598 INFO sqlalchemy.engine.base.Engine ()\n2020-09-04 21:07:44,599 INFO sqlalchemy.engine.base.Engine PRAGMA main.index_list(\"WY Generation\")\n2020-09-04 21:07:44,599 INFO sqlalchemy.engine.base.Engine ()\n2020-09-04 21:07:44,600 INFO sqlalchemy.engine.base.Engine PRAGMA main.index_info(\"ix_WY Generation_index\")\n2020-09-04 21:07:44,600 INFO sqlalchemy.engine.base.Engine ()\n2020-09-04 21:07:44,601 INFO sqlalchemy.engine.base.Engine PRAGMA main.index_list(\"WY Generation\")\n2020-09-04 21:07:44,602 INFO sqlalchemy.engine.base.Engine ()\n2020-09-04 21:07:44,602 INFO sqlalchemy.engine.base.Engine PRAGMA main.index_info(\"ix_WY Generation_index\")\n2020-09-04 21:07:44,603 INFO sqlalchemy.engine.base.Engine ()\n2020-09-04 21:07:44,603 INFO sqlalchemy.engine.base.Engine SELECT sql FROM  (SELECT * FROM sqlite_master UNION ALL   SELECT * FROM sqlite_temp_master) WHERE name = 'WY Generation' AND type = 'table'\n2020-09-04 21:07:44,604 INFO sqlalchemy.engine.base.Engine ()\n2020-09-04 21:07:44,605 INFO sqlalchemy.engine.base.Engine \nDROP TABLE \"WY Generation\"\n2020-09-04 21:07:44,605 INFO sqlalchemy.engine.base.Engine ()\n2020-09-04 21:07:44,606 INFO sqlalchemy.engine.base.Engine COMMIT\n2020-09-04 21:07:44,608 INFO sqlalchemy.engine.base.Engine \nCREATE TABLE \"WY Generation\" (\n\t\"index\" BIGINT, \n\t\"Natural Gas\" FLOAT, \n\t\"Coal\" FLOAT, \n\t\"Petroleum Liquids\" FLOAT, \n\t\"Petroleum Coke\" BIGINT, \n\t\"Other Gasses\" BIGINT, \n\t\"Nuclear\" BIGINT, \n\t\"Hydroelectric\" BIGINT, \n\t\"Wind\" BIGINT, \n\t\"Wood and Wood Derived Fuels\" BIGINT, \n\t\"Other Biomass\" BIGINT, \n\t\"Geothermal\" BIGINT, \n\t\"All Other Renewables\" BIGINT, \n\t\"All Solar\" BIGINT, \n\t\"Other\" BIGINT, \n\t\"Utility Scale Thermal\" BIGINT, \n\t\"Hydroelectic Pumped Storage\" BIGINT\n)\n\n\n2020-09-04 21:07:44,608 INFO sqlalchemy.engine.base.Engine ()\n2020-09-04 21:07:44,610 INFO sqlalchemy.engine.base.Engine COMMIT\n2020-09-04 21:07:44,610 INFO sqlalchemy.engine.base.Engine CREATE INDEX \"ix_WY Generation_index\" ON \"WY Generation\" (\"index\")\n2020-09-04 21:07:44,611 INFO sqlalchemy.engine.base.Engine ()\n2020-09-04 21:07:44,612 INFO sqlalchemy.engine.base.Engine COMMIT\n2020-09-04 21:07:44,613 INFO sqlalchemy.engine.base.Engine BEGIN (implicit)\n2020-09-04 21:07:44,615 INFO sqlalchemy.engine.base.Engine INSERT INTO \"WY Generation\" (\"index\", \"Natural Gas\", \"Coal\", \"Petroleum Liquids\", \"Petroleum Coke\", \"Other Gasses\", \"Nuclear\", \"Hydroelectric\", \"Wind\", \"Wood and Wood Derived Fuels\", \"Other Biomass\", \"Geothermal\", \"All Other Renewables\", \"All Solar\", \"Other\", \"Utility Scale Thermal\", \"Hydroelectic Pumped Storage\") VALUES (?, ?, ?, ?, ?, ?, ?, ?, ?, ?, ?, ?, ?, ?, ?, ?, ?)\n2020-09-04 21:07:44,615 INFO sqlalchemy.engine.base.Engine ((2001, 591.842, 42789.31, 36.096, 0, 0, 0, 0, 0, 0, 0, 0, 0, 0, 0, 0, 0), (2002, 713.08, 41923.161, 40.104, 0, 0, 0, 0, 0, 0, 0, 0, 0, 0, 0, 0, 0), (2003, 280.196, 42341.452, 44.921, 0, 0, 0, 0, 0, 0, 0, 0, 0, 0, 0, 0, 0), (2004, 86.89748, 43345.74026, 45.85884, 0, 0, 0, 0, 0, 0, 0, 0, 0, 0, 0, 0, 0), (2005, 324.98139, 43345.67563, 42.30498, 0, 0, 0, 0, 0, 0, 0, 0, 0, 0, 0, 0, 0), (2006, 501.27013, 42891.82671, 45.937, 0, 0, 0, 0, 0, 0, 0, 0, 0, 0, 0, 0, 0), (2007, 594.02585, 43126.8092, 47.22188, 0, 0, 0, 0, 0, 0, 0, 0, 0, 0, 0, 0, 0), (2008, 494.67877, 43807.9031, 44.0269, 0, 0, 0, 0, 0, 0, 0, 0, 0, 0, 0, 0, 0)  ... displaying 10 of 19 total bound parameter sets ...  (2018, 896.12229, 39679.287, 40.13569, 0, 0, 0, 0, 0, 0, 0, 0, 0, 0, 0, 0, 0), (2019, 1041.75975, 34846.11571, 43.64481, 0, 0, 0, 0, 0, 0, 0, 0, 0, 0, 0, 0, 0))\n2020-09-04 21:07:44,617 INFO sqlalchemy.engine.base.Engine COMMIT\n2020-09-04 21:07:44,618 INFO sqlalchemy.engine.base.Engine SELECT name FROM sqlite_master WHERE type='table' ORDER BY name\n2020-09-04 21:07:44,619 INFO sqlalchemy.engine.base.Engine ()\n'series'. Petroleum Coke not found in WY.\nDone!\n"
    }
   ],
   "source": [
    "#list of the US Energy Sources by EIA.\n",
    "energySources = {\"Natural Gas\" : \"NG\",\n",
    "                \"Coal\" : \"COW\",\n",
    "                \"Petroleum Liquids\" : \"PEL\", \n",
    "                \"Petroleum Coke\" : \"PC\", \n",
    "                \"Other Gasses\": \"OOG\",\n",
    "                \"Nuclear\" : \"NUC\",\n",
    "                \"Hydroelectric\" : 'HYC',\n",
    "                \"Wind\" : \"WND\",\n",
    "                'Wood and Wood Derived Fuels' : 'WWW',\n",
    "                'Other Biomass' : 'WAS',\n",
    "                'Geothermal' : 'GEO',\n",
    "                'All Other Renewables' : \"AOR\",\n",
    "                \"All Solar\": 'TSN',\n",
    "                'Other' : 'OTH',\n",
    "                'Utility Scale Thermal' : 'STH',\n",
    "                'Hydroelectic Pumped Storage' : 'HPS'\n",
    "                }\n",
    "\n",
    "#For state in states\n",
    "for state in states:\n",
    "\n",
    "    #Empty Df to store data\n",
    "    energySrouce_df = pd.DataFrame(columns = energySources.keys(), index = range(2001,2020))\n",
    "\n",
    "    \n",
    "    try:\n",
    "        #For every statem loop each energy source.\n",
    "        for energySourceKey, energySourceValue in zip(energySources.keys(), energySources.values()):\n",
    "            \n",
    "            #builds api query.\n",
    "            priceQuery = f\"ELEC.GEN.{energySourceValue}-{state}-99.A\"\n",
    "            \n",
    "            #API url\n",
    "            url = f\"http://api.eia.gov/series/?api_key={API_KEY}&series_id={priceQuery}\"\n",
    "\n",
    "            #Api reqeust. \n",
    "            energySourceRequest = requests.get(url, allow_redirects = False) \n",
    "\n",
    "            #Extracts the year-energy liss\n",
    "            energySourceList = energySourceRequest.json()['series'][0]['data']\n",
    "\n",
    "            for energy in energySourceList:\n",
    "                energySrouce_df.loc[int(energy[0]), energySourceKey] = energy[1]\n",
    "\n",
    "            energySrouce_df = energySrouce_df.fillna(0)\n",
    "\n",
    "            #Save to Sqlite \n",
    "            energySrouce_df.to_sql(f'{state} Generation', conn, if_exists='replace')\n",
    "    \n",
    "    #if energy surce is not found.\n",
    "    except KeyError as K:\n",
    "        print(f'{K}. {energySourceKey} not found in {state}.')\n",
    "\n",
    "        time.sleep(5)\n",
    "\n",
    "print('Done!')"
   ]
  },
  {
   "cell_type": "code",
   "execution_count": 23,
   "metadata": {
    "tags": []
   },
   "outputs": [
    {
     "output_type": "stream",
     "name": "stdout",
     "text": "2020-09-08 19:58:32,148 INFO sqlalchemy.engine.base.Engine SELECT * from 'TX Generation'\n2020-09-08 19:58:32,149 INFO sqlalchemy.engine.base.Engine ()\n"
    }
   ],
   "source": [
    "#To view the sqlite \n",
    "state = \"TX\"\n",
    "stateGeneration = pd.read_sql_query(f\"SELECT * from '{state} Generation'\", conn) #State Initials to display table.\n",
    "\n",
    "stateGeneration.set_index('index', inplace = True)\n",
    "\n",
    "energyGenerationOutput = stateGeneration.to_json(f'Output Files/{state} Energy Generation.json')\n"
   ]
  },
  {
   "cell_type": "markdown",
   "metadata": {},
   "source": [
    "# Energy Consumption by State\n",
    "\n",
    "<img src=\"images/Energy Classification.png\">\n"
   ]
  },
  {
   "cell_type": "code",
   "execution_count": 18,
   "metadata": {
    "tags": []
   },
   "outputs": [
    {
     "output_type": "stream",
     "name": "stdout",
     "text": "2020-09-04 20:38:38,824 INFO sqlalchemy.engine.base.Engine PRAGMA main.table_info(\"End User Consumption\")\n2020-09-04 20:38:38,825 INFO sqlalchemy.engine.base.Engine ()\n2020-09-04 20:38:38,825 INFO sqlalchemy.engine.base.Engine PRAGMA temp.table_info(\"End User Consumption\")\n2020-09-04 20:38:38,825 INFO sqlalchemy.engine.base.Engine ()\n2020-09-04 20:38:38,828 INFO sqlalchemy.engine.base.Engine \nCREATE TABLE \"End User Consumption\" (\n\t\"index\" TEXT, \n\t\"AL\" TEXT, \n\t\"AK\" TEXT, \n\t\"AZ\" TEXT, \n\t\"AR\" TEXT, \n\t\"CA\" TEXT, \n\t\"CO\" TEXT, \n\t\"CT\" TEXT, \n\t\"DC\" TEXT, \n\t\"DE\" TEXT, \n\t\"FL\" TEXT, \n\t\"GA\" TEXT, \n\t\"HI\" TEXT, \n\t\"ID\" TEXT, \n\t\"IL\" TEXT, \n\t\"IN\" TEXT, \n\t\"IA\" TEXT, \n\t\"KS\" TEXT, \n\t\"KY\" TEXT, \n\t\"LA\" TEXT, \n\t\"ME\" TEXT, \n\t\"MD\" TEXT, \n\t\"MA\" TEXT, \n\t\"MI\" TEXT, \n\t\"MN\" TEXT, \n\t\"MS\" TEXT, \n\t\"MO\" TEXT, \n\t\"MT\" TEXT, \n\t\"NE\" TEXT, \n\t\"NV\" TEXT, \n\t\"NH\" TEXT, \n\t\"NJ\" TEXT, \n\t\"NM\" TEXT, \n\t\"NY\" TEXT, \n\t\"NC\" TEXT, \n\t\"ND\" TEXT, \n\t\"OH\" TEXT, \n\t\"OK\" TEXT, \n\t\"OR\" TEXT, \n\t\"PA\" TEXT, \n\t\"RI\" TEXT, \n\t\"SC\" TEXT, \n\t\"SD\" TEXT, \n\t\"TN\" TEXT, \n\t\"TX\" TEXT, \n\t\"UT\" TEXT, \n\t\"VT\" TEXT, \n\t\"VA\" TEXT, \n\t\"WA\" TEXT, \n\t\"WV\" TEXT, \n\t\"WI\" TEXT, \n\t\"WY\" TEXT\n)\n\n\n2020-09-04 20:38:38,829 INFO sqlalchemy.engine.base.Engine ()\n2020-09-04 20:38:38,832 INFO sqlalchemy.engine.base.Engine COMMIT\n2020-09-04 20:38:38,833 INFO sqlalchemy.engine.base.Engine CREATE INDEX \"ix_End User Consumption_index\" ON \"End User Consumption\" (\"index\")\n2020-09-04 20:38:38,834 INFO sqlalchemy.engine.base.Engine ()\n2020-09-04 20:38:38,835 INFO sqlalchemy.engine.base.Engine COMMIT\n2020-09-04 20:38:38,837 INFO sqlalchemy.engine.base.Engine BEGIN (implicit)\n2020-09-04 20:38:38,840 INFO sqlalchemy.engine.base.Engine INSERT INTO \"End User Consumption\" (\"index\", \"AL\", \"AK\", \"AZ\", \"AR\", \"CA\", \"CO\", \"CT\", \"DC\", \"DE\", \"FL\", \"GA\", \"HI\", \"ID\", \"IL\", \"IN\", \"IA\", \"KS\", \"KY\", \"LA\", \"ME\", \"MD\", \"MA\", \"MI\", \"MN\", \"MS\", \"MO\", \"MT\", \"NE\", \"NV\", \"NH\", \"NJ\", \"NM\", \"NY\", \"NC\", \"ND\", \"OH\", \"OK\", \"OR\", \"PA\", \"RI\", \"SC\", \"SD\", \"TN\", \"TX\", \"UT\", \"VT\", \"VA\", \"WA\", \"WV\", \"WI\", \"WY\") VALUES (?, ?, ?, ?, ?, ?, ?, ?, ?, ?, ?, ?, ?, ?, ?, ?, ?, ?, ?, ?, ?, ?, ?, ?, ?, ?, ?, ?, ?, ?, ?, ?, ?, ?, ?, ?, ?, ?, ?, ?, ?, ?, ?, ?, ?, ?, ?, ?, ?, ?, ?, ?)\n2020-09-04 20:38:38,840 INFO sqlalchemy.engine.base.Engine (('Coal', '(4.3%)', '(1.2%)', '(0.7%)', '(0.5%)', '(0.5%)', '(0.3%)', '(0.0%)', '(0.0%)', '(0.0%)', '(0.4%)', '(0.4%)', '(0.0%)', '(0.7%)', '(2.8%)', '(7.6%)', '(3.5%)', '(0.3%)', '(1.7%)', '(0.1%)', '(0.2%)', '(1.3%)', '(0.0%)', '(2.5%)', '(1.4%)', '(0.0%)', '(1.5%)', '(1.3%)', '(3.0%)', '(1.3%)', '(0.0%)', '(0.0%)', '(0.3%)', '(0.3%)', '(0.7%)', '(18.6%)', '(4.2%)', '(0.5%)', '(0.2%)', '(5.9%)', '(0.0%)', '(0.5%)', '(1.0%)', '(2.4%)', '(0.1%)', '(1.4%)', '(0.0%)', '(2.7%)', '(0.1%)', '(4.7%)', '(1.5%)', '(7.3%)'), ('Naturalgas', '(23.3%)', '(55.8%)', '(10.7%)', '(26.2%)', '(24.7%)', '(34.2%)', '(25.0%)', '(35.0%)', '(28.5%)', '(7.3%)', '(19.0%)', '(1.3%)', '(22.8%)', '(33.7%)', '(33.3%)', '(32.0%)', '(35.2%)', '(20.2%)', '(40.1%)', '(10.2%)', '(22.8%)', '(28.2%)', '(34.2%)', '(30.8%)', '(23.1%)', '(21.2%)', '(25.9%)', '(27.4%)', '(19.8%)', '(11.9%)', '(28.6%)', '(32.7%)', '(32.7%)', '(15.2%)', '(24.5%)', '(31.9%)', '(38.4%)', '(19.2%)', '(32.0%)', '(28.3%)', '(14.6%)', '(27.3%)', '(19.8%)', '(24.8%)', '(30.2%)', '(10.8%)', '(18.0%)', '(16.7%)', '(35.3%)', '(31.2%)', '(39.9%)'), ('Petroleum', '(38.9%)', '(37.8%)', '(58.0%)', '(43.0%)', '(57.7%)', '(46.1%)', '(55.3%)', '(21.6%)', '(51.8%)', '(59.4%)', '(46.5%)', '(78.7%)', '(46.7%)', '(43.6%)', '(37.2%)', '(33.2%)', '(43.1%)', '(52.8%)', '(48.4%)', '(53.8%)', '(50.5%)', '(52.1%)', '(41.4%)', '(43.0%)', '(52.3%)', '(51.3%)', '(51.7%)', '(36.8%)', '(52.0%)', '(65.0%)', '(55.0%)', '(49.2%)', '(46.5%)', '(51.1%)', '(38.0%)', '(41.7%)', '(42.2%)', '(48.0%)', '(41.5%)', '(54.1%)', '(50.8%)', '(38.1%)', '(49.4%)', '(61.7%)', '(49.9%)', '(60.0%)', '(49.4%)', '(55.2%)', '(37.6%)', '(40.9%)', '(38.2%)'), ('Renewableenergy', '(11.6%)', '(1.6%)', '(3.3%)', '(9.3%)', '(3.4%)', '(2.3%)', '(2.9%)', '(1.7%)', '(1.1%)', '(5.1%)', '(9.9%)', '(6.5%)', '(9.7%)', '(3.5%)', '(4.7%)', '(18.0%)', '(4.1%)', '(3.2%)', '(3.1%)', '(23.1%)', '(2.6%)', '(3.4%)', '(5.6%)', '(8.7%)', '(6.0%)', '(3.4%)', '(5.7%)', '(17.4%)', '(2.2%)', '(7.8%)', '(1.7%)', '(2.8%)', '(3.2%)', '(5.4%)', '(5.3%)', '(3.1%)', '(2.2%)', '(9.8%)', '(3.6%)', '(1.6%)', '(8.3%)', '(19.6%)', '(5.2%)', '(0.9%)', '(1.5%)', '(14.8%)', '(5.2%)', '(7.5%)', '(3.1%)', '(8.9%)', '(1.3%)'), ('Electricity', '(21.9%)', '(3.5%)', '(27.4%)', '(21.0%)', '(13.7%)', '(17.0%)', '(16.8%)', '(41.6%)', '(18.6%)', '(27.7%)', '(24.2%)', '(13.4%)', '(20.1%)', '(16.4%)', '(17.2%)', '(13.3%)', '(17.3%)', '(22.1%)', '(8.3%)', '(12.7%)', '(22.8%)', '(16.3%)', '(16.4%)', '(16.2%)', '(18.6%)', '(22.5%)', '(15.4%)', '(15.4%)', '(24.7%)', '(15.3%)', '(14.7%)', '(15.0%)', '(17.3%)', '(27.6%)', '(13.7%)', '(19.1%)', '(16.7%)', '(22.9%)', '(17.0%)', '(16.0%)', '(25.7%)', '(14.0%)', '(23.2%)', '(12.5%)', '(16.9%)', '(14.3%)', '(24.7%)', '(20.5%)', '(19.2%)', '(17.5%)', '(13.3%)'))\n2020-09-04 20:38:38,842 INFO sqlalchemy.engine.base.Engine COMMIT\n2020-09-04 20:38:38,843 INFO sqlalchemy.engine.base.Engine SELECT name FROM sqlite_master WHERE type='table' ORDER BY name\n2020-09-04 20:38:38,843 INFO sqlalchemy.engine.base.Engine ()\n"
    }
   ],
   "source": [
    "# Empty dataframe to store the data \n",
    "EndUseCosumption_df = pd.DataFrame(columns = states)\n",
    "\n",
    "for state in states:\n",
    "\n",
    "    #URL to scrape\n",
    "    url = f\"https://www.eia.gov/beta/states/states/{state}/overview\"\n",
    "\n",
    "    #Open url.\n",
    "    browser.get(url)\n",
    "\n",
    "    #Time to let the website load all the elements\n",
    "    time.sleep(3)\n",
    "\n",
    "    #save the html source.\n",
    "    html = browser.page_source\n",
    "\n",
    "    #Use bs4 to parse the html response.\n",
    "    soup = bs(html, \"html.parser\")\n",
    "\n",
    "    #List of classes to parse \n",
    "    parseClasses = [\"info-coal\",\"info-natural-gas\",\"info-petroleum\",\"info-renewable\",'info-electricity'] \n",
    "\n",
    "    for parseClass in parseClasses:\n",
    "\n",
    "        yummySoup = soup.find_all(\"li\", class_={parseClass})[0].text.split()\n",
    "\n",
    "        typeEnergy = yummySoup[0]\n",
    "\n",
    "        marketShare = yummySoup[2]\n",
    "\n",
    "        EndUseCosumption_df.loc[typeEnergy,state] = marketShare\n",
    "\n",
    "#Save to Sqlite \n",
    "EndUseCosumption_df.to_sql('End User Consumption', conn, if_exists='replace')"
   ]
  },
  {
   "cell_type": "code",
   "execution_count": 24,
   "metadata": {
    "tags": []
   },
   "outputs": [
    {
     "output_type": "stream",
     "name": "stdout",
     "text": "2020-09-08 19:58:45,803 INFO sqlalchemy.engine.base.Engine SELECT * from 'End User Consumption'\n2020-09-08 19:58:45,805 INFO sqlalchemy.engine.base.Engine ()\n"
    }
   ],
   "source": [
    "#To view the sqlite \n",
    "endUser = pd.read_sql_query(\"SELECT * from 'End User Consumption'\", conn)\n",
    "endUser\n",
    "\n",
    "state = 'TX'\n",
    "\n",
    "endUser.set_index('index', inplace= True)\n",
    "\n",
    "endUser.loc[:,state].to_json(f'Output Files/{state} End User Consumption.json')"
   ]
  },
  {
   "cell_type": "code",
   "execution_count": 19,
   "metadata": {
    "tags": []
   },
   "outputs": [
    {
     "output_type": "stream",
     "name": "stdout",
     "text": "2020-09-04 20:44:35,314 INFO sqlalchemy.engine.base.Engine PRAGMA main.table_info(\"Electric Power Consumption\")\n2020-09-04 20:44:35,314 INFO sqlalchemy.engine.base.Engine ()\n2020-09-04 20:44:35,315 INFO sqlalchemy.engine.base.Engine PRAGMA temp.table_info(\"Electric Power Consumption\")\n2020-09-04 20:44:35,315 INFO sqlalchemy.engine.base.Engine ()\n2020-09-04 20:44:35,319 INFO sqlalchemy.engine.base.Engine \nCREATE TABLE \"Electric Power Consumption\" (\n\t\"index\" TEXT, \n\t\"AL\" TEXT, \n\t\"AK\" TEXT, \n\t\"AZ\" TEXT, \n\t\"AR\" TEXT, \n\t\"CA\" TEXT, \n\t\"CO\" TEXT, \n\t\"CT\" TEXT, \n\t\"DC\" TEXT, \n\t\"DE\" TEXT, \n\t\"FL\" TEXT, \n\t\"GA\" TEXT, \n\t\"HI\" TEXT, \n\t\"ID\" TEXT, \n\t\"IL\" TEXT, \n\t\"IN\" TEXT, \n\t\"IA\" TEXT, \n\t\"KS\" TEXT, \n\t\"KY\" TEXT, \n\t\"LA\" TEXT, \n\t\"ME\" TEXT, \n\t\"MD\" TEXT, \n\t\"MA\" TEXT, \n\t\"MI\" TEXT, \n\t\"MN\" TEXT, \n\t\"MS\" TEXT, \n\t\"MO\" TEXT, \n\t\"MT\" TEXT, \n\t\"NE\" TEXT, \n\t\"NV\" TEXT, \n\t\"NH\" TEXT, \n\t\"NJ\" TEXT, \n\t\"NM\" TEXT, \n\t\"NY\" TEXT, \n\t\"NC\" TEXT, \n\t\"ND\" TEXT, \n\t\"OH\" TEXT, \n\t\"OK\" TEXT, \n\t\"OR\" TEXT, \n\t\"PA\" TEXT, \n\t\"RI\" TEXT, \n\t\"SC\" TEXT, \n\t\"SD\" TEXT, \n\t\"TN\" TEXT, \n\t\"TX\" TEXT, \n\t\"UT\" TEXT, \n\t\"VT\" TEXT, \n\t\"VA\" TEXT, \n\t\"WA\" TEXT, \n\t\"WV\" TEXT, \n\t\"WI\" TEXT, \n\t\"WY\" TEXT\n)\n\n\n2020-09-04 20:44:35,321 INFO sqlalchemy.engine.base.Engine ()\n2020-09-04 20:44:35,323 INFO sqlalchemy.engine.base.Engine COMMIT\n2020-09-04 20:44:35,324 INFO sqlalchemy.engine.base.Engine CREATE INDEX \"ix_Electric Power Consumption_index\" ON \"Electric Power Consumption\" (\"index\")\n2020-09-04 20:44:35,325 INFO sqlalchemy.engine.base.Engine ()\n2020-09-04 20:44:35,326 INFO sqlalchemy.engine.base.Engine COMMIT\n2020-09-04 20:44:35,328 INFO sqlalchemy.engine.base.Engine BEGIN (implicit)\n2020-09-04 20:44:35,524 INFO sqlalchemy.engine.base.Engine INSERT INTO \"Electric Power Consumption\" (\"index\", \"AL\", \"AK\", \"AZ\", \"AR\", \"CA\", \"CO\", \"CT\", \"DC\", \"DE\", \"FL\", \"GA\", \"HI\", \"ID\", \"IL\", \"IN\", \"IA\", \"KS\", \"KY\", \"LA\", \"ME\", \"MD\", \"MA\", \"MI\", \"MN\", \"MS\", \"MO\", \"MT\", \"NE\", \"NV\", \"NH\", \"NJ\", \"NM\", \"NY\", \"NC\", \"ND\", \"OH\", \"OK\", \"OR\", \"PA\", \"RI\", \"SC\", \"SD\", \"TN\", \"TX\", \"UT\", \"VT\", \"VA\", \"WA\", \"WV\", \"WI\", \"WY\") VALUES (?, ?, ?, ?, ?, ?, ?, ?, ?, ?, ?, ?, ?, ?, ?, ?, ?, ?, ?, ?, ?, ?, ?, ?, ?, ?, ?, ?, ?, ?, ?, ?, ?, ?, ?, ?, ?, ?, ?, ?, ?, ?, ?, ?, ?, ?, ?, ?, ?, ?, ?, ?)\n2020-09-04 20:44:35,525 INFO sqlalchemy.engine.base.Engine (('Coal', '(24.7%)', '(18.7%)', '(30.5%)', '(48.3%)', '(0.0%)', '(52.3%)', '(1.2%)', '(0.0%)', '(9.6%)', '(15.6%)', '(29.1%)', '(16.0%)', '(0.0%)', '(32.6%)', '(75.7%)', '(47.6%)', '(43.0%)', '(79.8%)', '(19.7%)', '(1.7%)', '(27.0%)', '(0.0%)', '(39.7%)', '(40.6%)', '(11.7%)', '(75.3%)', '(52.0%)', '(64.7%)', '(8.5%)', '(4.5%)', '(2.5%)', '(44.0%)', '(0.6%)', '(25.2%)', '(69.3%)', '(51.2%)', '(21.6%)', '(2.8%)', '(23.3%)', '(0.0%)', '(20.4%)', '(21.0%)', '(27.1%)', '(29.2%)', '(71.7%)', '(0.0%)', '(12.4%)', '(5.6%)', '(94.1%)', '(54.2%)', '(89.8%)'), ('Naturalgas', '(34.6%)', '(45.6%)', '(27.8%)', '(25.1%)', '(39.4%)', '(25.8%)', '(40.8%)', '(0.0%)', '(83.9%)', '(64.0%)', '(33.7%)', '(0.0%)', '(15.4%)', '(7.5%)', '(18.8%)', '(8.7%)', '(5.6%)', '(14.8%)', '(45.4%)', '(15.1%)', '(24.4%)', '(60.0%)', '(23.3%)', '(11.3%)', '(73.6%)', '(7.5%)', '(1.9%)', '(2.6%)', '(62.8%)', '(12.8%)', '(44.1%)', '(33.3%)', '(34.6%)', '(27.4%)', '(2.3%)', '(28.9%)', '(43.0%)', '(23.6%)', '(27.8%)', '(93.1%)', '(18.2%)', '(8.4%)', '(13.0%)', '(41.9%)', '(17.1%)', '(0.0%)', '(43.8%)', '(7.9%)', '(1.7%)', '(20.9%)', '(0.4%)'), ('Petroleum', '(0.1%)', '(8.7%)', '(0.1%)', '(0.1%)', '(0.0%)', '(0.0%)', '(0.9%)', '(0.0%)', '(4.4%)', '(1.1%)', '(0.2%)', '(72.6%)', '(0.0%)', '(0.0%)', '(0.1%)', '(0.1%)', '(0.1%)', '(0.1%)', '(6.9%)', '(2.1%)', '(0.8%)', '(2.0%)', '(1.4%)', '(0.1%)', '(0.1%)', '(0.1%)', '(2.5%)', '(0.1%)', '(0.0%)', '(1.0%)', '(0.2%)', '(0.1%)', '(1.2%)', '(0.6%)', '(0.1%)', '(1.5%)', '(0.0%)', '(0.0%)', '(0.4%)', '(1.0%)', '(0.3%)', '(0.1%)', '(0.2%)', '(0.0%)', '(0.1%)', '(0.2%)', '(1.1%)', '(0.0%)', '(0.2%)', '(0.3%)', '(0.1%)'), ('Renewableenergy', '(8.4%)', '(26.9%)', '(11.1%)', '(5.2%)', '(48.7%)', '(21.8%)', '(5.5%)', '(0.0%)', '(2.1%)', '(4.3%)', '(5.5%)', '(11.3%)', '(84.6%)', '(6.1%)', '(5.4%)', '(34.9%)', '(33.0%)', '(5.3%)', '(1.8%)', '(81.1%)', '(10.1%)', '(17.8%)', '(7.7%)', '(22.4%)', '(0.6%)', '(4.1%)', '(43.5%)', '(17.0%)', '(28.6%)', '(20.9%)', '(3.1%)', '(22.7%)', '(27.4%)', '(11.2%)', '(28.2%)', '(2.1%)', '(35.3%)', '(73.5%)', '(4.9%)', '(5.9%)', '(4.9%)', '(70.6%)', '(12.1%)', '(18.2%)', '(11.1%)', '(99.8%)', '(6.9%)', '(76.9%)', '(4.0%)', '(7.8%)', '(9.7%)'), ('Nuclearpower', '(32.2%)', '(0.0%)', '(30.5%)', '(21.4%)', '(11.8%)', '(0.0%)', '(51.5%)', '(0.0%)', '(0.0%)', '(15.1%)', '(31.5%)', '(0.0%)', '(0.0%)', '(53.8%)', '(0.0%)', '(8.7%)', '(18.3%)', '(0.0%)', '(26.3%)', '(0.0%)', '(37.7%)', '(20.2%)', '(27.9%)', '(25.6%)', '(14.1%)', '(12.9%)', '(0.0%)', '(15.6%)', '(0.0%)', '(60.8%)', '(50.0%)', '(0.0%)', '(36.3%)', '(35.5%)', '(0.0%)', '(16.2%)', '(0.0%)', '(0.0%)', '(43.5%)', '(0.0%)', '(56.2%)', '(0.0%)', '(47.6%)', '(10.7%)', '(0.0%)', '(0.0%)', '(35.8%)', '(9.6%)', '(0.0%)', '(16.8%)', '(0.0%)'))\n2020-09-04 20:44:35,527 INFO sqlalchemy.engine.base.Engine COMMIT\n2020-09-04 20:44:35,529 INFO sqlalchemy.engine.base.Engine SELECT name FROM sqlite_master WHERE type='table' ORDER BY name\n2020-09-04 20:44:35,530 INFO sqlalchemy.engine.base.Engine ()\n"
    }
   ],
   "source": [
    "#Empty dataframe to store the data \n",
    "ElectricPowerConsumption_df = pd.DataFrame(columns = states)\n",
    "\n",
    "for state in states:\n",
    "\n",
    "    #URL to scrape\n",
    "    url = f\"https://www.eia.gov/beta/states/states/{state}/overview\"\n",
    "\n",
    "    #Open url.\n",
    "    browser.get(url)\n",
    "\n",
    "    #Time to let the website load all the elements\n",
    "    time.sleep(4)\n",
    "\n",
    "    #save the html source.\n",
    "    html = browser.page_source\n",
    "\n",
    "    #Use bs4 to parse the html response.\n",
    "    soup = bs(html, \"html.parser\")\n",
    "\n",
    "    #List of classes to parse \n",
    "    parseClasses = [\"info-coal\",\"info-natural-gas\",\"info-petroleum\",\"info-renewable\",'info-nuclear'] \n",
    "\n",
    "    for parseClass in parseClasses:\n",
    "\n",
    "        #From the soup, the electricity generation is in the index 1.\n",
    "        indexNum = 1\n",
    "\n",
    "        #Nuclear energy is only for electricity generation. It only has 1 index = 0\n",
    "        if parseClass == 'info-nuclear' :\n",
    "            indexNum = 0\n",
    "\n",
    "        yummySoup = soup.find_all(\"li\", class_={parseClass})[indexNum].text.split()\n",
    "\n",
    "        typeEnergy = yummySoup[0]\n",
    "\n",
    "        marketShare = yummySoup[2]\n",
    "\n",
    "        ElectricPowerConsumption_df.loc[typeEnergy,state] = marketShare\n",
    "\n",
    "#Save to Sqlite \n",
    "ElectricPowerConsumption_df.to_sql('Electric Power Consumption', conn, if_exists='replace')\n"
   ]
  },
  {
   "cell_type": "code",
   "execution_count": 25,
   "metadata": {
    "tags": []
   },
   "outputs": [
    {
     "output_type": "stream",
     "name": "stdout",
     "text": "2020-09-08 19:58:55,135 INFO sqlalchemy.engine.base.Engine SELECT * from 'Electric Power Consumption'\n2020-09-08 19:58:55,136 INFO sqlalchemy.engine.base.Engine ()\n"
    }
   ],
   "source": [
    "#To view the sqlite \n",
    "electricityGeneration = pd.read_sql_query(\"SELECT * from 'Electric Power Consumption'\", conn)\n",
    "electricityGeneration\n",
    "\n",
    "state = 'TX'\n",
    "\n",
    "electricityGeneration.set_index('index', inplace= True)\n",
    "\n",
    "electricityGeneration.loc[:,state].to_json(f'Output Files/{state} Electricity Consumption.json')"
   ]
  },
  {
   "cell_type": "code",
   "execution_count": null,
   "metadata": {},
   "outputs": [],
   "source": []
  }
 ]
}