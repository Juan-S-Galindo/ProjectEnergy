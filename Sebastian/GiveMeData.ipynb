{
 "metadata": {
  "language_info": {
   "codemirror_mode": {
    "name": "ipython",
    "version": 3
   },
   "file_extension": ".py",
   "mimetype": "text/x-python",
   "name": "python",
   "nbconvert_exporter": "python",
   "pygments_lexer": "ipython3",
   "version": "3.8.5-final"
  },
  "orig_nbformat": 2,
  "kernelspec": {
   "name": "python_defaultSpec_1599268045347",
   "display_name": "Python 3.8.5 64-bit"
  }
 },
 "nbformat": 4,
 "nbformat_minor": 2,
 "cells": [
  {
   "cell_type": "markdown",
   "metadata": {},
   "source": [
    "# To access the Mongo_db follow instructions:\n",
    "\n",
    "To dump your mongo_db call this command on your terminal\n",
    "\n",
    " - mongodump --db database_name --collection collection_name (It will create a folder called dump in the folder active directory)\n",
    "\n",
    "To import mongo_db file to mongodb you can use the following command on your terminal:\n",
    "\n",
    " - mongorestore --db database_name path_to_bson_file"
   ]
  },
  {
   "cell_type": "code",
   "execution_count": 8,
   "metadata": {
    "tags": []
   },
   "outputs": [
    {
     "output_type": "stream",
     "name": "stdout",
     "text": "2020-09-04 20:24:29,644 INFO sqlalchemy.engine.base.Engine SELECT CAST('test plain returns' AS VARCHAR(60)) AS anon_1\n2020-09-04 20:24:29,645 INFO sqlalchemy.engine.base.Engine ()\n2020-09-04 20:24:29,648 INFO sqlalchemy.engine.base.Engine SELECT CAST('test unicode returns' AS VARCHAR(60)) AS anon_1\n2020-09-04 20:24:29,649 INFO sqlalchemy.engine.base.Engine ()\n"
    }
   ],
   "source": [
    "# Database dependencies.\n",
    "from sqlalchemy import create_engine\n",
    "\n",
    "#Sqlite engine\n",
    "engine = create_engine(\"sqlite:///USEnergy.sqlite\", echo=True)\n",
    "conn = engine.connect()\n",
    " \n",
    "# Api dependencies\n",
    "import requests \n",
    "\n",
    "#Json dependencies\n",
    "from pprint import pprint\n",
    "\n",
    "#API key\n",
    "from DriversConfig.config import API_KEY #Save API key as API_KEY in a folder called DriversConfig\n",
    "\n",
    "#DataFrame dependencies\n",
    "import pandas as pd \n",
    "\n",
    "#Webscrapping \n",
    "from bs4 import BeautifulSoup as bs\n",
    "from selenium import webdriver\n",
    "\n",
    "#Random crap\n",
    "import time\n",
    "\n",
    "#Settings for headless mode.\n",
    "options = webdriver.ChromeOptions()\n",
    "options.add_argument('headless')\n",
    "\n",
    "#path to the driver and load the options.\n",
    "browser = webdriver.Chrome(\"/Users/Sebastian/Documents/GitHub/Data Visualization Bootcamp/Sebastian Homework/Group Project2 - ProjectEnergy/Sebastian/DriversConfig/chromedriver\",chrome_options = options) #Dowload Selenium chromedriver and save the driver in the folder in the repo and update Absolute path.\n",
    "\n",
    "\n",
    "\n"
   ]
  },
  {
   "cell_type": "code",
   "execution_count": 2,
   "metadata": {},
   "outputs": [],
   "source": [
    "#Lower 48 list.\n",
    "states = [\"AL\", \"AK\", \"AZ\", \"AR\", \"CA\", \"CO\", \"CT\", \"DC\", \"DE\", \"FL\", \"GA\", \n",
    "          \"HI\", \"ID\", \"IL\", \"IN\", \"IA\", \"KS\", \"KY\", \"LA\", \"ME\", \"MD\", \n",
    "          \"MA\", \"MI\", \"MN\", \"MS\", \"MO\", \"MT\", \"NE\", \"NV\", \"NH\", \"NJ\", \n",
    "          \"NM\", \"NY\", \"NC\", \"ND\", \"OH\", \"OK\", \"OR\", \"PA\", \"RI\", \"SC\", \n",
    "          \"SD\", \"TN\", \"TX\", \"UT\", \"VT\", \"VA\", \"WA\", \"WV\", \"WI\", \"WY\"]"
   ]
  },
  {
   "cell_type": "markdown",
   "metadata": {},
   "source": [
    "# Prices \n",
    "\n",
    "- Data is very structured, SQL can be a good idea here"
   ]
  },
  {
   "cell_type": "code",
   "execution_count": 4,
   "metadata": {
    "tags": []
   },
   "outputs": [],
   "source": [
    "#API key from config file.\n",
    "api_key = API_KEY\n",
    "\n",
    "#Empty dictionary to store prices\n",
    "price_df = pd.DataFrame(columns = states)\n",
    "\n",
    "#for state in states.\n",
    "for state in states:\n",
    "\n",
    "    #query each state. ALL = average combined rates, A = Annual. --> we can get more specific and get Residential, bussiness, etc. \n",
    "    priceQuery = f\"ELEC.PRICE.{state}-ALL.A\"\n",
    "\n",
    "    #Api url.\n",
    "    url = f\"http://api.eia.gov/series/?api_key={API_KEY}&series_id={priceQuery}\"\n",
    "\n",
    "    #Api reqeust. \n",
    "    statePriceRequest = requests.get(url)\n",
    "\n",
    "    #Pulls list of list of with the information of prices and yaer.\n",
    "    yearPricesList = statePriceRequest.json()['series'][0]['data']\n",
    "    \n",
    "    #Parse through the list and build DataFrame.\n",
    "    for priceYear in yearPricesList:\n",
    "\n",
    "        price_df.loc[priceYear[0],state] = priceYear[1]\n",
    "\n",
    "#Save to Sqlite \n",
    "price_df.to_sql('Average Energy Prices', conn, if_exists='replace')"
   ]
  },
  {
   "cell_type": "code",
   "execution_count": 16,
   "metadata": {
    "tags": []
   },
   "outputs": [
    {
     "output_type": "stream",
     "name": "stdout",
     "text": "2020-09-04 20:31:02,751 INFO sqlalchemy.engine.base.Engine SELECT * from 'Average Energy Prices'\n2020-09-04 20:31:02,752 INFO sqlalchemy.engine.base.Engine ()\n"
    },
    {
     "output_type": "execute_result",
     "data": {
      "text/plain": "   index    AL     AK     AZ    AR     CA     CO     CT     DC     DE  ...  \\\n0   2019  9.88  20.43  10.64  8.13  17.04  10.02  18.75  12.14  10.64  ...   \n1   2018  9.63  19.36  10.85  7.78  16.58  10.02  18.41  12.03  10.55  ...   \n2   2017  9.83  19.10  10.64  8.26  16.06   9.99  17.55  11.80  10.90  ...   \n3   2016  9.56  17.93  10.33  8.13  15.23   9.83  17.24  11.73  11.09  ...   \n4   2015  9.33  17.59  10.34  8.19  15.42   9.94  17.77  12.07  11.17  ...   \n5   2014  9.27  17.46  10.18  7.90  15.15  10.06  17.05  12.11  11.22  ...   \n6   2013  9.02  16.49  10.14  7.93  14.30   9.88  15.66  11.85  10.90  ...   \n7   2012  9.18  16.33   9.81  7.62  13.53   9.39  15.54  11.85  11.06  ...   \n8   2011  9.10  16.08   9.71  7.43  13.05   9.39  16.35  12.81  11.48  ...   \n9   2010  8.89  14.76   9.69  7.28  13.01   9.15  17.38  13.35  11.97  ...   \n10  2009  8.83  15.09   9.56  7.57  13.24   8.31  18.07  13.23  12.20  ...   \n11  2008  8.59  14.74   9.11  7.60  12.49   8.59  17.80  13.18  12.38  ...   \n12  2007  7.57  13.28   8.54  6.96  12.80   7.76  16.45  11.79  11.35  ...   \n13  2006  7.07  12.84   8.24  6.99  12.82   7.61  14.83  11.08  10.13  ...   \n14  2005  6.46  11.72   7.79  6.30  11.63   7.64  12.06   9.18   7.76  ...   \n15  2004  6.08  10.99   7.45  5.67  11.35   6.95  10.26   7.47   7.53  ...   \n16  2003  5.88  10.50   7.34  5.57  11.78   6.77  10.16   7.40   6.96  ...   \n17  2002  5.71  10.46   7.21  5.61  12.19      6   9.71   7.34   6.91  ...   \n18  2001  5.60  10.54   7.27  6.05  11.22   6.02   9.62   7.40   6.80  ...   \n\n       SD    TN     TX    UT     VT    VA    WA    WV     WI    WY  \n0    9.93  9.75    8.8  8.32  15.34  9.53  8.06   8.4  11.04  8.12  \n1    9.97  9.58   8.48  8.21  15.13  9.48     8  8.72  10.58  8.09  \n2   10.05  9.45   8.38  8.60  14.60  9.18  7.94     9  10.76  8.28  \n3    9.83  9.23   8.43  8.72  14.46  9.09  7.68  8.98  10.67  8.19  \n4    9.47  9.30    8.7  8.54  14.41  9.31   7.4  8.11  10.73  7.97  \n5    9.05  9.40   8.94  8.35  14.57  9.17  7.13  7.65  10.57  7.76  \n6    8.86  9.13   8.66  8.15  14.61  8.96  7.09  7.91  10.51  7.55  \n7    8.49  9.27   8.55  7.84  14.22  9.07  6.94  8.14  10.28  7.19  \n8    8.05  9.28      9  7.13  13.80  8.84  6.78  7.88  10.21  6.58  \n9    7.82  8.61   9.34  6.94  13.24  8.69  6.66  7.45   9.78  6.20  \n10   7.39  8.69   9.86  6.77  12.75  8.93  6.59  6.65   9.38  6.08  \n11   7.14  8.18  10.99  6.49  12.33     8  6.55  5.61      9  5.67  \n12   6.89  7.07  10.11  6.41  12.04  7.12  6.37  5.34   8.48  5.29  \n13   6.70  6.97  10.34  5.99  11.37  6.86  6.14  5.04   8.13  5.27  \n14   6.60  6.31   9.14  5.92  10.95  6.64  5.87  5.15   7.48  5.16  \n15   6.44  6.14   7.95  5.69  11.02  6.43   5.8  5.13   6.88  4.98  \n16   6.35  5.84    7.5  5.41  10.98  6.27  5.86  5.13   6.64  4.76  \n17   6.26  5.72   6.62  5.39  10.87  6.23  5.88  5.11   6.28  4.68  \n18   6.35  5.59   7.38  5.21  10.86  6.18  5.34  5.07   6.08  4.46  \n\n[19 rows x 52 columns]",
      "text/html": "<div>\n<style scoped>\n    .dataframe tbody tr th:only-of-type {\n        vertical-align: middle;\n    }\n\n    .dataframe tbody tr th {\n        vertical-align: top;\n    }\n\n    .dataframe thead th {\n        text-align: right;\n    }\n</style>\n<table border=\"1\" class=\"dataframe\">\n  <thead>\n    <tr style=\"text-align: right;\">\n      <th></th>\n      <th>index</th>\n      <th>AL</th>\n      <th>AK</th>\n      <th>AZ</th>\n      <th>AR</th>\n      <th>CA</th>\n      <th>CO</th>\n      <th>CT</th>\n      <th>DC</th>\n      <th>DE</th>\n      <th>...</th>\n      <th>SD</th>\n      <th>TN</th>\n      <th>TX</th>\n      <th>UT</th>\n      <th>VT</th>\n      <th>VA</th>\n      <th>WA</th>\n      <th>WV</th>\n      <th>WI</th>\n      <th>WY</th>\n    </tr>\n  </thead>\n  <tbody>\n    <tr>\n      <th>0</th>\n      <td>2019</td>\n      <td>9.88</td>\n      <td>20.43</td>\n      <td>10.64</td>\n      <td>8.13</td>\n      <td>17.04</td>\n      <td>10.02</td>\n      <td>18.75</td>\n      <td>12.14</td>\n      <td>10.64</td>\n      <td>...</td>\n      <td>9.93</td>\n      <td>9.75</td>\n      <td>8.8</td>\n      <td>8.32</td>\n      <td>15.34</td>\n      <td>9.53</td>\n      <td>8.06</td>\n      <td>8.4</td>\n      <td>11.04</td>\n      <td>8.12</td>\n    </tr>\n    <tr>\n      <th>1</th>\n      <td>2018</td>\n      <td>9.63</td>\n      <td>19.36</td>\n      <td>10.85</td>\n      <td>7.78</td>\n      <td>16.58</td>\n      <td>10.02</td>\n      <td>18.41</td>\n      <td>12.03</td>\n      <td>10.55</td>\n      <td>...</td>\n      <td>9.97</td>\n      <td>9.58</td>\n      <td>8.48</td>\n      <td>8.21</td>\n      <td>15.13</td>\n      <td>9.48</td>\n      <td>8</td>\n      <td>8.72</td>\n      <td>10.58</td>\n      <td>8.09</td>\n    </tr>\n    <tr>\n      <th>2</th>\n      <td>2017</td>\n      <td>9.83</td>\n      <td>19.10</td>\n      <td>10.64</td>\n      <td>8.26</td>\n      <td>16.06</td>\n      <td>9.99</td>\n      <td>17.55</td>\n      <td>11.80</td>\n      <td>10.90</td>\n      <td>...</td>\n      <td>10.05</td>\n      <td>9.45</td>\n      <td>8.38</td>\n      <td>8.60</td>\n      <td>14.60</td>\n      <td>9.18</td>\n      <td>7.94</td>\n      <td>9</td>\n      <td>10.76</td>\n      <td>8.28</td>\n    </tr>\n    <tr>\n      <th>3</th>\n      <td>2016</td>\n      <td>9.56</td>\n      <td>17.93</td>\n      <td>10.33</td>\n      <td>8.13</td>\n      <td>15.23</td>\n      <td>9.83</td>\n      <td>17.24</td>\n      <td>11.73</td>\n      <td>11.09</td>\n      <td>...</td>\n      <td>9.83</td>\n      <td>9.23</td>\n      <td>8.43</td>\n      <td>8.72</td>\n      <td>14.46</td>\n      <td>9.09</td>\n      <td>7.68</td>\n      <td>8.98</td>\n      <td>10.67</td>\n      <td>8.19</td>\n    </tr>\n    <tr>\n      <th>4</th>\n      <td>2015</td>\n      <td>9.33</td>\n      <td>17.59</td>\n      <td>10.34</td>\n      <td>8.19</td>\n      <td>15.42</td>\n      <td>9.94</td>\n      <td>17.77</td>\n      <td>12.07</td>\n      <td>11.17</td>\n      <td>...</td>\n      <td>9.47</td>\n      <td>9.30</td>\n      <td>8.7</td>\n      <td>8.54</td>\n      <td>14.41</td>\n      <td>9.31</td>\n      <td>7.4</td>\n      <td>8.11</td>\n      <td>10.73</td>\n      <td>7.97</td>\n    </tr>\n    <tr>\n      <th>5</th>\n      <td>2014</td>\n      <td>9.27</td>\n      <td>17.46</td>\n      <td>10.18</td>\n      <td>7.90</td>\n      <td>15.15</td>\n      <td>10.06</td>\n      <td>17.05</td>\n      <td>12.11</td>\n      <td>11.22</td>\n      <td>...</td>\n      <td>9.05</td>\n      <td>9.40</td>\n      <td>8.94</td>\n      <td>8.35</td>\n      <td>14.57</td>\n      <td>9.17</td>\n      <td>7.13</td>\n      <td>7.65</td>\n      <td>10.57</td>\n      <td>7.76</td>\n    </tr>\n    <tr>\n      <th>6</th>\n      <td>2013</td>\n      <td>9.02</td>\n      <td>16.49</td>\n      <td>10.14</td>\n      <td>7.93</td>\n      <td>14.30</td>\n      <td>9.88</td>\n      <td>15.66</td>\n      <td>11.85</td>\n      <td>10.90</td>\n      <td>...</td>\n      <td>8.86</td>\n      <td>9.13</td>\n      <td>8.66</td>\n      <td>8.15</td>\n      <td>14.61</td>\n      <td>8.96</td>\n      <td>7.09</td>\n      <td>7.91</td>\n      <td>10.51</td>\n      <td>7.55</td>\n    </tr>\n    <tr>\n      <th>7</th>\n      <td>2012</td>\n      <td>9.18</td>\n      <td>16.33</td>\n      <td>9.81</td>\n      <td>7.62</td>\n      <td>13.53</td>\n      <td>9.39</td>\n      <td>15.54</td>\n      <td>11.85</td>\n      <td>11.06</td>\n      <td>...</td>\n      <td>8.49</td>\n      <td>9.27</td>\n      <td>8.55</td>\n      <td>7.84</td>\n      <td>14.22</td>\n      <td>9.07</td>\n      <td>6.94</td>\n      <td>8.14</td>\n      <td>10.28</td>\n      <td>7.19</td>\n    </tr>\n    <tr>\n      <th>8</th>\n      <td>2011</td>\n      <td>9.10</td>\n      <td>16.08</td>\n      <td>9.71</td>\n      <td>7.43</td>\n      <td>13.05</td>\n      <td>9.39</td>\n      <td>16.35</td>\n      <td>12.81</td>\n      <td>11.48</td>\n      <td>...</td>\n      <td>8.05</td>\n      <td>9.28</td>\n      <td>9</td>\n      <td>7.13</td>\n      <td>13.80</td>\n      <td>8.84</td>\n      <td>6.78</td>\n      <td>7.88</td>\n      <td>10.21</td>\n      <td>6.58</td>\n    </tr>\n    <tr>\n      <th>9</th>\n      <td>2010</td>\n      <td>8.89</td>\n      <td>14.76</td>\n      <td>9.69</td>\n      <td>7.28</td>\n      <td>13.01</td>\n      <td>9.15</td>\n      <td>17.38</td>\n      <td>13.35</td>\n      <td>11.97</td>\n      <td>...</td>\n      <td>7.82</td>\n      <td>8.61</td>\n      <td>9.34</td>\n      <td>6.94</td>\n      <td>13.24</td>\n      <td>8.69</td>\n      <td>6.66</td>\n      <td>7.45</td>\n      <td>9.78</td>\n      <td>6.20</td>\n    </tr>\n    <tr>\n      <th>10</th>\n      <td>2009</td>\n      <td>8.83</td>\n      <td>15.09</td>\n      <td>9.56</td>\n      <td>7.57</td>\n      <td>13.24</td>\n      <td>8.31</td>\n      <td>18.07</td>\n      <td>13.23</td>\n      <td>12.20</td>\n      <td>...</td>\n      <td>7.39</td>\n      <td>8.69</td>\n      <td>9.86</td>\n      <td>6.77</td>\n      <td>12.75</td>\n      <td>8.93</td>\n      <td>6.59</td>\n      <td>6.65</td>\n      <td>9.38</td>\n      <td>6.08</td>\n    </tr>\n    <tr>\n      <th>11</th>\n      <td>2008</td>\n      <td>8.59</td>\n      <td>14.74</td>\n      <td>9.11</td>\n      <td>7.60</td>\n      <td>12.49</td>\n      <td>8.59</td>\n      <td>17.80</td>\n      <td>13.18</td>\n      <td>12.38</td>\n      <td>...</td>\n      <td>7.14</td>\n      <td>8.18</td>\n      <td>10.99</td>\n      <td>6.49</td>\n      <td>12.33</td>\n      <td>8</td>\n      <td>6.55</td>\n      <td>5.61</td>\n      <td>9</td>\n      <td>5.67</td>\n    </tr>\n    <tr>\n      <th>12</th>\n      <td>2007</td>\n      <td>7.57</td>\n      <td>13.28</td>\n      <td>8.54</td>\n      <td>6.96</td>\n      <td>12.80</td>\n      <td>7.76</td>\n      <td>16.45</td>\n      <td>11.79</td>\n      <td>11.35</td>\n      <td>...</td>\n      <td>6.89</td>\n      <td>7.07</td>\n      <td>10.11</td>\n      <td>6.41</td>\n      <td>12.04</td>\n      <td>7.12</td>\n      <td>6.37</td>\n      <td>5.34</td>\n      <td>8.48</td>\n      <td>5.29</td>\n    </tr>\n    <tr>\n      <th>13</th>\n      <td>2006</td>\n      <td>7.07</td>\n      <td>12.84</td>\n      <td>8.24</td>\n      <td>6.99</td>\n      <td>12.82</td>\n      <td>7.61</td>\n      <td>14.83</td>\n      <td>11.08</td>\n      <td>10.13</td>\n      <td>...</td>\n      <td>6.70</td>\n      <td>6.97</td>\n      <td>10.34</td>\n      <td>5.99</td>\n      <td>11.37</td>\n      <td>6.86</td>\n      <td>6.14</td>\n      <td>5.04</td>\n      <td>8.13</td>\n      <td>5.27</td>\n    </tr>\n    <tr>\n      <th>14</th>\n      <td>2005</td>\n      <td>6.46</td>\n      <td>11.72</td>\n      <td>7.79</td>\n      <td>6.30</td>\n      <td>11.63</td>\n      <td>7.64</td>\n      <td>12.06</td>\n      <td>9.18</td>\n      <td>7.76</td>\n      <td>...</td>\n      <td>6.60</td>\n      <td>6.31</td>\n      <td>9.14</td>\n      <td>5.92</td>\n      <td>10.95</td>\n      <td>6.64</td>\n      <td>5.87</td>\n      <td>5.15</td>\n      <td>7.48</td>\n      <td>5.16</td>\n    </tr>\n    <tr>\n      <th>15</th>\n      <td>2004</td>\n      <td>6.08</td>\n      <td>10.99</td>\n      <td>7.45</td>\n      <td>5.67</td>\n      <td>11.35</td>\n      <td>6.95</td>\n      <td>10.26</td>\n      <td>7.47</td>\n      <td>7.53</td>\n      <td>...</td>\n      <td>6.44</td>\n      <td>6.14</td>\n      <td>7.95</td>\n      <td>5.69</td>\n      <td>11.02</td>\n      <td>6.43</td>\n      <td>5.8</td>\n      <td>5.13</td>\n      <td>6.88</td>\n      <td>4.98</td>\n    </tr>\n    <tr>\n      <th>16</th>\n      <td>2003</td>\n      <td>5.88</td>\n      <td>10.50</td>\n      <td>7.34</td>\n      <td>5.57</td>\n      <td>11.78</td>\n      <td>6.77</td>\n      <td>10.16</td>\n      <td>7.40</td>\n      <td>6.96</td>\n      <td>...</td>\n      <td>6.35</td>\n      <td>5.84</td>\n      <td>7.5</td>\n      <td>5.41</td>\n      <td>10.98</td>\n      <td>6.27</td>\n      <td>5.86</td>\n      <td>5.13</td>\n      <td>6.64</td>\n      <td>4.76</td>\n    </tr>\n    <tr>\n      <th>17</th>\n      <td>2002</td>\n      <td>5.71</td>\n      <td>10.46</td>\n      <td>7.21</td>\n      <td>5.61</td>\n      <td>12.19</td>\n      <td>6</td>\n      <td>9.71</td>\n      <td>7.34</td>\n      <td>6.91</td>\n      <td>...</td>\n      <td>6.26</td>\n      <td>5.72</td>\n      <td>6.62</td>\n      <td>5.39</td>\n      <td>10.87</td>\n      <td>6.23</td>\n      <td>5.88</td>\n      <td>5.11</td>\n      <td>6.28</td>\n      <td>4.68</td>\n    </tr>\n    <tr>\n      <th>18</th>\n      <td>2001</td>\n      <td>5.60</td>\n      <td>10.54</td>\n      <td>7.27</td>\n      <td>6.05</td>\n      <td>11.22</td>\n      <td>6.02</td>\n      <td>9.62</td>\n      <td>7.40</td>\n      <td>6.80</td>\n      <td>...</td>\n      <td>6.35</td>\n      <td>5.59</td>\n      <td>7.38</td>\n      <td>5.21</td>\n      <td>10.86</td>\n      <td>6.18</td>\n      <td>5.34</td>\n      <td>5.07</td>\n      <td>6.08</td>\n      <td>4.46</td>\n    </tr>\n  </tbody>\n</table>\n<p>19 rows × 52 columns</p>\n</div>"
     },
     "metadata": {},
     "execution_count": 16
    }
   ],
   "source": [
    "#To view the sqlite \n",
    "prices = pd.read_sql_query(\"SELECT * from 'Average Energy Prices'\", conn)\n",
    "prices"
   ]
  },
  {
   "cell_type": "markdown",
   "metadata": {
    "tags": []
   },
   "source": [
    "# Energy Generation\n",
    "\n",
    "- Data is very unstructured, we might have to use NoSQL (Mongo_dB)\n",
    "\n",
    "\n",
    "<img src=\"images/2019 US Energy Distribution.png\">"
   ]
  },
  {
   "cell_type": "code",
   "execution_count": 63,
   "metadata": {
    "tags": [
     "outputPrepend"
    ]
   },
   "outputs": [
    {
     "output_type": "stream",
     "name": "stdout",
     "text": " (2005, 6386.79365, 41729.31343, 163.96753, 582.54246, 0.0, 9920.991, 1740.21896, 92.544, 740.34998, 0, 0, 0, 0, 0, 0, 0), (2006, 5358.4816, 40116.49023, 135.70123, 741.48433, 0.0, 12233.515, 1678.5983, 101.376, 773.8628, 0, 0, 0, 0, 0, 0, 0), (2007, 6488.75032, 40028.24955, 159.71219, 853.70149, 0.0, 12910.319, 1516.08286, 109.283, 785.07895, 0, 0, 0, 0, 0, 0, 0), (2008, 5243.58889, 41705.86048, 96.00967, 835.15012, 0.0, 12154.51, 1616.14196, 487.141, 775.04025, 0, 0, 0, 0, 0, 0, 0)  ... displaying 10 of 19 total bound parameter sets ...  (2018, 16798.65559, 33322.37949, 36.08083, 101.4305, 0.0, 10129.122, 2392.00955, 1637.658, 883.11537, 0, 0, 0, 0, 0, 0, 0), (2019, 21136.97903, 26348.94969, 46.54271, 89.68668, 0.0, 10030.305, 1992.70442, 1649.21371, 841.48595, 0, 0, 0, 0, 0, 0, 0))\n2020-09-04 21:07:38,711 INFO sqlalchemy.engine.base.Engine COMMIT\n2020-09-04 21:07:38,713 INFO sqlalchemy.engine.base.Engine SELECT name FROM sqlite_master WHERE type='table' ORDER BY name\n2020-09-04 21:07:38,714 INFO sqlalchemy.engine.base.Engine ()\n2020-09-04 21:07:38,848 INFO sqlalchemy.engine.base.Engine PRAGMA main.table_info(\"WI Generation\")\n2020-09-04 21:07:38,848 INFO sqlalchemy.engine.base.Engine ()\n2020-09-04 21:07:38,849 INFO sqlalchemy.engine.base.Engine PRAGMA main.table_info(\"WI Generation\")\n2020-09-04 21:07:38,850 INFO sqlalchemy.engine.base.Engine ()\n2020-09-04 21:07:38,851 INFO sqlalchemy.engine.base.Engine SELECT name FROM sqlite_master WHERE type='table' ORDER BY name\n2020-09-04 21:07:38,851 INFO sqlalchemy.engine.base.Engine ()\n2020-09-04 21:07:38,852 INFO sqlalchemy.engine.base.Engine PRAGMA main.table_xinfo(\"WI Generation\")\n2020-09-04 21:07:38,853 INFO sqlalchemy.engine.base.Engine ()\n2020-09-04 21:07:38,855 INFO sqlalchemy.engine.base.Engine SELECT sql FROM  (SELECT * FROM sqlite_master UNION ALL   SELECT * FROM sqlite_temp_master) WHERE name = 'WI Generation' AND type = 'table'\n2020-09-04 21:07:38,855 INFO sqlalchemy.engine.base.Engine ()\n2020-09-04 21:07:38,856 INFO sqlalchemy.engine.base.Engine PRAGMA main.foreign_key_list(\"WI Generation\")\n2020-09-04 21:07:38,857 INFO sqlalchemy.engine.base.Engine ()\n2020-09-04 21:07:38,857 INFO sqlalchemy.engine.base.Engine PRAGMA temp.foreign_key_list(\"WI Generation\")\n2020-09-04 21:07:38,858 INFO sqlalchemy.engine.base.Engine ()\n2020-09-04 21:07:38,858 INFO sqlalchemy.engine.base.Engine SELECT sql FROM  (SELECT * FROM sqlite_master UNION ALL   SELECT * FROM sqlite_temp_master) WHERE name = 'WI Generation' AND type = 'table'\n2020-09-04 21:07:38,859 INFO sqlalchemy.engine.base.Engine ()\n2020-09-04 21:07:38,860 INFO sqlalchemy.engine.base.Engine PRAGMA main.index_list(\"WI Generation\")\n2020-09-04 21:07:38,860 INFO sqlalchemy.engine.base.Engine ()\n2020-09-04 21:07:38,861 INFO sqlalchemy.engine.base.Engine PRAGMA main.index_info(\"ix_WI Generation_index\")\n2020-09-04 21:07:38,861 INFO sqlalchemy.engine.base.Engine ()\n2020-09-04 21:07:38,862 INFO sqlalchemy.engine.base.Engine PRAGMA main.index_list(\"WI Generation\")\n2020-09-04 21:07:38,862 INFO sqlalchemy.engine.base.Engine ()\n2020-09-04 21:07:38,863 INFO sqlalchemy.engine.base.Engine PRAGMA main.index_info(\"ix_WI Generation_index\")\n2020-09-04 21:07:38,863 INFO sqlalchemy.engine.base.Engine ()\n2020-09-04 21:07:38,864 INFO sqlalchemy.engine.base.Engine SELECT sql FROM  (SELECT * FROM sqlite_master UNION ALL   SELECT * FROM sqlite_temp_master) WHERE name = 'WI Generation' AND type = 'table'\n2020-09-04 21:07:38,864 INFO sqlalchemy.engine.base.Engine ()\n2020-09-04 21:07:38,865 INFO sqlalchemy.engine.base.Engine \nDROP TABLE \"WI Generation\"\n2020-09-04 21:07:38,866 INFO sqlalchemy.engine.base.Engine ()\n2020-09-04 21:07:38,867 INFO sqlalchemy.engine.base.Engine COMMIT\n2020-09-04 21:07:38,869 INFO sqlalchemy.engine.base.Engine \nCREATE TABLE \"WI Generation\" (\n\t\"index\" BIGINT, \n\t\"Natural Gas\" FLOAT, \n\t\"Coal\" FLOAT, \n\t\"Petroleum Liquids\" FLOAT, \n\t\"Petroleum Coke\" FLOAT, \n\t\"Other Gasses\" FLOAT, \n\t\"Nuclear\" FLOAT, \n\t\"Hydroelectric\" FLOAT, \n\t\"Wind\" FLOAT, \n\t\"Wood and Wood Derived Fuels\" FLOAT, \n\t\"Other Biomass\" FLOAT, \n\t\"Geothermal\" BIGINT, \n\t\"All Other Renewables\" BIGINT, \n\t\"All Solar\" BIGINT, \n\t\"Other\" BIGINT, \n\t\"Utility Scale Thermal\" BIGINT, \n\t\"Hydroelectic Pumped Storage\" BIGINT\n)\n\n\n2020-09-04 21:07:38,869 INFO sqlalchemy.engine.base.Engine ()\n2020-09-04 21:07:38,871 INFO sqlalchemy.engine.base.Engine COMMIT\n2020-09-04 21:07:38,871 INFO sqlalchemy.engine.base.Engine CREATE INDEX \"ix_WI Generation_index\" ON \"WI Generation\" (\"index\")\n2020-09-04 21:07:38,871 INFO sqlalchemy.engine.base.Engine ()\n2020-09-04 21:07:38,873 INFO sqlalchemy.engine.base.Engine COMMIT\n2020-09-04 21:07:38,874 INFO sqlalchemy.engine.base.Engine BEGIN (implicit)\n2020-09-04 21:07:38,875 INFO sqlalchemy.engine.base.Engine INSERT INTO \"WI Generation\" (\"index\", \"Natural Gas\", \"Coal\", \"Petroleum Liquids\", \"Petroleum Coke\", \"Other Gasses\", \"Nuclear\", \"Hydroelectric\", \"Wind\", \"Wood and Wood Derived Fuels\", \"Other Biomass\", \"Geothermal\", \"All Other Renewables\", \"All Solar\", \"Other\", \"Utility Scale Thermal\", \"Hydroelectic Pumped Storage\") VALUES (?, ?, ?, ?, ?, ?, ?, ?, ?, ?, ?, ?, ?, ?, ?, ?, ?)\n2020-09-04 21:07:38,876 INFO sqlalchemy.engine.base.Engine ((2001, 2233.965, 41253.456, 158.839, 288.944, 0.0, 11507.078, 2056.244, 72.284, 705.35, 324.57624, 0, 0, 0, 0, 0, 0), (2002, 2076.314, 39807.484, 109.303, 313.374, 0.0, 12448.813, 2515.017, 46.18, 644.947, 324.46558, 0, 0, 0, 0, 0, 0), (2003, 2478.39, 41717.216, 143.231, 329.557, 0.0, 12215.463, 1843.295, 97.58, 757.443, 370.70103, 0, 0, 0, 0, 0, 0), (2004, 2405.362, 42148.17629, 161.43, 634.18851, 0.0, 11887.849, 1980.67613, 103.563, 604.6339, 405.44251, 0, 0, 0, 0, 0, 0), (2005, 6386.79365, 41729.31343, 163.96753, 582.54246, 0.0, 9920.991, 1740.21896, 92.544, 740.34998, 348.75925, 0, 0, 0, 0, 0, 0), (2006, 5358.4816, 40116.49023, 135.70123, 741.48433, 0.0, 12233.515, 1678.5983, 101.376, 773.8628, 390.38431, 0, 0, 0, 0, 0, 0), (2007, 6488.75032, 40028.24955, 159.71219, 853.70149, 0.0, 12910.319, 1516.08286, 109.283, 785.07895, 435.15566, 0, 0, 0, 0, 0, 0), (2008, 5243.58889, 41705.86048, 96.00967, 835.15012, 0.0, 12154.51, 1616.14196, 487.141, 775.04025, 491.75416, 0, 0, 0, 0, 0, 0)  ... displaying 10 of 19 total bound parameter sets ...  (2018, 16798.65559, 33322.37949, 36.08083, 101.4305, 0.0, 10129.122, 2392.00955, 1637.658, 883.11537, 554.03916, 0, 0, 0, 0, 0, 0), (2019, 21136.97903, 26348.94969, 46.54271, 89.68668, 0.0, 10030.305, 1992.70442, 1649.21371, 841.48595, 516.81845, 0, 0, 0, 0, 0, 0))\n2020-09-04 21:07:38,878 INFO sqlalchemy.engine.base.Engine COMMIT\n2020-09-04 21:07:38,879 INFO sqlalchemy.engine.base.Engine SELECT name FROM sqlite_master WHERE type='table' ORDER BY name\n2020-09-04 21:07:38,880 INFO sqlalchemy.engine.base.Engine ()\n'series'. Geothermal not found in WI.\n2020-09-04 21:07:44,220 INFO sqlalchemy.engine.base.Engine PRAGMA main.table_info(\"WY Generation\")\n2020-09-04 21:07:44,221 INFO sqlalchemy.engine.base.Engine ()\n2020-09-04 21:07:44,221 INFO sqlalchemy.engine.base.Engine PRAGMA temp.table_info(\"WY Generation\")\n2020-09-04 21:07:44,222 INFO sqlalchemy.engine.base.Engine ()\n2020-09-04 21:07:44,224 INFO sqlalchemy.engine.base.Engine \nCREATE TABLE \"WY Generation\" (\n\t\"index\" BIGINT, \n\t\"Natural Gas\" FLOAT, \n\t\"Coal\" BIGINT, \n\t\"Petroleum Liquids\" BIGINT, \n\t\"Petroleum Coke\" BIGINT, \n\t\"Other Gasses\" BIGINT, \n\t\"Nuclear\" BIGINT, \n\t\"Hydroelectric\" BIGINT, \n\t\"Wind\" BIGINT, \n\t\"Wood and Wood Derived Fuels\" BIGINT, \n\t\"Other Biomass\" BIGINT, \n\t\"Geothermal\" BIGINT, \n\t\"All Other Renewables\" BIGINT, \n\t\"All Solar\" BIGINT, \n\t\"Other\" BIGINT, \n\t\"Utility Scale Thermal\" BIGINT, \n\t\"Hydroelectic Pumped Storage\" BIGINT\n)\n\n\n2020-09-04 21:07:44,224 INFO sqlalchemy.engine.base.Engine ()\n2020-09-04 21:07:44,226 INFO sqlalchemy.engine.base.Engine COMMIT\n2020-09-04 21:07:44,227 INFO sqlalchemy.engine.base.Engine CREATE INDEX \"ix_WY Generation_index\" ON \"WY Generation\" (\"index\")\n2020-09-04 21:07:44,228 INFO sqlalchemy.engine.base.Engine ()\n2020-09-04 21:07:44,229 INFO sqlalchemy.engine.base.Engine COMMIT\n2020-09-04 21:07:44,231 INFO sqlalchemy.engine.base.Engine BEGIN (implicit)\n2020-09-04 21:07:44,233 INFO sqlalchemy.engine.base.Engine INSERT INTO \"WY Generation\" (\"index\", \"Natural Gas\", \"Coal\", \"Petroleum Liquids\", \"Petroleum Coke\", \"Other Gasses\", \"Nuclear\", \"Hydroelectric\", \"Wind\", \"Wood and Wood Derived Fuels\", \"Other Biomass\", \"Geothermal\", \"All Other Renewables\", \"All Solar\", \"Other\", \"Utility Scale Thermal\", \"Hydroelectic Pumped Storage\") VALUES (?, ?, ?, ?, ?, ?, ?, ?, ?, ?, ?, ?, ?, ?, ?, ?, ?)\n2020-09-04 21:07:44,234 INFO sqlalchemy.engine.base.Engine ((2001, 591.842, 0, 0, 0, 0, 0, 0, 0, 0, 0, 0, 0, 0, 0, 0, 0), (2002, 713.08, 0, 0, 0, 0, 0, 0, 0, 0, 0, 0, 0, 0, 0, 0, 0), (2003, 280.196, 0, 0, 0, 0, 0, 0, 0, 0, 0, 0, 0, 0, 0, 0, 0), (2004, 86.89748, 0, 0, 0, 0, 0, 0, 0, 0, 0, 0, 0, 0, 0, 0, 0), (2005, 324.98139, 0, 0, 0, 0, 0, 0, 0, 0, 0, 0, 0, 0, 0, 0, 0), (2006, 501.27013, 0, 0, 0, 0, 0, 0, 0, 0, 0, 0, 0, 0, 0, 0, 0), (2007, 594.02585, 0, 0, 0, 0, 0, 0, 0, 0, 0, 0, 0, 0, 0, 0, 0), (2008, 494.67877, 0, 0, 0, 0, 0, 0, 0, 0, 0, 0, 0, 0, 0, 0, 0)  ... displaying 10 of 19 total bound parameter sets ...  (2018, 896.12229, 0, 0, 0, 0, 0, 0, 0, 0, 0, 0, 0, 0, 0, 0, 0), (2019, 1041.75975, 0, 0, 0, 0, 0, 0, 0, 0, 0, 0, 0, 0, 0, 0, 0))\n2020-09-04 21:07:44,236 INFO sqlalchemy.engine.base.Engine COMMIT\n2020-09-04 21:07:44,237 INFO sqlalchemy.engine.base.Engine SELECT name FROM sqlite_master WHERE type='table' ORDER BY name\n2020-09-04 21:07:44,238 INFO sqlalchemy.engine.base.Engine ()\n2020-09-04 21:07:44,389 INFO sqlalchemy.engine.base.Engine PRAGMA main.table_info(\"WY Generation\")\n2020-09-04 21:07:44,390 INFO sqlalchemy.engine.base.Engine ()\n2020-09-04 21:07:44,391 INFO sqlalchemy.engine.base.Engine PRAGMA main.table_info(\"WY Generation\")\n2020-09-04 21:07:44,391 INFO sqlalchemy.engine.base.Engine ()\n2020-09-04 21:07:44,392 INFO sqlalchemy.engine.base.Engine SELECT name FROM sqlite_master WHERE type='table' ORDER BY name\n2020-09-04 21:07:44,393 INFO sqlalchemy.engine.base.Engine ()\n2020-09-04 21:07:44,395 INFO sqlalchemy.engine.base.Engine PRAGMA main.table_xinfo(\"WY Generation\")\n2020-09-04 21:07:44,395 INFO sqlalchemy.engine.base.Engine ()\n2020-09-04 21:07:44,397 INFO sqlalchemy.engine.base.Engine SELECT sql FROM  (SELECT * FROM sqlite_master UNION ALL   SELECT * FROM sqlite_temp_master) WHERE name = 'WY Generation' AND type = 'table'\n2020-09-04 21:07:44,397 INFO sqlalchemy.engine.base.Engine ()\n2020-09-04 21:07:44,398 INFO sqlalchemy.engine.base.Engine PRAGMA main.foreign_key_list(\"WY Generation\")\n2020-09-04 21:07:44,399 INFO sqlalchemy.engine.base.Engine ()\n2020-09-04 21:07:44,399 INFO sqlalchemy.engine.base.Engine PRAGMA temp.foreign_key_list(\"WY Generation\")\n2020-09-04 21:07:44,400 INFO sqlalchemy.engine.base.Engine ()\n2020-09-04 21:07:44,400 INFO sqlalchemy.engine.base.Engine SELECT sql FROM  (SELECT * FROM sqlite_master UNION ALL   SELECT * FROM sqlite_temp_master) WHERE name = 'WY Generation' AND type = 'table'\n2020-09-04 21:07:44,401 INFO sqlalchemy.engine.base.Engine ()\n2020-09-04 21:07:44,402 INFO sqlalchemy.engine.base.Engine PRAGMA main.index_list(\"WY Generation\")\n2020-09-04 21:07:44,402 INFO sqlalchemy.engine.base.Engine ()\n2020-09-04 21:07:44,403 INFO sqlalchemy.engine.base.Engine PRAGMA main.index_info(\"ix_WY Generation_index\")\n2020-09-04 21:07:44,403 INFO sqlalchemy.engine.base.Engine ()\n2020-09-04 21:07:44,404 INFO sqlalchemy.engine.base.Engine PRAGMA main.index_list(\"WY Generation\")\n2020-09-04 21:07:44,404 INFO sqlalchemy.engine.base.Engine ()\n2020-09-04 21:07:44,405 INFO sqlalchemy.engine.base.Engine PRAGMA main.index_info(\"ix_WY Generation_index\")\n2020-09-04 21:07:44,405 INFO sqlalchemy.engine.base.Engine ()\n2020-09-04 21:07:44,406 INFO sqlalchemy.engine.base.Engine SELECT sql FROM  (SELECT * FROM sqlite_master UNION ALL   SELECT * FROM sqlite_temp_master) WHERE name = 'WY Generation' AND type = 'table'\n2020-09-04 21:07:44,406 INFO sqlalchemy.engine.base.Engine ()\n2020-09-04 21:07:44,407 INFO sqlalchemy.engine.base.Engine \nDROP TABLE \"WY Generation\"\n2020-09-04 21:07:44,407 INFO sqlalchemy.engine.base.Engine ()\n2020-09-04 21:07:44,409 INFO sqlalchemy.engine.base.Engine COMMIT\n2020-09-04 21:07:44,410 INFO sqlalchemy.engine.base.Engine \nCREATE TABLE \"WY Generation\" (\n\t\"index\" BIGINT, \n\t\"Natural Gas\" FLOAT, \n\t\"Coal\" FLOAT, \n\t\"Petroleum Liquids\" BIGINT, \n\t\"Petroleum Coke\" BIGINT, \n\t\"Other Gasses\" BIGINT, \n\t\"Nuclear\" BIGINT, \n\t\"Hydroelectric\" BIGINT, \n\t\"Wind\" BIGINT, \n\t\"Wood and Wood Derived Fuels\" BIGINT, \n\t\"Other Biomass\" BIGINT, \n\t\"Geothermal\" BIGINT, \n\t\"All Other Renewables\" BIGINT, \n\t\"All Solar\" BIGINT, \n\t\"Other\" BIGINT, \n\t\"Utility Scale Thermal\" BIGINT, \n\t\"Hydroelectic Pumped Storage\" BIGINT\n)\n\n\n2020-09-04 21:07:44,411 INFO sqlalchemy.engine.base.Engine ()\n2020-09-04 21:07:44,412 INFO sqlalchemy.engine.base.Engine COMMIT\n2020-09-04 21:07:44,413 INFO sqlalchemy.engine.base.Engine CREATE INDEX \"ix_WY Generation_index\" ON \"WY Generation\" (\"index\")\n2020-09-04 21:07:44,413 INFO sqlalchemy.engine.base.Engine ()\n2020-09-04 21:07:44,414 INFO sqlalchemy.engine.base.Engine COMMIT\n2020-09-04 21:07:44,415 INFO sqlalchemy.engine.base.Engine BEGIN (implicit)\n2020-09-04 21:07:44,417 INFO sqlalchemy.engine.base.Engine INSERT INTO \"WY Generation\" (\"index\", \"Natural Gas\", \"Coal\", \"Petroleum Liquids\", \"Petroleum Coke\", \"Other Gasses\", \"Nuclear\", \"Hydroelectric\", \"Wind\", \"Wood and Wood Derived Fuels\", \"Other Biomass\", \"Geothermal\", \"All Other Renewables\", \"All Solar\", \"Other\", \"Utility Scale Thermal\", \"Hydroelectic Pumped Storage\") VALUES (?, ?, ?, ?, ?, ?, ?, ?, ?, ?, ?, ?, ?, ?, ?, ?, ?)\n2020-09-04 21:07:44,417 INFO sqlalchemy.engine.base.Engine ((2001, 591.842, 42789.31, 0, 0, 0, 0, 0, 0, 0, 0, 0, 0, 0, 0, 0, 0), (2002, 713.08, 41923.161, 0, 0, 0, 0, 0, 0, 0, 0, 0, 0, 0, 0, 0, 0), (2003, 280.196, 42341.452, 0, 0, 0, 0, 0, 0, 0, 0, 0, 0, 0, 0, 0, 0), (2004, 86.89748, 43345.74026, 0, 0, 0, 0, 0, 0, 0, 0, 0, 0, 0, 0, 0, 0), (2005, 324.98139, 43345.67563, 0, 0, 0, 0, 0, 0, 0, 0, 0, 0, 0, 0, 0, 0), (2006, 501.27013, 42891.82671, 0, 0, 0, 0, 0, 0, 0, 0, 0, 0, 0, 0, 0, 0), (2007, 594.02585, 43126.8092, 0, 0, 0, 0, 0, 0, 0, 0, 0, 0, 0, 0, 0, 0), (2008, 494.67877, 43807.9031, 0, 0, 0, 0, 0, 0, 0, 0, 0, 0, 0, 0, 0, 0)  ... displaying 10 of 19 total bound parameter sets ...  (2018, 896.12229, 39679.287, 0, 0, 0, 0, 0, 0, 0, 0, 0, 0, 0, 0, 0, 0), (2019, 1041.75975, 34846.11571, 0, 0, 0, 0, 0, 0, 0, 0, 0, 0, 0, 0, 0, 0))\n2020-09-04 21:07:44,418 INFO sqlalchemy.engine.base.Engine COMMIT\n2020-09-04 21:07:44,419 INFO sqlalchemy.engine.base.Engine SELECT name FROM sqlite_master WHERE type='table' ORDER BY name\n2020-09-04 21:07:44,420 INFO sqlalchemy.engine.base.Engine ()\n2020-09-04 21:07:44,588 INFO sqlalchemy.engine.base.Engine PRAGMA main.table_info(\"WY Generation\")\n2020-09-04 21:07:44,588 INFO sqlalchemy.engine.base.Engine ()\n2020-09-04 21:07:44,589 INFO sqlalchemy.engine.base.Engine PRAGMA main.table_info(\"WY Generation\")\n2020-09-04 21:07:44,590 INFO sqlalchemy.engine.base.Engine ()\n2020-09-04 21:07:44,590 INFO sqlalchemy.engine.base.Engine SELECT name FROM sqlite_master WHERE type='table' ORDER BY name\n2020-09-04 21:07:44,591 INFO sqlalchemy.engine.base.Engine ()\n2020-09-04 21:07:44,592 INFO sqlalchemy.engine.base.Engine PRAGMA main.table_xinfo(\"WY Generation\")\n2020-09-04 21:07:44,593 INFO sqlalchemy.engine.base.Engine ()\n2020-09-04 21:07:44,594 INFO sqlalchemy.engine.base.Engine SELECT sql FROM  (SELECT * FROM sqlite_master UNION ALL   SELECT * FROM sqlite_temp_master) WHERE name = 'WY Generation' AND type = 'table'\n2020-09-04 21:07:44,595 INFO sqlalchemy.engine.base.Engine ()\n2020-09-04 21:07:44,596 INFO sqlalchemy.engine.base.Engine PRAGMA main.foreign_key_list(\"WY Generation\")\n2020-09-04 21:07:44,596 INFO sqlalchemy.engine.base.Engine ()\n2020-09-04 21:07:44,597 INFO sqlalchemy.engine.base.Engine PRAGMA temp.foreign_key_list(\"WY Generation\")\n2020-09-04 21:07:44,597 INFO sqlalchemy.engine.base.Engine ()\n2020-09-04 21:07:44,598 INFO sqlalchemy.engine.base.Engine SELECT sql FROM  (SELECT * FROM sqlite_master UNION ALL   SELECT * FROM sqlite_temp_master) WHERE name = 'WY Generation' AND type = 'table'\n2020-09-04 21:07:44,598 INFO sqlalchemy.engine.base.Engine ()\n2020-09-04 21:07:44,599 INFO sqlalchemy.engine.base.Engine PRAGMA main.index_list(\"WY Generation\")\n2020-09-04 21:07:44,599 INFO sqlalchemy.engine.base.Engine ()\n2020-09-04 21:07:44,600 INFO sqlalchemy.engine.base.Engine PRAGMA main.index_info(\"ix_WY Generation_index\")\n2020-09-04 21:07:44,600 INFO sqlalchemy.engine.base.Engine ()\n2020-09-04 21:07:44,601 INFO sqlalchemy.engine.base.Engine PRAGMA main.index_list(\"WY Generation\")\n2020-09-04 21:07:44,602 INFO sqlalchemy.engine.base.Engine ()\n2020-09-04 21:07:44,602 INFO sqlalchemy.engine.base.Engine PRAGMA main.index_info(\"ix_WY Generation_index\")\n2020-09-04 21:07:44,603 INFO sqlalchemy.engine.base.Engine ()\n2020-09-04 21:07:44,603 INFO sqlalchemy.engine.base.Engine SELECT sql FROM  (SELECT * FROM sqlite_master UNION ALL   SELECT * FROM sqlite_temp_master) WHERE name = 'WY Generation' AND type = 'table'\n2020-09-04 21:07:44,604 INFO sqlalchemy.engine.base.Engine ()\n2020-09-04 21:07:44,605 INFO sqlalchemy.engine.base.Engine \nDROP TABLE \"WY Generation\"\n2020-09-04 21:07:44,605 INFO sqlalchemy.engine.base.Engine ()\n2020-09-04 21:07:44,606 INFO sqlalchemy.engine.base.Engine COMMIT\n2020-09-04 21:07:44,608 INFO sqlalchemy.engine.base.Engine \nCREATE TABLE \"WY Generation\" (\n\t\"index\" BIGINT, \n\t\"Natural Gas\" FLOAT, \n\t\"Coal\" FLOAT, \n\t\"Petroleum Liquids\" FLOAT, \n\t\"Petroleum Coke\" BIGINT, \n\t\"Other Gasses\" BIGINT, \n\t\"Nuclear\" BIGINT, \n\t\"Hydroelectric\" BIGINT, \n\t\"Wind\" BIGINT, \n\t\"Wood and Wood Derived Fuels\" BIGINT, \n\t\"Other Biomass\" BIGINT, \n\t\"Geothermal\" BIGINT, \n\t\"All Other Renewables\" BIGINT, \n\t\"All Solar\" BIGINT, \n\t\"Other\" BIGINT, \n\t\"Utility Scale Thermal\" BIGINT, \n\t\"Hydroelectic Pumped Storage\" BIGINT\n)\n\n\n2020-09-04 21:07:44,608 INFO sqlalchemy.engine.base.Engine ()\n2020-09-04 21:07:44,610 INFO sqlalchemy.engine.base.Engine COMMIT\n2020-09-04 21:07:44,610 INFO sqlalchemy.engine.base.Engine CREATE INDEX \"ix_WY Generation_index\" ON \"WY Generation\" (\"index\")\n2020-09-04 21:07:44,611 INFO sqlalchemy.engine.base.Engine ()\n2020-09-04 21:07:44,612 INFO sqlalchemy.engine.base.Engine COMMIT\n2020-09-04 21:07:44,613 INFO sqlalchemy.engine.base.Engine BEGIN (implicit)\n2020-09-04 21:07:44,615 INFO sqlalchemy.engine.base.Engine INSERT INTO \"WY Generation\" (\"index\", \"Natural Gas\", \"Coal\", \"Petroleum Liquids\", \"Petroleum Coke\", \"Other Gasses\", \"Nuclear\", \"Hydroelectric\", \"Wind\", \"Wood and Wood Derived Fuels\", \"Other Biomass\", \"Geothermal\", \"All Other Renewables\", \"All Solar\", \"Other\", \"Utility Scale Thermal\", \"Hydroelectic Pumped Storage\") VALUES (?, ?, ?, ?, ?, ?, ?, ?, ?, ?, ?, ?, ?, ?, ?, ?, ?)\n2020-09-04 21:07:44,615 INFO sqlalchemy.engine.base.Engine ((2001, 591.842, 42789.31, 36.096, 0, 0, 0, 0, 0, 0, 0, 0, 0, 0, 0, 0, 0), (2002, 713.08, 41923.161, 40.104, 0, 0, 0, 0, 0, 0, 0, 0, 0, 0, 0, 0, 0), (2003, 280.196, 42341.452, 44.921, 0, 0, 0, 0, 0, 0, 0, 0, 0, 0, 0, 0, 0), (2004, 86.89748, 43345.74026, 45.85884, 0, 0, 0, 0, 0, 0, 0, 0, 0, 0, 0, 0, 0), (2005, 324.98139, 43345.67563, 42.30498, 0, 0, 0, 0, 0, 0, 0, 0, 0, 0, 0, 0, 0), (2006, 501.27013, 42891.82671, 45.937, 0, 0, 0, 0, 0, 0, 0, 0, 0, 0, 0, 0, 0), (2007, 594.02585, 43126.8092, 47.22188, 0, 0, 0, 0, 0, 0, 0, 0, 0, 0, 0, 0, 0), (2008, 494.67877, 43807.9031, 44.0269, 0, 0, 0, 0, 0, 0, 0, 0, 0, 0, 0, 0, 0)  ... displaying 10 of 19 total bound parameter sets ...  (2018, 896.12229, 39679.287, 40.13569, 0, 0, 0, 0, 0, 0, 0, 0, 0, 0, 0, 0, 0), (2019, 1041.75975, 34846.11571, 43.64481, 0, 0, 0, 0, 0, 0, 0, 0, 0, 0, 0, 0, 0))\n2020-09-04 21:07:44,617 INFO sqlalchemy.engine.base.Engine COMMIT\n2020-09-04 21:07:44,618 INFO sqlalchemy.engine.base.Engine SELECT name FROM sqlite_master WHERE type='table' ORDER BY name\n2020-09-04 21:07:44,619 INFO sqlalchemy.engine.base.Engine ()\n'series'. Petroleum Coke not found in WY.\nDone!\n"
    }
   ],
   "source": [
    "#list of the US Energy Sources by EIA.\n",
    "energySources = {\"Natural Gas\" : \"NG\",\n",
    "                \"Coal\" : \"COW\",\n",
    "                \"Petroleum Liquids\" : \"PEL\", \n",
    "                \"Petroleum Coke\" : \"PC\", \n",
    "                \"Other Gasses\": \"OOG\",\n",
    "                \"Nuclear\" : \"NUC\",\n",
    "                \"Hydroelectric\" : 'HYC',\n",
    "                \"Wind\" : \"WND\",\n",
    "                'Wood and Wood Derived Fuels' : 'WWW',\n",
    "                'Other Biomass' : 'WAS',\n",
    "                'Geothermal' : 'GEO',\n",
    "                'All Other Renewables' : \"AOR\",\n",
    "                \"All Solar\": 'TSN',\n",
    "                'Other' : 'OTH',\n",
    "                'Utility Scale Thermal' : 'STH',\n",
    "                'Hydroelectic Pumped Storage' : 'HPS'\n",
    "                }\n",
    "\n",
    "#For state in states\n",
    "for state in states:\n",
    "\n",
    "    #Empty Df to store data\n",
    "    energySrouce_df = pd.DataFrame(columns = energySources.keys(), index = range(2001,2020))\n",
    "\n",
    "    \n",
    "    try:\n",
    "        #For every statem loop each energy source.\n",
    "        for energySourceKey, energySourceValue in zip(energySources.keys(), energySources.values()):\n",
    "            \n",
    "            #builds api query.\n",
    "            priceQuery = f\"ELEC.GEN.{energySourceValue}-{state}-99.A\"\n",
    "            \n",
    "            #API url\n",
    "            url = f\"http://api.eia.gov/series/?api_key={API_KEY}&series_id={priceQuery}\"\n",
    "\n",
    "            #Api reqeust. \n",
    "            energySourceRequest = requests.get(url, allow_redirects = False) \n",
    "\n",
    "            #Extracts the year-energy liss\n",
    "            energySourceList = energySourceRequest.json()['series'][0]['data']\n",
    "\n",
    "            for energy in energySourceList:\n",
    "                energySrouce_df.loc[int(energy[0]), energySourceKey] = energy[1]\n",
    "\n",
    "            energySrouce_df = energySrouce_df.fillna(0)\n",
    "\n",
    "            #Save to Sqlite \n",
    "            energySrouce_df.to_sql(f'{state} Generation', conn, if_exists='replace')\n",
    "    \n",
    "    #if energy surce is not found.\n",
    "    except KeyError as K:\n",
    "        print(f'{K}. {energySourceKey} not found in {state}.')\n",
    "\n",
    "        time.sleep(5)\n",
    "\n",
    "print('Done!')"
   ]
  },
  {
   "cell_type": "code",
   "execution_count": 64,
   "metadata": {
    "tags": []
   },
   "outputs": [
    {
     "output_type": "stream",
     "name": "stdout",
     "text": "2020-09-04 21:07:54,791 INFO sqlalchemy.engine.base.Engine SELECT * from 'CA Generation'\n2020-09-04 21:07:54,791 INFO sqlalchemy.engine.base.Engine ()\n"
    },
    {
     "output_type": "execute_result",
     "data": {
      "text/plain": "    index   Natural Gas        Coal  Petroleum Liquids  Petroleum Coke  \\\n0    2001  111932.27100  2232.85100          935.24300      2119.65000   \n1    2002   89624.04400  2327.80900          131.43400      1829.63200   \n2    2003   91432.18100  2326.30500          396.08500      1996.16400   \n3    2004  100222.23284  2237.80833          171.99778      2090.89968   \n4    2005   93353.84929  2135.37482          256.69518      2287.00208   \n5    2006  105691.11621  2235.34193          272.15311      2096.02095   \n6    2007  115700.47038  2298.30558          277.88741      2056.08688   \n7    2008  119991.73722  2280.40050          162.06442      1579.52595   \n8    2009  113463.45471  2049.94689          136.61562      1406.23282   \n9    2010  107522.31347  2100.22129           53.65868      1005.63016   \n10   2011   88973.83073  1982.18239           46.62263       863.94893   \n11   2012  119668.32863  1375.08324          134.05836       155.76438   \n12   2013  119522.85929   823.17096           48.02088        20.83388   \n13   2014  120426.43549   804.75957           47.44516        18.86014   \n14   2015  116139.60869   297.87406           84.51490         0.00000   \n15   2016   97073.66393   318.87581           91.78607        83.79497   \n16   2017   88350.15830   291.09216           45.79620         0.00000   \n17   2018   89804.70327   281.32814           68.87836         0.00000   \n18   2019   85535.09629   240.45587           52.10547         0.00000   \n\n    Other Gasses    Nuclear  Hydroelectric         Wind  \\\n0     1130.49900  33219.520    25541.77600   3499.73800   \n1     1240.05300  34352.340    31140.62800   3802.64500   \n2     1759.01500  35593.789    36370.70400   3895.43100   \n3     2065.96501  30267.887    34140.92927   4305.87526   \n4     2279.58374  36154.898    39631.86657   4262.22901   \n5     2022.44604  31958.621    48047.38008   4882.80100   \n6     1818.10627  35792.490    27327.75089   5584.93335   \n7     1684.86335  32482.351    24127.80962   5384.95489   \n8     1622.84384  31763.804    27888.03633   5839.81324   \n9     1694.64070  32200.757    33430.87002   6078.63200   \n10    1666.98737  36663.247    42557.46688   7751.83700   \n11    1484.16355  18507.408    26837.37041   9754.22967   \n12    1405.72018  17911.943    23754.59948  12822.06043   \n13    1332.95103  16985.978    16531.34016  12992.49758   \n14    1548.63841  18505.385    13808.49810  12229.55852   \n15    1426.81566  18907.578    28942.12149  13509.03869   \n16    1408.33533  17901.079    42363.14118  12822.94833   \n17    1453.96038  18213.519    26330.66656  14023.95080   \n18    1476.26887  16165.384    40051.23293  14970.45330   \n\n    Wood and Wood Derived Fuels  Other Biomass   Geothermal  \\\n0                    3323.77700     2082.53626  12181.29400   \n1                    3957.58900     2018.75924  13073.61500   \n2                    3880.03700     2254.28079  12981.76300   \n3                    3826.90618     2161.92176  13105.30612   \n4                    3609.13942     2223.52616  13022.63920   \n5                    3422.09289     2294.49548  12821.43400   \n6                    3407.41556     2305.22831  12990.71099   \n7                    3483.55495     2361.94599  12883.00000   \n8                    3732.01555     2467.66026  12852.78300   \n9                    3550.87737     2450.78271  12600.09800   \n10                   3444.68322     2584.69284  12552.38300   \n11                   3797.59599     2513.72090  12518.99900   \n12                   3792.07316     2843.20284  12306.57100   \n13                   3977.42466     2913.29218  12101.72800   \n14                   3584.16471     2883.72913  11883.13500   \n15                   3029.28508     2909.93016  11457.29900   \n16                   2967.46452     2840.99706  11559.60023   \n17                   3122.57094     2823.84906  11676.84100   \n18                   3241.48948     2540.34906  11406.52712   \n\n    All Other Renewables    All Solar      Other  Utility Scale Thermal  \\\n0            21629.61626      0.00000  204.33774                0.00000   \n1            23406.98024      0.00000  398.10776                0.00000   \n2            23545.11779      0.00000  281.49521              531.65837   \n3            23970.89932      0.00000  428.56676              568.93000   \n4            23654.24713      0.00000  419.50825              534.70134   \n5            23915.39536      0.00000  464.07650              492.62400   \n6            24845.25722      0.00000  421.44725              553.78500   \n7            24783.93682      0.00000  570.31095              664.60600   \n8            25539.66161      0.00000  752.68744              613.35972   \n9            25449.72104      0.00000  839.04819              653.67900   \n10           27222.42545      0.00000  916.92410              646.79585   \n11           29966.84542      0.00000  814.68558              639.58196   \n12           35577.63222      0.00000  816.04475              608.81620   \n13           41916.75728  14605.89538  847.83496             1595.41309   \n14           45394.97145  20828.65824  811.71706             2292.81963   \n15           49712.26406  27036.92953  665.66438             2420.50100   \n16           54543.92717  34958.16640  835.53657             2363.78100   \n17           58632.38851  39903.82715  828.76797             2458.10200   \n18           60779.06965  43800.76962  764.38809             2237.44400   \n\n    Hydroelectic Pumped Storage  \n0                      -349.689  \n1                      -240.997  \n2                      -912.313  \n3                      -816.831  \n4                       119.793  \n5                        96.137  \n6                       309.779  \n7                       321.263  \n8                       152.849  \n9                      -171.265  \n10                      -88.793  \n11                      574.859  \n12                      196.290  \n13                     -104.740  \n14                      112.650  \n15                     -259.349  \n16                      407.454  \n17                     -148.574  \n18                      -30.615  ",
      "text/html": "<div>\n<style scoped>\n    .dataframe tbody tr th:only-of-type {\n        vertical-align: middle;\n    }\n\n    .dataframe tbody tr th {\n        vertical-align: top;\n    }\n\n    .dataframe thead th {\n        text-align: right;\n    }\n</style>\n<table border=\"1\" class=\"dataframe\">\n  <thead>\n    <tr style=\"text-align: right;\">\n      <th></th>\n      <th>index</th>\n      <th>Natural Gas</th>\n      <th>Coal</th>\n      <th>Petroleum Liquids</th>\n      <th>Petroleum Coke</th>\n      <th>Other Gasses</th>\n      <th>Nuclear</th>\n      <th>Hydroelectric</th>\n      <th>Wind</th>\n      <th>Wood and Wood Derived Fuels</th>\n      <th>Other Biomass</th>\n      <th>Geothermal</th>\n      <th>All Other Renewables</th>\n      <th>All Solar</th>\n      <th>Other</th>\n      <th>Utility Scale Thermal</th>\n      <th>Hydroelectic Pumped Storage</th>\n    </tr>\n  </thead>\n  <tbody>\n    <tr>\n      <th>0</th>\n      <td>2001</td>\n      <td>111932.27100</td>\n      <td>2232.85100</td>\n      <td>935.24300</td>\n      <td>2119.65000</td>\n      <td>1130.49900</td>\n      <td>33219.520</td>\n      <td>25541.77600</td>\n      <td>3499.73800</td>\n      <td>3323.77700</td>\n      <td>2082.53626</td>\n      <td>12181.29400</td>\n      <td>21629.61626</td>\n      <td>0.00000</td>\n      <td>204.33774</td>\n      <td>0.00000</td>\n      <td>-349.689</td>\n    </tr>\n    <tr>\n      <th>1</th>\n      <td>2002</td>\n      <td>89624.04400</td>\n      <td>2327.80900</td>\n      <td>131.43400</td>\n      <td>1829.63200</td>\n      <td>1240.05300</td>\n      <td>34352.340</td>\n      <td>31140.62800</td>\n      <td>3802.64500</td>\n      <td>3957.58900</td>\n      <td>2018.75924</td>\n      <td>13073.61500</td>\n      <td>23406.98024</td>\n      <td>0.00000</td>\n      <td>398.10776</td>\n      <td>0.00000</td>\n      <td>-240.997</td>\n    </tr>\n    <tr>\n      <th>2</th>\n      <td>2003</td>\n      <td>91432.18100</td>\n      <td>2326.30500</td>\n      <td>396.08500</td>\n      <td>1996.16400</td>\n      <td>1759.01500</td>\n      <td>35593.789</td>\n      <td>36370.70400</td>\n      <td>3895.43100</td>\n      <td>3880.03700</td>\n      <td>2254.28079</td>\n      <td>12981.76300</td>\n      <td>23545.11779</td>\n      <td>0.00000</td>\n      <td>281.49521</td>\n      <td>531.65837</td>\n      <td>-912.313</td>\n    </tr>\n    <tr>\n      <th>3</th>\n      <td>2004</td>\n      <td>100222.23284</td>\n      <td>2237.80833</td>\n      <td>171.99778</td>\n      <td>2090.89968</td>\n      <td>2065.96501</td>\n      <td>30267.887</td>\n      <td>34140.92927</td>\n      <td>4305.87526</td>\n      <td>3826.90618</td>\n      <td>2161.92176</td>\n      <td>13105.30612</td>\n      <td>23970.89932</td>\n      <td>0.00000</td>\n      <td>428.56676</td>\n      <td>568.93000</td>\n      <td>-816.831</td>\n    </tr>\n    <tr>\n      <th>4</th>\n      <td>2005</td>\n      <td>93353.84929</td>\n      <td>2135.37482</td>\n      <td>256.69518</td>\n      <td>2287.00208</td>\n      <td>2279.58374</td>\n      <td>36154.898</td>\n      <td>39631.86657</td>\n      <td>4262.22901</td>\n      <td>3609.13942</td>\n      <td>2223.52616</td>\n      <td>13022.63920</td>\n      <td>23654.24713</td>\n      <td>0.00000</td>\n      <td>419.50825</td>\n      <td>534.70134</td>\n      <td>119.793</td>\n    </tr>\n    <tr>\n      <th>5</th>\n      <td>2006</td>\n      <td>105691.11621</td>\n      <td>2235.34193</td>\n      <td>272.15311</td>\n      <td>2096.02095</td>\n      <td>2022.44604</td>\n      <td>31958.621</td>\n      <td>48047.38008</td>\n      <td>4882.80100</td>\n      <td>3422.09289</td>\n      <td>2294.49548</td>\n      <td>12821.43400</td>\n      <td>23915.39536</td>\n      <td>0.00000</td>\n      <td>464.07650</td>\n      <td>492.62400</td>\n      <td>96.137</td>\n    </tr>\n    <tr>\n      <th>6</th>\n      <td>2007</td>\n      <td>115700.47038</td>\n      <td>2298.30558</td>\n      <td>277.88741</td>\n      <td>2056.08688</td>\n      <td>1818.10627</td>\n      <td>35792.490</td>\n      <td>27327.75089</td>\n      <td>5584.93335</td>\n      <td>3407.41556</td>\n      <td>2305.22831</td>\n      <td>12990.71099</td>\n      <td>24845.25722</td>\n      <td>0.00000</td>\n      <td>421.44725</td>\n      <td>553.78500</td>\n      <td>309.779</td>\n    </tr>\n    <tr>\n      <th>7</th>\n      <td>2008</td>\n      <td>119991.73722</td>\n      <td>2280.40050</td>\n      <td>162.06442</td>\n      <td>1579.52595</td>\n      <td>1684.86335</td>\n      <td>32482.351</td>\n      <td>24127.80962</td>\n      <td>5384.95489</td>\n      <td>3483.55495</td>\n      <td>2361.94599</td>\n      <td>12883.00000</td>\n      <td>24783.93682</td>\n      <td>0.00000</td>\n      <td>570.31095</td>\n      <td>664.60600</td>\n      <td>321.263</td>\n    </tr>\n    <tr>\n      <th>8</th>\n      <td>2009</td>\n      <td>113463.45471</td>\n      <td>2049.94689</td>\n      <td>136.61562</td>\n      <td>1406.23282</td>\n      <td>1622.84384</td>\n      <td>31763.804</td>\n      <td>27888.03633</td>\n      <td>5839.81324</td>\n      <td>3732.01555</td>\n      <td>2467.66026</td>\n      <td>12852.78300</td>\n      <td>25539.66161</td>\n      <td>0.00000</td>\n      <td>752.68744</td>\n      <td>613.35972</td>\n      <td>152.849</td>\n    </tr>\n    <tr>\n      <th>9</th>\n      <td>2010</td>\n      <td>107522.31347</td>\n      <td>2100.22129</td>\n      <td>53.65868</td>\n      <td>1005.63016</td>\n      <td>1694.64070</td>\n      <td>32200.757</td>\n      <td>33430.87002</td>\n      <td>6078.63200</td>\n      <td>3550.87737</td>\n      <td>2450.78271</td>\n      <td>12600.09800</td>\n      <td>25449.72104</td>\n      <td>0.00000</td>\n      <td>839.04819</td>\n      <td>653.67900</td>\n      <td>-171.265</td>\n    </tr>\n    <tr>\n      <th>10</th>\n      <td>2011</td>\n      <td>88973.83073</td>\n      <td>1982.18239</td>\n      <td>46.62263</td>\n      <td>863.94893</td>\n      <td>1666.98737</td>\n      <td>36663.247</td>\n      <td>42557.46688</td>\n      <td>7751.83700</td>\n      <td>3444.68322</td>\n      <td>2584.69284</td>\n      <td>12552.38300</td>\n      <td>27222.42545</td>\n      <td>0.00000</td>\n      <td>916.92410</td>\n      <td>646.79585</td>\n      <td>-88.793</td>\n    </tr>\n    <tr>\n      <th>11</th>\n      <td>2012</td>\n      <td>119668.32863</td>\n      <td>1375.08324</td>\n      <td>134.05836</td>\n      <td>155.76438</td>\n      <td>1484.16355</td>\n      <td>18507.408</td>\n      <td>26837.37041</td>\n      <td>9754.22967</td>\n      <td>3797.59599</td>\n      <td>2513.72090</td>\n      <td>12518.99900</td>\n      <td>29966.84542</td>\n      <td>0.00000</td>\n      <td>814.68558</td>\n      <td>639.58196</td>\n      <td>574.859</td>\n    </tr>\n    <tr>\n      <th>12</th>\n      <td>2013</td>\n      <td>119522.85929</td>\n      <td>823.17096</td>\n      <td>48.02088</td>\n      <td>20.83388</td>\n      <td>1405.72018</td>\n      <td>17911.943</td>\n      <td>23754.59948</td>\n      <td>12822.06043</td>\n      <td>3792.07316</td>\n      <td>2843.20284</td>\n      <td>12306.57100</td>\n      <td>35577.63222</td>\n      <td>0.00000</td>\n      <td>816.04475</td>\n      <td>608.81620</td>\n      <td>196.290</td>\n    </tr>\n    <tr>\n      <th>13</th>\n      <td>2014</td>\n      <td>120426.43549</td>\n      <td>804.75957</td>\n      <td>47.44516</td>\n      <td>18.86014</td>\n      <td>1332.95103</td>\n      <td>16985.978</td>\n      <td>16531.34016</td>\n      <td>12992.49758</td>\n      <td>3977.42466</td>\n      <td>2913.29218</td>\n      <td>12101.72800</td>\n      <td>41916.75728</td>\n      <td>14605.89538</td>\n      <td>847.83496</td>\n      <td>1595.41309</td>\n      <td>-104.740</td>\n    </tr>\n    <tr>\n      <th>14</th>\n      <td>2015</td>\n      <td>116139.60869</td>\n      <td>297.87406</td>\n      <td>84.51490</td>\n      <td>0.00000</td>\n      <td>1548.63841</td>\n      <td>18505.385</td>\n      <td>13808.49810</td>\n      <td>12229.55852</td>\n      <td>3584.16471</td>\n      <td>2883.72913</td>\n      <td>11883.13500</td>\n      <td>45394.97145</td>\n      <td>20828.65824</td>\n      <td>811.71706</td>\n      <td>2292.81963</td>\n      <td>112.650</td>\n    </tr>\n    <tr>\n      <th>15</th>\n      <td>2016</td>\n      <td>97073.66393</td>\n      <td>318.87581</td>\n      <td>91.78607</td>\n      <td>83.79497</td>\n      <td>1426.81566</td>\n      <td>18907.578</td>\n      <td>28942.12149</td>\n      <td>13509.03869</td>\n      <td>3029.28508</td>\n      <td>2909.93016</td>\n      <td>11457.29900</td>\n      <td>49712.26406</td>\n      <td>27036.92953</td>\n      <td>665.66438</td>\n      <td>2420.50100</td>\n      <td>-259.349</td>\n    </tr>\n    <tr>\n      <th>16</th>\n      <td>2017</td>\n      <td>88350.15830</td>\n      <td>291.09216</td>\n      <td>45.79620</td>\n      <td>0.00000</td>\n      <td>1408.33533</td>\n      <td>17901.079</td>\n      <td>42363.14118</td>\n      <td>12822.94833</td>\n      <td>2967.46452</td>\n      <td>2840.99706</td>\n      <td>11559.60023</td>\n      <td>54543.92717</td>\n      <td>34958.16640</td>\n      <td>835.53657</td>\n      <td>2363.78100</td>\n      <td>407.454</td>\n    </tr>\n    <tr>\n      <th>17</th>\n      <td>2018</td>\n      <td>89804.70327</td>\n      <td>281.32814</td>\n      <td>68.87836</td>\n      <td>0.00000</td>\n      <td>1453.96038</td>\n      <td>18213.519</td>\n      <td>26330.66656</td>\n      <td>14023.95080</td>\n      <td>3122.57094</td>\n      <td>2823.84906</td>\n      <td>11676.84100</td>\n      <td>58632.38851</td>\n      <td>39903.82715</td>\n      <td>828.76797</td>\n      <td>2458.10200</td>\n      <td>-148.574</td>\n    </tr>\n    <tr>\n      <th>18</th>\n      <td>2019</td>\n      <td>85535.09629</td>\n      <td>240.45587</td>\n      <td>52.10547</td>\n      <td>0.00000</td>\n      <td>1476.26887</td>\n      <td>16165.384</td>\n      <td>40051.23293</td>\n      <td>14970.45330</td>\n      <td>3241.48948</td>\n      <td>2540.34906</td>\n      <td>11406.52712</td>\n      <td>60779.06965</td>\n      <td>43800.76962</td>\n      <td>764.38809</td>\n      <td>2237.44400</td>\n      <td>-30.615</td>\n    </tr>\n  </tbody>\n</table>\n</div>"
     },
     "metadata": {},
     "execution_count": 64
    }
   ],
   "source": [
    "#To view the sqlite \n",
    "stateGeneration = pd.read_sql_query(\"SELECT * from 'CA Generation'\", conn) #State Initials to display table.\n",
    "stateGeneration"
   ]
  },
  {
   "cell_type": "markdown",
   "metadata": {},
   "source": [
    "# Energy Consumption by State\n",
    "\n",
    "<img src=\"images/Energy Classification.png\">\n"
   ]
  },
  {
   "cell_type": "code",
   "execution_count": 18,
   "metadata": {
    "tags": []
   },
   "outputs": [
    {
     "output_type": "stream",
     "name": "stdout",
     "text": "2020-09-04 20:38:38,824 INFO sqlalchemy.engine.base.Engine PRAGMA main.table_info(\"End User Consumption\")\n2020-09-04 20:38:38,825 INFO sqlalchemy.engine.base.Engine ()\n2020-09-04 20:38:38,825 INFO sqlalchemy.engine.base.Engine PRAGMA temp.table_info(\"End User Consumption\")\n2020-09-04 20:38:38,825 INFO sqlalchemy.engine.base.Engine ()\n2020-09-04 20:38:38,828 INFO sqlalchemy.engine.base.Engine \nCREATE TABLE \"End User Consumption\" (\n\t\"index\" TEXT, \n\t\"AL\" TEXT, \n\t\"AK\" TEXT, \n\t\"AZ\" TEXT, \n\t\"AR\" TEXT, \n\t\"CA\" TEXT, \n\t\"CO\" TEXT, \n\t\"CT\" TEXT, \n\t\"DC\" TEXT, \n\t\"DE\" TEXT, \n\t\"FL\" TEXT, \n\t\"GA\" TEXT, \n\t\"HI\" TEXT, \n\t\"ID\" TEXT, \n\t\"IL\" TEXT, \n\t\"IN\" TEXT, \n\t\"IA\" TEXT, \n\t\"KS\" TEXT, \n\t\"KY\" TEXT, \n\t\"LA\" TEXT, \n\t\"ME\" TEXT, \n\t\"MD\" TEXT, \n\t\"MA\" TEXT, \n\t\"MI\" TEXT, \n\t\"MN\" TEXT, \n\t\"MS\" TEXT, \n\t\"MO\" TEXT, \n\t\"MT\" TEXT, \n\t\"NE\" TEXT, \n\t\"NV\" TEXT, \n\t\"NH\" TEXT, \n\t\"NJ\" TEXT, \n\t\"NM\" TEXT, \n\t\"NY\" TEXT, \n\t\"NC\" TEXT, \n\t\"ND\" TEXT, \n\t\"OH\" TEXT, \n\t\"OK\" TEXT, \n\t\"OR\" TEXT, \n\t\"PA\" TEXT, \n\t\"RI\" TEXT, \n\t\"SC\" TEXT, \n\t\"SD\" TEXT, \n\t\"TN\" TEXT, \n\t\"TX\" TEXT, \n\t\"UT\" TEXT, \n\t\"VT\" TEXT, \n\t\"VA\" TEXT, \n\t\"WA\" TEXT, \n\t\"WV\" TEXT, \n\t\"WI\" TEXT, \n\t\"WY\" TEXT\n)\n\n\n2020-09-04 20:38:38,829 INFO sqlalchemy.engine.base.Engine ()\n2020-09-04 20:38:38,832 INFO sqlalchemy.engine.base.Engine COMMIT\n2020-09-04 20:38:38,833 INFO sqlalchemy.engine.base.Engine CREATE INDEX \"ix_End User Consumption_index\" ON \"End User Consumption\" (\"index\")\n2020-09-04 20:38:38,834 INFO sqlalchemy.engine.base.Engine ()\n2020-09-04 20:38:38,835 INFO sqlalchemy.engine.base.Engine COMMIT\n2020-09-04 20:38:38,837 INFO sqlalchemy.engine.base.Engine BEGIN (implicit)\n2020-09-04 20:38:38,840 INFO sqlalchemy.engine.base.Engine INSERT INTO \"End User Consumption\" (\"index\", \"AL\", \"AK\", \"AZ\", \"AR\", \"CA\", \"CO\", \"CT\", \"DC\", \"DE\", \"FL\", \"GA\", \"HI\", \"ID\", \"IL\", \"IN\", \"IA\", \"KS\", \"KY\", \"LA\", \"ME\", \"MD\", \"MA\", \"MI\", \"MN\", \"MS\", \"MO\", \"MT\", \"NE\", \"NV\", \"NH\", \"NJ\", \"NM\", \"NY\", \"NC\", \"ND\", \"OH\", \"OK\", \"OR\", \"PA\", \"RI\", \"SC\", \"SD\", \"TN\", \"TX\", \"UT\", \"VT\", \"VA\", \"WA\", \"WV\", \"WI\", \"WY\") VALUES (?, ?, ?, ?, ?, ?, ?, ?, ?, ?, ?, ?, ?, ?, ?, ?, ?, ?, ?, ?, ?, ?, ?, ?, ?, ?, ?, ?, ?, ?, ?, ?, ?, ?, ?, ?, ?, ?, ?, ?, ?, ?, ?, ?, ?, ?, ?, ?, ?, ?, ?, ?)\n2020-09-04 20:38:38,840 INFO sqlalchemy.engine.base.Engine (('Coal', '(4.3%)', '(1.2%)', '(0.7%)', '(0.5%)', '(0.5%)', '(0.3%)', '(0.0%)', '(0.0%)', '(0.0%)', '(0.4%)', '(0.4%)', '(0.0%)', '(0.7%)', '(2.8%)', '(7.6%)', '(3.5%)', '(0.3%)', '(1.7%)', '(0.1%)', '(0.2%)', '(1.3%)', '(0.0%)', '(2.5%)', '(1.4%)', '(0.0%)', '(1.5%)', '(1.3%)', '(3.0%)', '(1.3%)', '(0.0%)', '(0.0%)', '(0.3%)', '(0.3%)', '(0.7%)', '(18.6%)', '(4.2%)', '(0.5%)', '(0.2%)', '(5.9%)', '(0.0%)', '(0.5%)', '(1.0%)', '(2.4%)', '(0.1%)', '(1.4%)', '(0.0%)', '(2.7%)', '(0.1%)', '(4.7%)', '(1.5%)', '(7.3%)'), ('Naturalgas', '(23.3%)', '(55.8%)', '(10.7%)', '(26.2%)', '(24.7%)', '(34.2%)', '(25.0%)', '(35.0%)', '(28.5%)', '(7.3%)', '(19.0%)', '(1.3%)', '(22.8%)', '(33.7%)', '(33.3%)', '(32.0%)', '(35.2%)', '(20.2%)', '(40.1%)', '(10.2%)', '(22.8%)', '(28.2%)', '(34.2%)', '(30.8%)', '(23.1%)', '(21.2%)', '(25.9%)', '(27.4%)', '(19.8%)', '(11.9%)', '(28.6%)', '(32.7%)', '(32.7%)', '(15.2%)', '(24.5%)', '(31.9%)', '(38.4%)', '(19.2%)', '(32.0%)', '(28.3%)', '(14.6%)', '(27.3%)', '(19.8%)', '(24.8%)', '(30.2%)', '(10.8%)', '(18.0%)', '(16.7%)', '(35.3%)', '(31.2%)', '(39.9%)'), ('Petroleum', '(38.9%)', '(37.8%)', '(58.0%)', '(43.0%)', '(57.7%)', '(46.1%)', '(55.3%)', '(21.6%)', '(51.8%)', '(59.4%)', '(46.5%)', '(78.7%)', '(46.7%)', '(43.6%)', '(37.2%)', '(33.2%)', '(43.1%)', '(52.8%)', '(48.4%)', '(53.8%)', '(50.5%)', '(52.1%)', '(41.4%)', '(43.0%)', '(52.3%)', '(51.3%)', '(51.7%)', '(36.8%)', '(52.0%)', '(65.0%)', '(55.0%)', '(49.2%)', '(46.5%)', '(51.1%)', '(38.0%)', '(41.7%)', '(42.2%)', '(48.0%)', '(41.5%)', '(54.1%)', '(50.8%)', '(38.1%)', '(49.4%)', '(61.7%)', '(49.9%)', '(60.0%)', '(49.4%)', '(55.2%)', '(37.6%)', '(40.9%)', '(38.2%)'), ('Renewableenergy', '(11.6%)', '(1.6%)', '(3.3%)', '(9.3%)', '(3.4%)', '(2.3%)', '(2.9%)', '(1.7%)', '(1.1%)', '(5.1%)', '(9.9%)', '(6.5%)', '(9.7%)', '(3.5%)', '(4.7%)', '(18.0%)', '(4.1%)', '(3.2%)', '(3.1%)', '(23.1%)', '(2.6%)', '(3.4%)', '(5.6%)', '(8.7%)', '(6.0%)', '(3.4%)', '(5.7%)', '(17.4%)', '(2.2%)', '(7.8%)', '(1.7%)', '(2.8%)', '(3.2%)', '(5.4%)', '(5.3%)', '(3.1%)', '(2.2%)', '(9.8%)', '(3.6%)', '(1.6%)', '(8.3%)', '(19.6%)', '(5.2%)', '(0.9%)', '(1.5%)', '(14.8%)', '(5.2%)', '(7.5%)', '(3.1%)', '(8.9%)', '(1.3%)'), ('Electricity', '(21.9%)', '(3.5%)', '(27.4%)', '(21.0%)', '(13.7%)', '(17.0%)', '(16.8%)', '(41.6%)', '(18.6%)', '(27.7%)', '(24.2%)', '(13.4%)', '(20.1%)', '(16.4%)', '(17.2%)', '(13.3%)', '(17.3%)', '(22.1%)', '(8.3%)', '(12.7%)', '(22.8%)', '(16.3%)', '(16.4%)', '(16.2%)', '(18.6%)', '(22.5%)', '(15.4%)', '(15.4%)', '(24.7%)', '(15.3%)', '(14.7%)', '(15.0%)', '(17.3%)', '(27.6%)', '(13.7%)', '(19.1%)', '(16.7%)', '(22.9%)', '(17.0%)', '(16.0%)', '(25.7%)', '(14.0%)', '(23.2%)', '(12.5%)', '(16.9%)', '(14.3%)', '(24.7%)', '(20.5%)', '(19.2%)', '(17.5%)', '(13.3%)'))\n2020-09-04 20:38:38,842 INFO sqlalchemy.engine.base.Engine COMMIT\n2020-09-04 20:38:38,843 INFO sqlalchemy.engine.base.Engine SELECT name FROM sqlite_master WHERE type='table' ORDER BY name\n2020-09-04 20:38:38,843 INFO sqlalchemy.engine.base.Engine ()\n"
    }
   ],
   "source": [
    "# Empty dataframe to store the data \n",
    "EndUseCosumption_df = pd.DataFrame(columns = states)\n",
    "\n",
    "for state in states:\n",
    "\n",
    "    #URL to scrape\n",
    "    url = f\"https://www.eia.gov/beta/states/states/{state}/overview\"\n",
    "\n",
    "    #Open url.\n",
    "    browser.get(url)\n",
    "\n",
    "    #Time to let the website load all the elements\n",
    "    time.sleep(3)\n",
    "\n",
    "    #save the html source.\n",
    "    html = browser.page_source\n",
    "\n",
    "    #Use bs4 to parse the html response.\n",
    "    soup = bs(html, \"html.parser\")\n",
    "\n",
    "    #List of classes to parse \n",
    "    parseClasses = [\"info-coal\",\"info-natural-gas\",\"info-petroleum\",\"info-renewable\",'info-electricity'] \n",
    "\n",
    "    for parseClass in parseClasses:\n",
    "\n",
    "        yummySoup = soup.find_all(\"li\", class_={parseClass})[0].text.split()\n",
    "\n",
    "        typeEnergy = yummySoup[0]\n",
    "\n",
    "        marketShare = yummySoup[2]\n",
    "\n",
    "        EndUseCosumption_df.loc[typeEnergy,state] = marketShare\n",
    "\n",
    "#Save to Sqlite \n",
    "EndUseCosumption_df.to_sql('End User Consumption', conn, if_exists='replace')"
   ]
  },
  {
   "cell_type": "code",
   "execution_count": 20,
   "metadata": {
    "tags": []
   },
   "outputs": [
    {
     "output_type": "stream",
     "name": "stdout",
     "text": "2020-09-04 20:44:35,584 INFO sqlalchemy.engine.base.Engine SELECT * from 'End User Consumption'\n2020-09-04 20:44:35,585 INFO sqlalchemy.engine.base.Engine ()\n"
    },
    {
     "output_type": "execute_result",
     "data": {
      "text/plain": "             index       AL       AK       AZ       AR       CA       CO  \\\n0             Coal   (4.3%)   (1.2%)   (0.7%)   (0.5%)   (0.5%)   (0.3%)   \n1       Naturalgas  (23.3%)  (55.8%)  (10.7%)  (26.2%)  (24.7%)  (34.2%)   \n2        Petroleum  (38.9%)  (37.8%)  (58.0%)  (43.0%)  (57.7%)  (46.1%)   \n3  Renewableenergy  (11.6%)   (1.6%)   (3.3%)   (9.3%)   (3.4%)   (2.3%)   \n4      Electricity  (21.9%)   (3.5%)  (27.4%)  (21.0%)  (13.7%)  (17.0%)   \n\n        CT       DC       DE  ...       SD       TN       TX       UT  \\\n0   (0.0%)   (0.0%)   (0.0%)  ...   (1.0%)   (2.4%)   (0.1%)   (1.4%)   \n1  (25.0%)  (35.0%)  (28.5%)  ...  (27.3%)  (19.8%)  (24.8%)  (30.2%)   \n2  (55.3%)  (21.6%)  (51.8%)  ...  (38.1%)  (49.4%)  (61.7%)  (49.9%)   \n3   (2.9%)   (1.7%)   (1.1%)  ...  (19.6%)   (5.2%)   (0.9%)   (1.5%)   \n4  (16.8%)  (41.6%)  (18.6%)  ...  (14.0%)  (23.2%)  (12.5%)  (16.9%)   \n\n        VT       VA       WA       WV       WI       WY  \n0   (0.0%)   (2.7%)   (0.1%)   (4.7%)   (1.5%)   (7.3%)  \n1  (10.8%)  (18.0%)  (16.7%)  (35.3%)  (31.2%)  (39.9%)  \n2  (60.0%)  (49.4%)  (55.2%)  (37.6%)  (40.9%)  (38.2%)  \n3  (14.8%)   (5.2%)   (7.5%)   (3.1%)   (8.9%)   (1.3%)  \n4  (14.3%)  (24.7%)  (20.5%)  (19.2%)  (17.5%)  (13.3%)  \n\n[5 rows x 52 columns]",
      "text/html": "<div>\n<style scoped>\n    .dataframe tbody tr th:only-of-type {\n        vertical-align: middle;\n    }\n\n    .dataframe tbody tr th {\n        vertical-align: top;\n    }\n\n    .dataframe thead th {\n        text-align: right;\n    }\n</style>\n<table border=\"1\" class=\"dataframe\">\n  <thead>\n    <tr style=\"text-align: right;\">\n      <th></th>\n      <th>index</th>\n      <th>AL</th>\n      <th>AK</th>\n      <th>AZ</th>\n      <th>AR</th>\n      <th>CA</th>\n      <th>CO</th>\n      <th>CT</th>\n      <th>DC</th>\n      <th>DE</th>\n      <th>...</th>\n      <th>SD</th>\n      <th>TN</th>\n      <th>TX</th>\n      <th>UT</th>\n      <th>VT</th>\n      <th>VA</th>\n      <th>WA</th>\n      <th>WV</th>\n      <th>WI</th>\n      <th>WY</th>\n    </tr>\n  </thead>\n  <tbody>\n    <tr>\n      <th>0</th>\n      <td>Coal</td>\n      <td>(4.3%)</td>\n      <td>(1.2%)</td>\n      <td>(0.7%)</td>\n      <td>(0.5%)</td>\n      <td>(0.5%)</td>\n      <td>(0.3%)</td>\n      <td>(0.0%)</td>\n      <td>(0.0%)</td>\n      <td>(0.0%)</td>\n      <td>...</td>\n      <td>(1.0%)</td>\n      <td>(2.4%)</td>\n      <td>(0.1%)</td>\n      <td>(1.4%)</td>\n      <td>(0.0%)</td>\n      <td>(2.7%)</td>\n      <td>(0.1%)</td>\n      <td>(4.7%)</td>\n      <td>(1.5%)</td>\n      <td>(7.3%)</td>\n    </tr>\n    <tr>\n      <th>1</th>\n      <td>Naturalgas</td>\n      <td>(23.3%)</td>\n      <td>(55.8%)</td>\n      <td>(10.7%)</td>\n      <td>(26.2%)</td>\n      <td>(24.7%)</td>\n      <td>(34.2%)</td>\n      <td>(25.0%)</td>\n      <td>(35.0%)</td>\n      <td>(28.5%)</td>\n      <td>...</td>\n      <td>(27.3%)</td>\n      <td>(19.8%)</td>\n      <td>(24.8%)</td>\n      <td>(30.2%)</td>\n      <td>(10.8%)</td>\n      <td>(18.0%)</td>\n      <td>(16.7%)</td>\n      <td>(35.3%)</td>\n      <td>(31.2%)</td>\n      <td>(39.9%)</td>\n    </tr>\n    <tr>\n      <th>2</th>\n      <td>Petroleum</td>\n      <td>(38.9%)</td>\n      <td>(37.8%)</td>\n      <td>(58.0%)</td>\n      <td>(43.0%)</td>\n      <td>(57.7%)</td>\n      <td>(46.1%)</td>\n      <td>(55.3%)</td>\n      <td>(21.6%)</td>\n      <td>(51.8%)</td>\n      <td>...</td>\n      <td>(38.1%)</td>\n      <td>(49.4%)</td>\n      <td>(61.7%)</td>\n      <td>(49.9%)</td>\n      <td>(60.0%)</td>\n      <td>(49.4%)</td>\n      <td>(55.2%)</td>\n      <td>(37.6%)</td>\n      <td>(40.9%)</td>\n      <td>(38.2%)</td>\n    </tr>\n    <tr>\n      <th>3</th>\n      <td>Renewableenergy</td>\n      <td>(11.6%)</td>\n      <td>(1.6%)</td>\n      <td>(3.3%)</td>\n      <td>(9.3%)</td>\n      <td>(3.4%)</td>\n      <td>(2.3%)</td>\n      <td>(2.9%)</td>\n      <td>(1.7%)</td>\n      <td>(1.1%)</td>\n      <td>...</td>\n      <td>(19.6%)</td>\n      <td>(5.2%)</td>\n      <td>(0.9%)</td>\n      <td>(1.5%)</td>\n      <td>(14.8%)</td>\n      <td>(5.2%)</td>\n      <td>(7.5%)</td>\n      <td>(3.1%)</td>\n      <td>(8.9%)</td>\n      <td>(1.3%)</td>\n    </tr>\n    <tr>\n      <th>4</th>\n      <td>Electricity</td>\n      <td>(21.9%)</td>\n      <td>(3.5%)</td>\n      <td>(27.4%)</td>\n      <td>(21.0%)</td>\n      <td>(13.7%)</td>\n      <td>(17.0%)</td>\n      <td>(16.8%)</td>\n      <td>(41.6%)</td>\n      <td>(18.6%)</td>\n      <td>...</td>\n      <td>(14.0%)</td>\n      <td>(23.2%)</td>\n      <td>(12.5%)</td>\n      <td>(16.9%)</td>\n      <td>(14.3%)</td>\n      <td>(24.7%)</td>\n      <td>(20.5%)</td>\n      <td>(19.2%)</td>\n      <td>(17.5%)</td>\n      <td>(13.3%)</td>\n    </tr>\n  </tbody>\n</table>\n<p>5 rows × 52 columns</p>\n</div>"
     },
     "metadata": {},
     "execution_count": 20
    }
   ],
   "source": [
    "#To view the sqlite \n",
    "endUser = pd.read_sql_query(\"SELECT * from 'End User Consumption'\", conn)\n",
    "endUser"
   ]
  },
  {
   "cell_type": "code",
   "execution_count": 19,
   "metadata": {
    "tags": []
   },
   "outputs": [
    {
     "output_type": "stream",
     "name": "stdout",
     "text": "2020-09-04 20:44:35,314 INFO sqlalchemy.engine.base.Engine PRAGMA main.table_info(\"Electric Power Consumption\")\n2020-09-04 20:44:35,314 INFO sqlalchemy.engine.base.Engine ()\n2020-09-04 20:44:35,315 INFO sqlalchemy.engine.base.Engine PRAGMA temp.table_info(\"Electric Power Consumption\")\n2020-09-04 20:44:35,315 INFO sqlalchemy.engine.base.Engine ()\n2020-09-04 20:44:35,319 INFO sqlalchemy.engine.base.Engine \nCREATE TABLE \"Electric Power Consumption\" (\n\t\"index\" TEXT, \n\t\"AL\" TEXT, \n\t\"AK\" TEXT, \n\t\"AZ\" TEXT, \n\t\"AR\" TEXT, \n\t\"CA\" TEXT, \n\t\"CO\" TEXT, \n\t\"CT\" TEXT, \n\t\"DC\" TEXT, \n\t\"DE\" TEXT, \n\t\"FL\" TEXT, \n\t\"GA\" TEXT, \n\t\"HI\" TEXT, \n\t\"ID\" TEXT, \n\t\"IL\" TEXT, \n\t\"IN\" TEXT, \n\t\"IA\" TEXT, \n\t\"KS\" TEXT, \n\t\"KY\" TEXT, \n\t\"LA\" TEXT, \n\t\"ME\" TEXT, \n\t\"MD\" TEXT, \n\t\"MA\" TEXT, \n\t\"MI\" TEXT, \n\t\"MN\" TEXT, \n\t\"MS\" TEXT, \n\t\"MO\" TEXT, \n\t\"MT\" TEXT, \n\t\"NE\" TEXT, \n\t\"NV\" TEXT, \n\t\"NH\" TEXT, \n\t\"NJ\" TEXT, \n\t\"NM\" TEXT, \n\t\"NY\" TEXT, \n\t\"NC\" TEXT, \n\t\"ND\" TEXT, \n\t\"OH\" TEXT, \n\t\"OK\" TEXT, \n\t\"OR\" TEXT, \n\t\"PA\" TEXT, \n\t\"RI\" TEXT, \n\t\"SC\" TEXT, \n\t\"SD\" TEXT, \n\t\"TN\" TEXT, \n\t\"TX\" TEXT, \n\t\"UT\" TEXT, \n\t\"VT\" TEXT, \n\t\"VA\" TEXT, \n\t\"WA\" TEXT, \n\t\"WV\" TEXT, \n\t\"WI\" TEXT, \n\t\"WY\" TEXT\n)\n\n\n2020-09-04 20:44:35,321 INFO sqlalchemy.engine.base.Engine ()\n2020-09-04 20:44:35,323 INFO sqlalchemy.engine.base.Engine COMMIT\n2020-09-04 20:44:35,324 INFO sqlalchemy.engine.base.Engine CREATE INDEX \"ix_Electric Power Consumption_index\" ON \"Electric Power Consumption\" (\"index\")\n2020-09-04 20:44:35,325 INFO sqlalchemy.engine.base.Engine ()\n2020-09-04 20:44:35,326 INFO sqlalchemy.engine.base.Engine COMMIT\n2020-09-04 20:44:35,328 INFO sqlalchemy.engine.base.Engine BEGIN (implicit)\n2020-09-04 20:44:35,524 INFO sqlalchemy.engine.base.Engine INSERT INTO \"Electric Power Consumption\" (\"index\", \"AL\", \"AK\", \"AZ\", \"AR\", \"CA\", \"CO\", \"CT\", \"DC\", \"DE\", \"FL\", \"GA\", \"HI\", \"ID\", \"IL\", \"IN\", \"IA\", \"KS\", \"KY\", \"LA\", \"ME\", \"MD\", \"MA\", \"MI\", \"MN\", \"MS\", \"MO\", \"MT\", \"NE\", \"NV\", \"NH\", \"NJ\", \"NM\", \"NY\", \"NC\", \"ND\", \"OH\", \"OK\", \"OR\", \"PA\", \"RI\", \"SC\", \"SD\", \"TN\", \"TX\", \"UT\", \"VT\", \"VA\", \"WA\", \"WV\", \"WI\", \"WY\") VALUES (?, ?, ?, ?, ?, ?, ?, ?, ?, ?, ?, ?, ?, ?, ?, ?, ?, ?, ?, ?, ?, ?, ?, ?, ?, ?, ?, ?, ?, ?, ?, ?, ?, ?, ?, ?, ?, ?, ?, ?, ?, ?, ?, ?, ?, ?, ?, ?, ?, ?, ?, ?)\n2020-09-04 20:44:35,525 INFO sqlalchemy.engine.base.Engine (('Coal', '(24.7%)', '(18.7%)', '(30.5%)', '(48.3%)', '(0.0%)', '(52.3%)', '(1.2%)', '(0.0%)', '(9.6%)', '(15.6%)', '(29.1%)', '(16.0%)', '(0.0%)', '(32.6%)', '(75.7%)', '(47.6%)', '(43.0%)', '(79.8%)', '(19.7%)', '(1.7%)', '(27.0%)', '(0.0%)', '(39.7%)', '(40.6%)', '(11.7%)', '(75.3%)', '(52.0%)', '(64.7%)', '(8.5%)', '(4.5%)', '(2.5%)', '(44.0%)', '(0.6%)', '(25.2%)', '(69.3%)', '(51.2%)', '(21.6%)', '(2.8%)', '(23.3%)', '(0.0%)', '(20.4%)', '(21.0%)', '(27.1%)', '(29.2%)', '(71.7%)', '(0.0%)', '(12.4%)', '(5.6%)', '(94.1%)', '(54.2%)', '(89.8%)'), ('Naturalgas', '(34.6%)', '(45.6%)', '(27.8%)', '(25.1%)', '(39.4%)', '(25.8%)', '(40.8%)', '(0.0%)', '(83.9%)', '(64.0%)', '(33.7%)', '(0.0%)', '(15.4%)', '(7.5%)', '(18.8%)', '(8.7%)', '(5.6%)', '(14.8%)', '(45.4%)', '(15.1%)', '(24.4%)', '(60.0%)', '(23.3%)', '(11.3%)', '(73.6%)', '(7.5%)', '(1.9%)', '(2.6%)', '(62.8%)', '(12.8%)', '(44.1%)', '(33.3%)', '(34.6%)', '(27.4%)', '(2.3%)', '(28.9%)', '(43.0%)', '(23.6%)', '(27.8%)', '(93.1%)', '(18.2%)', '(8.4%)', '(13.0%)', '(41.9%)', '(17.1%)', '(0.0%)', '(43.8%)', '(7.9%)', '(1.7%)', '(20.9%)', '(0.4%)'), ('Petroleum', '(0.1%)', '(8.7%)', '(0.1%)', '(0.1%)', '(0.0%)', '(0.0%)', '(0.9%)', '(0.0%)', '(4.4%)', '(1.1%)', '(0.2%)', '(72.6%)', '(0.0%)', '(0.0%)', '(0.1%)', '(0.1%)', '(0.1%)', '(0.1%)', '(6.9%)', '(2.1%)', '(0.8%)', '(2.0%)', '(1.4%)', '(0.1%)', '(0.1%)', '(0.1%)', '(2.5%)', '(0.1%)', '(0.0%)', '(1.0%)', '(0.2%)', '(0.1%)', '(1.2%)', '(0.6%)', '(0.1%)', '(1.5%)', '(0.0%)', '(0.0%)', '(0.4%)', '(1.0%)', '(0.3%)', '(0.1%)', '(0.2%)', '(0.0%)', '(0.1%)', '(0.2%)', '(1.1%)', '(0.0%)', '(0.2%)', '(0.3%)', '(0.1%)'), ('Renewableenergy', '(8.4%)', '(26.9%)', '(11.1%)', '(5.2%)', '(48.7%)', '(21.8%)', '(5.5%)', '(0.0%)', '(2.1%)', '(4.3%)', '(5.5%)', '(11.3%)', '(84.6%)', '(6.1%)', '(5.4%)', '(34.9%)', '(33.0%)', '(5.3%)', '(1.8%)', '(81.1%)', '(10.1%)', '(17.8%)', '(7.7%)', '(22.4%)', '(0.6%)', '(4.1%)', '(43.5%)', '(17.0%)', '(28.6%)', '(20.9%)', '(3.1%)', '(22.7%)', '(27.4%)', '(11.2%)', '(28.2%)', '(2.1%)', '(35.3%)', '(73.5%)', '(4.9%)', '(5.9%)', '(4.9%)', '(70.6%)', '(12.1%)', '(18.2%)', '(11.1%)', '(99.8%)', '(6.9%)', '(76.9%)', '(4.0%)', '(7.8%)', '(9.7%)'), ('Nuclearpower', '(32.2%)', '(0.0%)', '(30.5%)', '(21.4%)', '(11.8%)', '(0.0%)', '(51.5%)', '(0.0%)', '(0.0%)', '(15.1%)', '(31.5%)', '(0.0%)', '(0.0%)', '(53.8%)', '(0.0%)', '(8.7%)', '(18.3%)', '(0.0%)', '(26.3%)', '(0.0%)', '(37.7%)', '(20.2%)', '(27.9%)', '(25.6%)', '(14.1%)', '(12.9%)', '(0.0%)', '(15.6%)', '(0.0%)', '(60.8%)', '(50.0%)', '(0.0%)', '(36.3%)', '(35.5%)', '(0.0%)', '(16.2%)', '(0.0%)', '(0.0%)', '(43.5%)', '(0.0%)', '(56.2%)', '(0.0%)', '(47.6%)', '(10.7%)', '(0.0%)', '(0.0%)', '(35.8%)', '(9.6%)', '(0.0%)', '(16.8%)', '(0.0%)'))\n2020-09-04 20:44:35,527 INFO sqlalchemy.engine.base.Engine COMMIT\n2020-09-04 20:44:35,529 INFO sqlalchemy.engine.base.Engine SELECT name FROM sqlite_master WHERE type='table' ORDER BY name\n2020-09-04 20:44:35,530 INFO sqlalchemy.engine.base.Engine ()\n"
    }
   ],
   "source": [
    "#Empty dataframe to store the data \n",
    "ElectricPowerConsumption_df = pd.DataFrame(columns = states)\n",
    "\n",
    "for state in states:\n",
    "\n",
    "    #URL to scrape\n",
    "    url = f\"https://www.eia.gov/beta/states/states/{state}/overview\"\n",
    "\n",
    "    #Open url.\n",
    "    browser.get(url)\n",
    "\n",
    "    #Time to let the website load all the elements\n",
    "    time.sleep(4)\n",
    "\n",
    "    #save the html source.\n",
    "    html = browser.page_source\n",
    "\n",
    "    #Use bs4 to parse the html response.\n",
    "    soup = bs(html, \"html.parser\")\n",
    "\n",
    "    #List of classes to parse \n",
    "    parseClasses = [\"info-coal\",\"info-natural-gas\",\"info-petroleum\",\"info-renewable\",'info-nuclear'] \n",
    "\n",
    "    for parseClass in parseClasses:\n",
    "\n",
    "        #From the soup, the electricity generation is in the index 1.\n",
    "        indexNum = 1\n",
    "\n",
    "        #Nuclear energy is only for electricity generation. It only has 1 index = 0\n",
    "        if parseClass == 'info-nuclear' :\n",
    "            indexNum = 0\n",
    "\n",
    "        yummySoup = soup.find_all(\"li\", class_={parseClass})[indexNum].text.split()\n",
    "\n",
    "        typeEnergy = yummySoup[0]\n",
    "\n",
    "        marketShare = yummySoup[2]\n",
    "\n",
    "        ElectricPowerConsumption_df.loc[typeEnergy,state] = marketShare\n",
    "\n",
    "#Save to Sqlite \n",
    "ElectricPowerConsumption_df.to_sql('Electric Power Consumption', conn, if_exists='replace')\n"
   ]
  },
  {
   "cell_type": "code",
   "execution_count": 22,
   "metadata": {
    "tags": []
   },
   "outputs": [
    {
     "output_type": "stream",
     "name": "stdout",
     "text": "2020-09-04 20:44:49,303 INFO sqlalchemy.engine.base.Engine SELECT * from 'Electric Power Consumption'\n2020-09-04 20:44:49,304 INFO sqlalchemy.engine.base.Engine ()\n"
    },
    {
     "output_type": "execute_result",
     "data": {
      "text/plain": "             index       AL       AK       AZ       AR       CA       CO  \\\n0             Coal  (24.7%)  (18.7%)  (30.5%)  (48.3%)   (0.0%)  (52.3%)   \n1       Naturalgas  (34.6%)  (45.6%)  (27.8%)  (25.1%)  (39.4%)  (25.8%)   \n2        Petroleum   (0.1%)   (8.7%)   (0.1%)   (0.1%)   (0.0%)   (0.0%)   \n3  Renewableenergy   (8.4%)  (26.9%)  (11.1%)   (5.2%)  (48.7%)  (21.8%)   \n4     Nuclearpower  (32.2%)   (0.0%)  (30.5%)  (21.4%)  (11.8%)   (0.0%)   \n\n        CT      DC       DE  ...       SD       TN       TX       UT       VT  \\\n0   (1.2%)  (0.0%)   (9.6%)  ...  (21.0%)  (27.1%)  (29.2%)  (71.7%)   (0.0%)   \n1  (40.8%)  (0.0%)  (83.9%)  ...   (8.4%)  (13.0%)  (41.9%)  (17.1%)   (0.0%)   \n2   (0.9%)  (0.0%)   (4.4%)  ...   (0.1%)   (0.2%)   (0.0%)   (0.1%)   (0.2%)   \n3   (5.5%)  (0.0%)   (2.1%)  ...  (70.6%)  (12.1%)  (18.2%)  (11.1%)  (99.8%)   \n4  (51.5%)  (0.0%)   (0.0%)  ...   (0.0%)  (47.6%)  (10.7%)   (0.0%)   (0.0%)   \n\n        VA       WA       WV       WI       WY  \n0  (12.4%)   (5.6%)  (94.1%)  (54.2%)  (89.8%)  \n1  (43.8%)   (7.9%)   (1.7%)  (20.9%)   (0.4%)  \n2   (1.1%)   (0.0%)   (0.2%)   (0.3%)   (0.1%)  \n3   (6.9%)  (76.9%)   (4.0%)   (7.8%)   (9.7%)  \n4  (35.8%)   (9.6%)   (0.0%)  (16.8%)   (0.0%)  \n\n[5 rows x 52 columns]",
      "text/html": "<div>\n<style scoped>\n    .dataframe tbody tr th:only-of-type {\n        vertical-align: middle;\n    }\n\n    .dataframe tbody tr th {\n        vertical-align: top;\n    }\n\n    .dataframe thead th {\n        text-align: right;\n    }\n</style>\n<table border=\"1\" class=\"dataframe\">\n  <thead>\n    <tr style=\"text-align: right;\">\n      <th></th>\n      <th>index</th>\n      <th>AL</th>\n      <th>AK</th>\n      <th>AZ</th>\n      <th>AR</th>\n      <th>CA</th>\n      <th>CO</th>\n      <th>CT</th>\n      <th>DC</th>\n      <th>DE</th>\n      <th>...</th>\n      <th>SD</th>\n      <th>TN</th>\n      <th>TX</th>\n      <th>UT</th>\n      <th>VT</th>\n      <th>VA</th>\n      <th>WA</th>\n      <th>WV</th>\n      <th>WI</th>\n      <th>WY</th>\n    </tr>\n  </thead>\n  <tbody>\n    <tr>\n      <th>0</th>\n      <td>Coal</td>\n      <td>(24.7%)</td>\n      <td>(18.7%)</td>\n      <td>(30.5%)</td>\n      <td>(48.3%)</td>\n      <td>(0.0%)</td>\n      <td>(52.3%)</td>\n      <td>(1.2%)</td>\n      <td>(0.0%)</td>\n      <td>(9.6%)</td>\n      <td>...</td>\n      <td>(21.0%)</td>\n      <td>(27.1%)</td>\n      <td>(29.2%)</td>\n      <td>(71.7%)</td>\n      <td>(0.0%)</td>\n      <td>(12.4%)</td>\n      <td>(5.6%)</td>\n      <td>(94.1%)</td>\n      <td>(54.2%)</td>\n      <td>(89.8%)</td>\n    </tr>\n    <tr>\n      <th>1</th>\n      <td>Naturalgas</td>\n      <td>(34.6%)</td>\n      <td>(45.6%)</td>\n      <td>(27.8%)</td>\n      <td>(25.1%)</td>\n      <td>(39.4%)</td>\n      <td>(25.8%)</td>\n      <td>(40.8%)</td>\n      <td>(0.0%)</td>\n      <td>(83.9%)</td>\n      <td>...</td>\n      <td>(8.4%)</td>\n      <td>(13.0%)</td>\n      <td>(41.9%)</td>\n      <td>(17.1%)</td>\n      <td>(0.0%)</td>\n      <td>(43.8%)</td>\n      <td>(7.9%)</td>\n      <td>(1.7%)</td>\n      <td>(20.9%)</td>\n      <td>(0.4%)</td>\n    </tr>\n    <tr>\n      <th>2</th>\n      <td>Petroleum</td>\n      <td>(0.1%)</td>\n      <td>(8.7%)</td>\n      <td>(0.1%)</td>\n      <td>(0.1%)</td>\n      <td>(0.0%)</td>\n      <td>(0.0%)</td>\n      <td>(0.9%)</td>\n      <td>(0.0%)</td>\n      <td>(4.4%)</td>\n      <td>...</td>\n      <td>(0.1%)</td>\n      <td>(0.2%)</td>\n      <td>(0.0%)</td>\n      <td>(0.1%)</td>\n      <td>(0.2%)</td>\n      <td>(1.1%)</td>\n      <td>(0.0%)</td>\n      <td>(0.2%)</td>\n      <td>(0.3%)</td>\n      <td>(0.1%)</td>\n    </tr>\n    <tr>\n      <th>3</th>\n      <td>Renewableenergy</td>\n      <td>(8.4%)</td>\n      <td>(26.9%)</td>\n      <td>(11.1%)</td>\n      <td>(5.2%)</td>\n      <td>(48.7%)</td>\n      <td>(21.8%)</td>\n      <td>(5.5%)</td>\n      <td>(0.0%)</td>\n      <td>(2.1%)</td>\n      <td>...</td>\n      <td>(70.6%)</td>\n      <td>(12.1%)</td>\n      <td>(18.2%)</td>\n      <td>(11.1%)</td>\n      <td>(99.8%)</td>\n      <td>(6.9%)</td>\n      <td>(76.9%)</td>\n      <td>(4.0%)</td>\n      <td>(7.8%)</td>\n      <td>(9.7%)</td>\n    </tr>\n    <tr>\n      <th>4</th>\n      <td>Nuclearpower</td>\n      <td>(32.2%)</td>\n      <td>(0.0%)</td>\n      <td>(30.5%)</td>\n      <td>(21.4%)</td>\n      <td>(11.8%)</td>\n      <td>(0.0%)</td>\n      <td>(51.5%)</td>\n      <td>(0.0%)</td>\n      <td>(0.0%)</td>\n      <td>...</td>\n      <td>(0.0%)</td>\n      <td>(47.6%)</td>\n      <td>(10.7%)</td>\n      <td>(0.0%)</td>\n      <td>(0.0%)</td>\n      <td>(35.8%)</td>\n      <td>(9.6%)</td>\n      <td>(0.0%)</td>\n      <td>(16.8%)</td>\n      <td>(0.0%)</td>\n    </tr>\n  </tbody>\n</table>\n<p>5 rows × 52 columns</p>\n</div>"
     },
     "metadata": {},
     "execution_count": 22
    }
   ],
   "source": [
    "#To view the sqlite \n",
    "electricityGeneration = pd.read_sql_query(\"SELECT * from 'Electric Power Consumption'\", conn)\n",
    "electricityGeneration"
   ]
  },
  {
   "cell_type": "code",
   "execution_count": null,
   "metadata": {},
   "outputs": [],
   "source": []
  }
 ]
}