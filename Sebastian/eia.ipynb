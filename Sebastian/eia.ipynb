{
 "metadata": {
  "language_info": {
   "codemirror_mode": {
    "name": "ipython",
    "version": 3
   },
   "file_extension": ".py",
   "mimetype": "text/x-python",
   "name": "python",
   "nbconvert_exporter": "python",
   "pygments_lexer": "ipython3",
   "version": "3.8.5-final"
  },
  "orig_nbformat": 2,
  "kernelspec": {
   "name": "python_defaultSpec_1598736966335",
   "display_name": "Python 3.8.5 64-bit"
  }
 },
 "nbformat": 4,
 "nbformat_minor": 2,
 "cells": [
  {
   "cell_type": "code",
   "execution_count": 1,
   "metadata": {},
   "outputs": [],
   "source": [
    "#Api dependencies\n",
    "import json\n",
    "import requests \n",
    "\n",
    "#Json dependencies\n",
    "from pprint import pprint\n",
    "\n",
    "#API key\n",
    "from DriversConfig.config import API_KEY\n",
    "\n",
    "#DataFrame dependencies\n",
    "import pandas as pd \n",
    "\n",
    "#Webscrapping \n",
    "from bs4 import BeautifulSoup as bs\n",
    "from selenium import webdriver\n",
    "\n",
    "#Random crap\n",
    "import time\n",
    "\n",
    "#Settings for headless mode.\n",
    "options = webdriver.ChromeOptions()\n",
    "options.add_argument('headless')\n",
    "\n",
    "#path to the driver and load the options.\n",
    "browser = webdriver.Chrome(\"/Users/Sebastian/Documents/GitHub/Data Visualization Bootcamp/Sebastian Homework/Group Project2 - ProjectEnergy/Sebastian/DriversConfig/chromedriver\",chrome_options = options)"
   ]
  },
  {
   "cell_type": "code",
   "execution_count": 2,
   "metadata": {},
   "outputs": [],
   "source": [
    "#Lower 48 list.\n",
    "states = [\"AL\", \"AK\", \"AZ\", \"AR\", \"CA\", \"CO\", \"CT\", \"DC\", \"DE\", \"FL\", \"GA\", \n",
    "          \"HI\", \"ID\", \"IL\", \"IN\", \"IA\", \"KS\", \"KY\", \"LA\", \"ME\", \"MD\", \n",
    "          \"MA\", \"MI\", \"MN\", \"MS\", \"MO\", \"MT\", \"NE\", \"NV\", \"NH\", \"NJ\", \n",
    "          \"NM\", \"NY\", \"NC\", \"ND\", \"OH\", \"OK\", \"OR\", \"PA\", \"RI\", \"SC\", \n",
    "          \"SD\", \"TN\", \"TX\", \"UT\", \"VT\", \"VA\", \"WA\", \"WV\", \"WI\", \"WY\"]"
   ]
  },
  {
   "cell_type": "markdown",
   "metadata": {},
   "source": [
    "# Prices \n",
    "\n",
    "- Data is very structured, SQL can be a good idea here"
   ]
  },
  {
   "cell_type": "code",
   "execution_count": 3,
   "metadata": {
    "tags": []
   },
   "outputs": [
    {
     "output_type": "execute_result",
     "data": {
      "text/plain": "        AL     AK     AZ    AR     CA     CO     CT     DC     DE     FL  ...  \\\n2019  9.88  20.43  10.64  8.13  17.04  10.02  18.75  12.14  10.64   10.7  ...   \n2018  9.63  19.36  10.85  7.78  16.58  10.02  18.41  12.03  10.55  10.32  ...   \n2017  9.83   19.1  10.64  8.26  16.06   9.99  17.55   11.8   10.9  10.42  ...   \n2016  9.56  17.93  10.33  8.13  15.23   9.83  17.24  11.73  11.09   9.91  ...   \n2015  9.33  17.59  10.34  8.19  15.42   9.94  17.77  12.07  11.17  10.49  ...   \n2014  9.27  17.46  10.18   7.9  15.15  10.06  17.05  12.11  11.22  10.77  ...   \n2013  9.02  16.49  10.14  7.93   14.3   9.88  15.66  11.85   10.9  10.22  ...   \n2012  9.18  16.33   9.81  7.62  13.53   9.39  15.54  11.85  11.06  10.44  ...   \n2011   9.1  16.08   9.71  7.43  13.05   9.39  16.35  12.81  11.48  10.61  ...   \n2010  8.89  14.76   9.69  7.28  13.01   9.15  17.38  13.35  11.97  10.58  ...   \n2009  8.83  15.09   9.56  7.57  13.24   8.31  18.07  13.23   12.2  11.49  ...   \n2008  8.59  14.74   9.11   7.6  12.49   8.59   17.8  13.18  12.38  10.74  ...   \n2007  7.57  13.28   8.54  6.96   12.8   7.76  16.45  11.79  11.35  10.33  ...   \n2006  7.07  12.84   8.24  6.99  12.82   7.61  14.83  11.08  10.13  10.45  ...   \n2005  6.46  11.72   7.79   6.3  11.63   7.64  12.06   9.18   7.76   8.76  ...   \n2004  6.08  10.99   7.45  5.67  11.35   6.95  10.26   7.47   7.53   8.16  ...   \n2003  5.88   10.5   7.34  5.57  11.78   6.77  10.16    7.4   6.96   7.72  ...   \n2002  5.71  10.46   7.21  5.61  12.19      6   9.71   7.34   6.91   7.31  ...   \n2001   5.6  10.54   7.27  6.05  11.22   6.02   9.62    7.4    6.8   7.67  ...   \n\n         SD    TN     TX    UT     VT    VA    WA    WV     WI    WY  \n2019   9.93  9.75    8.8  8.32  15.34  9.53  8.06   8.4  11.04  8.12  \n2018   9.97  9.58   8.48  8.21  15.13  9.48     8  8.72  10.58  8.09  \n2017  10.05  9.45   8.38   8.6   14.6  9.18  7.94     9  10.76  8.28  \n2016   9.83  9.23   8.43  8.72  14.46  9.09  7.68  8.98  10.67  8.19  \n2015   9.47   9.3    8.7  8.54  14.41  9.31   7.4  8.11  10.73  7.97  \n2014   9.05   9.4   8.94  8.35  14.57  9.17  7.13  7.65  10.57  7.76  \n2013   8.86  9.13   8.66  8.15  14.61  8.96  7.09  7.91  10.51  7.55  \n2012   8.49  9.27   8.55  7.84  14.22  9.07  6.94  8.14  10.28  7.19  \n2011   8.05  9.28      9  7.13   13.8  8.84  6.78  7.88  10.21  6.58  \n2010   7.82  8.61   9.34  6.94  13.24  8.69  6.66  7.45   9.78   6.2  \n2009   7.39  8.69   9.86  6.77  12.75  8.93  6.59  6.65   9.38  6.08  \n2008   7.14  8.18  10.99  6.49  12.33     8  6.55  5.61      9  5.67  \n2007   6.89  7.07  10.11  6.41  12.04  7.12  6.37  5.34   8.48  5.29  \n2006    6.7  6.97  10.34  5.99  11.37  6.86  6.14  5.04   8.13  5.27  \n2005    6.6  6.31   9.14  5.92  10.95  6.64  5.87  5.15   7.48  5.16  \n2004   6.44  6.14   7.95  5.69  11.02  6.43   5.8  5.13   6.88  4.98  \n2003   6.35  5.84    7.5  5.41  10.98  6.27  5.86  5.13   6.64  4.76  \n2002   6.26  5.72   6.62  5.39  10.87  6.23  5.88  5.11   6.28  4.68  \n2001   6.35  5.59   7.38  5.21  10.86  6.18  5.34  5.07   6.08  4.46  \n\n[19 rows x 51 columns]",
      "text/html": "<div>\n<style scoped>\n    .dataframe tbody tr th:only-of-type {\n        vertical-align: middle;\n    }\n\n    .dataframe tbody tr th {\n        vertical-align: top;\n    }\n\n    .dataframe thead th {\n        text-align: right;\n    }\n</style>\n<table border=\"1\" class=\"dataframe\">\n  <thead>\n    <tr style=\"text-align: right;\">\n      <th></th>\n      <th>AL</th>\n      <th>AK</th>\n      <th>AZ</th>\n      <th>AR</th>\n      <th>CA</th>\n      <th>CO</th>\n      <th>CT</th>\n      <th>DC</th>\n      <th>DE</th>\n      <th>FL</th>\n      <th>...</th>\n      <th>SD</th>\n      <th>TN</th>\n      <th>TX</th>\n      <th>UT</th>\n      <th>VT</th>\n      <th>VA</th>\n      <th>WA</th>\n      <th>WV</th>\n      <th>WI</th>\n      <th>WY</th>\n    </tr>\n  </thead>\n  <tbody>\n    <tr>\n      <th>2019</th>\n      <td>9.88</td>\n      <td>20.43</td>\n      <td>10.64</td>\n      <td>8.13</td>\n      <td>17.04</td>\n      <td>10.02</td>\n      <td>18.75</td>\n      <td>12.14</td>\n      <td>10.64</td>\n      <td>10.7</td>\n      <td>...</td>\n      <td>9.93</td>\n      <td>9.75</td>\n      <td>8.8</td>\n      <td>8.32</td>\n      <td>15.34</td>\n      <td>9.53</td>\n      <td>8.06</td>\n      <td>8.4</td>\n      <td>11.04</td>\n      <td>8.12</td>\n    </tr>\n    <tr>\n      <th>2018</th>\n      <td>9.63</td>\n      <td>19.36</td>\n      <td>10.85</td>\n      <td>7.78</td>\n      <td>16.58</td>\n      <td>10.02</td>\n      <td>18.41</td>\n      <td>12.03</td>\n      <td>10.55</td>\n      <td>10.32</td>\n      <td>...</td>\n      <td>9.97</td>\n      <td>9.58</td>\n      <td>8.48</td>\n      <td>8.21</td>\n      <td>15.13</td>\n      <td>9.48</td>\n      <td>8</td>\n      <td>8.72</td>\n      <td>10.58</td>\n      <td>8.09</td>\n    </tr>\n    <tr>\n      <th>2017</th>\n      <td>9.83</td>\n      <td>19.1</td>\n      <td>10.64</td>\n      <td>8.26</td>\n      <td>16.06</td>\n      <td>9.99</td>\n      <td>17.55</td>\n      <td>11.8</td>\n      <td>10.9</td>\n      <td>10.42</td>\n      <td>...</td>\n      <td>10.05</td>\n      <td>9.45</td>\n      <td>8.38</td>\n      <td>8.6</td>\n      <td>14.6</td>\n      <td>9.18</td>\n      <td>7.94</td>\n      <td>9</td>\n      <td>10.76</td>\n      <td>8.28</td>\n    </tr>\n    <tr>\n      <th>2016</th>\n      <td>9.56</td>\n      <td>17.93</td>\n      <td>10.33</td>\n      <td>8.13</td>\n      <td>15.23</td>\n      <td>9.83</td>\n      <td>17.24</td>\n      <td>11.73</td>\n      <td>11.09</td>\n      <td>9.91</td>\n      <td>...</td>\n      <td>9.83</td>\n      <td>9.23</td>\n      <td>8.43</td>\n      <td>8.72</td>\n      <td>14.46</td>\n      <td>9.09</td>\n      <td>7.68</td>\n      <td>8.98</td>\n      <td>10.67</td>\n      <td>8.19</td>\n    </tr>\n    <tr>\n      <th>2015</th>\n      <td>9.33</td>\n      <td>17.59</td>\n      <td>10.34</td>\n      <td>8.19</td>\n      <td>15.42</td>\n      <td>9.94</td>\n      <td>17.77</td>\n      <td>12.07</td>\n      <td>11.17</td>\n      <td>10.49</td>\n      <td>...</td>\n      <td>9.47</td>\n      <td>9.3</td>\n      <td>8.7</td>\n      <td>8.54</td>\n      <td>14.41</td>\n      <td>9.31</td>\n      <td>7.4</td>\n      <td>8.11</td>\n      <td>10.73</td>\n      <td>7.97</td>\n    </tr>\n    <tr>\n      <th>2014</th>\n      <td>9.27</td>\n      <td>17.46</td>\n      <td>10.18</td>\n      <td>7.9</td>\n      <td>15.15</td>\n      <td>10.06</td>\n      <td>17.05</td>\n      <td>12.11</td>\n      <td>11.22</td>\n      <td>10.77</td>\n      <td>...</td>\n      <td>9.05</td>\n      <td>9.4</td>\n      <td>8.94</td>\n      <td>8.35</td>\n      <td>14.57</td>\n      <td>9.17</td>\n      <td>7.13</td>\n      <td>7.65</td>\n      <td>10.57</td>\n      <td>7.76</td>\n    </tr>\n    <tr>\n      <th>2013</th>\n      <td>9.02</td>\n      <td>16.49</td>\n      <td>10.14</td>\n      <td>7.93</td>\n      <td>14.3</td>\n      <td>9.88</td>\n      <td>15.66</td>\n      <td>11.85</td>\n      <td>10.9</td>\n      <td>10.22</td>\n      <td>...</td>\n      <td>8.86</td>\n      <td>9.13</td>\n      <td>8.66</td>\n      <td>8.15</td>\n      <td>14.61</td>\n      <td>8.96</td>\n      <td>7.09</td>\n      <td>7.91</td>\n      <td>10.51</td>\n      <td>7.55</td>\n    </tr>\n    <tr>\n      <th>2012</th>\n      <td>9.18</td>\n      <td>16.33</td>\n      <td>9.81</td>\n      <td>7.62</td>\n      <td>13.53</td>\n      <td>9.39</td>\n      <td>15.54</td>\n      <td>11.85</td>\n      <td>11.06</td>\n      <td>10.44</td>\n      <td>...</td>\n      <td>8.49</td>\n      <td>9.27</td>\n      <td>8.55</td>\n      <td>7.84</td>\n      <td>14.22</td>\n      <td>9.07</td>\n      <td>6.94</td>\n      <td>8.14</td>\n      <td>10.28</td>\n      <td>7.19</td>\n    </tr>\n    <tr>\n      <th>2011</th>\n      <td>9.1</td>\n      <td>16.08</td>\n      <td>9.71</td>\n      <td>7.43</td>\n      <td>13.05</td>\n      <td>9.39</td>\n      <td>16.35</td>\n      <td>12.81</td>\n      <td>11.48</td>\n      <td>10.61</td>\n      <td>...</td>\n      <td>8.05</td>\n      <td>9.28</td>\n      <td>9</td>\n      <td>7.13</td>\n      <td>13.8</td>\n      <td>8.84</td>\n      <td>6.78</td>\n      <td>7.88</td>\n      <td>10.21</td>\n      <td>6.58</td>\n    </tr>\n    <tr>\n      <th>2010</th>\n      <td>8.89</td>\n      <td>14.76</td>\n      <td>9.69</td>\n      <td>7.28</td>\n      <td>13.01</td>\n      <td>9.15</td>\n      <td>17.38</td>\n      <td>13.35</td>\n      <td>11.97</td>\n      <td>10.58</td>\n      <td>...</td>\n      <td>7.82</td>\n      <td>8.61</td>\n      <td>9.34</td>\n      <td>6.94</td>\n      <td>13.24</td>\n      <td>8.69</td>\n      <td>6.66</td>\n      <td>7.45</td>\n      <td>9.78</td>\n      <td>6.2</td>\n    </tr>\n    <tr>\n      <th>2009</th>\n      <td>8.83</td>\n      <td>15.09</td>\n      <td>9.56</td>\n      <td>7.57</td>\n      <td>13.24</td>\n      <td>8.31</td>\n      <td>18.07</td>\n      <td>13.23</td>\n      <td>12.2</td>\n      <td>11.49</td>\n      <td>...</td>\n      <td>7.39</td>\n      <td>8.69</td>\n      <td>9.86</td>\n      <td>6.77</td>\n      <td>12.75</td>\n      <td>8.93</td>\n      <td>6.59</td>\n      <td>6.65</td>\n      <td>9.38</td>\n      <td>6.08</td>\n    </tr>\n    <tr>\n      <th>2008</th>\n      <td>8.59</td>\n      <td>14.74</td>\n      <td>9.11</td>\n      <td>7.6</td>\n      <td>12.49</td>\n      <td>8.59</td>\n      <td>17.8</td>\n      <td>13.18</td>\n      <td>12.38</td>\n      <td>10.74</td>\n      <td>...</td>\n      <td>7.14</td>\n      <td>8.18</td>\n      <td>10.99</td>\n      <td>6.49</td>\n      <td>12.33</td>\n      <td>8</td>\n      <td>6.55</td>\n      <td>5.61</td>\n      <td>9</td>\n      <td>5.67</td>\n    </tr>\n    <tr>\n      <th>2007</th>\n      <td>7.57</td>\n      <td>13.28</td>\n      <td>8.54</td>\n      <td>6.96</td>\n      <td>12.8</td>\n      <td>7.76</td>\n      <td>16.45</td>\n      <td>11.79</td>\n      <td>11.35</td>\n      <td>10.33</td>\n      <td>...</td>\n      <td>6.89</td>\n      <td>7.07</td>\n      <td>10.11</td>\n      <td>6.41</td>\n      <td>12.04</td>\n      <td>7.12</td>\n      <td>6.37</td>\n      <td>5.34</td>\n      <td>8.48</td>\n      <td>5.29</td>\n    </tr>\n    <tr>\n      <th>2006</th>\n      <td>7.07</td>\n      <td>12.84</td>\n      <td>8.24</td>\n      <td>6.99</td>\n      <td>12.82</td>\n      <td>7.61</td>\n      <td>14.83</td>\n      <td>11.08</td>\n      <td>10.13</td>\n      <td>10.45</td>\n      <td>...</td>\n      <td>6.7</td>\n      <td>6.97</td>\n      <td>10.34</td>\n      <td>5.99</td>\n      <td>11.37</td>\n      <td>6.86</td>\n      <td>6.14</td>\n      <td>5.04</td>\n      <td>8.13</td>\n      <td>5.27</td>\n    </tr>\n    <tr>\n      <th>2005</th>\n      <td>6.46</td>\n      <td>11.72</td>\n      <td>7.79</td>\n      <td>6.3</td>\n      <td>11.63</td>\n      <td>7.64</td>\n      <td>12.06</td>\n      <td>9.18</td>\n      <td>7.76</td>\n      <td>8.76</td>\n      <td>...</td>\n      <td>6.6</td>\n      <td>6.31</td>\n      <td>9.14</td>\n      <td>5.92</td>\n      <td>10.95</td>\n      <td>6.64</td>\n      <td>5.87</td>\n      <td>5.15</td>\n      <td>7.48</td>\n      <td>5.16</td>\n    </tr>\n    <tr>\n      <th>2004</th>\n      <td>6.08</td>\n      <td>10.99</td>\n      <td>7.45</td>\n      <td>5.67</td>\n      <td>11.35</td>\n      <td>6.95</td>\n      <td>10.26</td>\n      <td>7.47</td>\n      <td>7.53</td>\n      <td>8.16</td>\n      <td>...</td>\n      <td>6.44</td>\n      <td>6.14</td>\n      <td>7.95</td>\n      <td>5.69</td>\n      <td>11.02</td>\n      <td>6.43</td>\n      <td>5.8</td>\n      <td>5.13</td>\n      <td>6.88</td>\n      <td>4.98</td>\n    </tr>\n    <tr>\n      <th>2003</th>\n      <td>5.88</td>\n      <td>10.5</td>\n      <td>7.34</td>\n      <td>5.57</td>\n      <td>11.78</td>\n      <td>6.77</td>\n      <td>10.16</td>\n      <td>7.4</td>\n      <td>6.96</td>\n      <td>7.72</td>\n      <td>...</td>\n      <td>6.35</td>\n      <td>5.84</td>\n      <td>7.5</td>\n      <td>5.41</td>\n      <td>10.98</td>\n      <td>6.27</td>\n      <td>5.86</td>\n      <td>5.13</td>\n      <td>6.64</td>\n      <td>4.76</td>\n    </tr>\n    <tr>\n      <th>2002</th>\n      <td>5.71</td>\n      <td>10.46</td>\n      <td>7.21</td>\n      <td>5.61</td>\n      <td>12.19</td>\n      <td>6</td>\n      <td>9.71</td>\n      <td>7.34</td>\n      <td>6.91</td>\n      <td>7.31</td>\n      <td>...</td>\n      <td>6.26</td>\n      <td>5.72</td>\n      <td>6.62</td>\n      <td>5.39</td>\n      <td>10.87</td>\n      <td>6.23</td>\n      <td>5.88</td>\n      <td>5.11</td>\n      <td>6.28</td>\n      <td>4.68</td>\n    </tr>\n    <tr>\n      <th>2001</th>\n      <td>5.6</td>\n      <td>10.54</td>\n      <td>7.27</td>\n      <td>6.05</td>\n      <td>11.22</td>\n      <td>6.02</td>\n      <td>9.62</td>\n      <td>7.4</td>\n      <td>6.8</td>\n      <td>7.67</td>\n      <td>...</td>\n      <td>6.35</td>\n      <td>5.59</td>\n      <td>7.38</td>\n      <td>5.21</td>\n      <td>10.86</td>\n      <td>6.18</td>\n      <td>5.34</td>\n      <td>5.07</td>\n      <td>6.08</td>\n      <td>4.46</td>\n    </tr>\n  </tbody>\n</table>\n<p>19 rows × 51 columns</p>\n</div>"
     },
     "metadata": {},
     "execution_count": 3
    }
   ],
   "source": [
    "#API key from config file.\n",
    "api_key = API_KEY\n",
    "\n",
    "#Empty dataframe to store the data \n",
    "price_df = pd.DataFrame(columns = states)\n",
    "\n",
    "#for state in states.\n",
    "for state in states:\n",
    "\n",
    "    #query each state. ALL = average combined rates, A = Annual. --> we can get more specific and get Residential, bussiness, etc. \n",
    "    priceQuery = f\"ELEC.PRICE.{state}-ALL.A\"\n",
    "\n",
    "    #Api url.\n",
    "    url = f\"http://api.eia.gov/series/?api_key={API_KEY}&series_id={priceQuery}\"\n",
    "\n",
    "    #Api reqeust. \n",
    "    statePriceRequest = requests.get(url)\n",
    "\n",
    "    #Pulls list of list of with the information of prices and yaer.\n",
    "    yearPricesList = statePriceRequest.json()['series'][0]['data']\n",
    "    \n",
    "    #Parse through the list and build DataFrame.\n",
    "    for priceYear in yearPricesList:\n",
    "\n",
    "        price_df.loc[priceYear[0],state] = priceYear[1]\n",
    "\n",
    "#Fomat as DataFrame. \n",
    "price_df.to_pickle(\"Output Files/averageCombinedPrices.pkl\")\n",
    "\n",
    "price_df\n",
    "\n",
    "#To unpickle file and open DataFrame:\n",
    "#open_df = pd.read_pickle('Output Files/averageCombinedPrices.pkl')"
   ]
  },
  {
   "cell_type": "markdown",
   "metadata": {
    "tags": []
   },
   "source": [
    "# Energy Generation\n",
    "\n",
    "- Data is very unstructured, we might have to use NoSQL (Mongo_dB)"
   ]
  },
  {
   "cell_type": "code",
   "execution_count": 4,
   "metadata": {
    "tags": []
   },
   "outputs": [
    {
     "output_type": "stream",
     "name": "stdout",
     "text": "'series'. Petroleum Coke not found in AL.\n'series'. Petroleum Coke not found in AK.\n'series'. Petroleum Coke not found in AZ.\n'series'. Other Gasses not found in AR.\n'series'. Petroleum Coke not found in CO.\n'series'. Petroleum Coke not found in CT.\n'series'. Coal not found in DC.\n'series'. Nuclear not found in DE.\n'series'. Geothermal not found in FL.\n'series'. Other Gasses not found in GA.\n'series'. Natural Gas not found in HI.\n'series'. Petroleum Coke not found in ID.\n'series'. Geothermal not found in IL.\n'series'. Nuclear not found in IN.\n'series'. Other Gasses not found in IA.\n'series'. Other Gasses not found in KS.\n'series'. Nuclear not found in KY.\n'series'. Wind not found in LA.\n'series'. Petroleum Coke not found in ME.\n'series'. Petroleum Coke not found in MD.\n'series'. Petroleum Coke not found in MA.\n'series'. Geothermal not found in MI.\n'series'. Geothermal not found in MN.\n'series'. Petroleum Coke not found in MS.\n'series'. Geothermal not found in MO.\n'series'. Nuclear not found in MT.\n'series'. Petroleum Coke not found in NE.\n'series'. Petroleum Coke not found in NV.\n'series'. Petroleum Coke not found in NH.\n'series'. Wood and Wood Derived Fuels not found in NJ.\n'series'. Petroleum Coke not found in NM.\n'series'. Geothermal not found in NY.\n'series'. Petroleum Coke not found in NC.\n'series'. Petroleum Coke not found in ND.\n'series'. Geothermal not found in OH.\n'series'. Nuclear not found in OK.\n'series'. Petroleum Coke not found in OR.\n'series'. Geothermal not found in PA.\n'series'. Coal not found in RI.\n'series'. Wind not found in SC.\n'series'. Petroleum Coke not found in SD.\n'series'. Petroleum Coke not found in TN.\n'series'. Geothermal not found in TX.\n'series'. Petroleum Coke not found in UT.\n'series'. Coal not found in VT.\n'series'. Petroleum Coke not found in VA.\n'series'. Petroleum Coke not found in WA.\n'series'. Petroleum Coke not found in WV.\n'series'. Geothermal not found in WI.\n'series'. Petroleum Coke not found in WY.\nsave!\nDone!\n"
    }
   ],
   "source": [
    "#Dictionary to build.\n",
    "energySources_dict = {}\n",
    "\n",
    "#list of the US Energy Sources by EIA.\n",
    "energySources = {\"Natural Gas\" : \"NG\",\n",
    "                \"Coal\" : \"COW\",\n",
    "                \"Petroleum Liquids\" : \"PEL\", \n",
    "                \"Petroleum Coke\" : \"PC\", \n",
    "                \"Other Gasses\": \"OOG\",\n",
    "                \"Nuclear\" : \"NUC\",\n",
    "                \"Hydroelectric\" : 'HYC',\n",
    "                \"Wind\" : \"WND\",\n",
    "                'Wood and Wood Derived Fuels' : 'WWW',\n",
    "                'Other Biomass' : 'WAS',\n",
    "                'Geothermal' : 'GEO',\n",
    "                'All Other Renewables' : \"AOR\",\n",
    "                \"All Solar\": 'TSN',\n",
    "                'Other' : 'OTH',\n",
    "                'Utility Scale Thermal' : 'STH',\n",
    "                'Hydroelectic Pumped Storage' : 'HPS'\n",
    "                }\n",
    "\n",
    "#For state in states\n",
    "for state in states:\n",
    "    \n",
    "    try:\n",
    "        #For every statem loop each energy source.\n",
    "        for energySourceKey, energySourceValue in zip(energySources.keys(), energySources.values()):\n",
    "            \n",
    "            #builds api query.\n",
    "            priceQuery = f\"ELEC.GEN.{energySourceValue}-{state}-99.A\"\n",
    "            \n",
    "            #API url\n",
    "            url = f\"http://api.eia.gov/series/?api_key={API_KEY}&series_id={priceQuery}\"\n",
    "\n",
    "            #Api reqeust. \n",
    "            energySourceRequest = requests.get(url, allow_redirects = False) \n",
    "\n",
    "            #Extracts the year-energy liss\n",
    "            energySourceList = energySourceRequest.json()['series'][0]['data']\n",
    "\n",
    "            #builds the state keys.\n",
    "            if state not in energySources_dict.keys():\n",
    "                energySources_dict[state] = {}\n",
    "\n",
    "            #builds the energy source keys by year and energy production by source.\n",
    "            if energySourceKey not in energySources_dict[state].keys():\n",
    "                energySources_dict[state][energySourceKey] = {}\n",
    "                energySources_dict[state][energySourceKey]['Year'] = []\n",
    "                energySources_dict[state][energySourceKey]['K Megawatthours'] = []\n",
    "                \n",
    "            #builds the list for the years\n",
    "            [energySources_dict[state][energySourceKey]['Year'].append(i[0]) for i in energySourceList]\n",
    "\n",
    "            #Builds list for the values of each year.\n",
    "            [energySources_dict[state][energySourceKey]['K Megawatthours'].append(i[1]) for i in energySourceList]\n",
    "    \n",
    "    #if energy surce is not found.\n",
    "    except KeyError as K:\n",
    "        print(f'{K}. {energySourceKey} not found in {state}.')\n",
    "\n",
    "        time.sleep(5)\n",
    "\n",
    "#Builds json file.\n",
    "app_json = json.dumps(energySources_dict, indent = 2, sort_keys=True)\n",
    "\n",
    "#Saves json file \n",
    "with open('Output Files/USAEnergySources.json', 'w') as output:\n",
    "    json.dump(app_json,output)\n",
    "output.close()\n",
    "\n",
    "print('Done!')"
   ]
  },
  {
   "cell_type": "markdown",
   "metadata": {},
   "source": [
    "# Energy Consumption by State"
   ]
  },
  {
   "cell_type": "code",
   "execution_count": 5,
   "metadata": {},
   "outputs": [],
   "source": [
    "#URL to scrape\n",
    "url = \"https://www.eia.gov/beta/states/states/al/overview\"\n",
    "\n",
    "#Open url.\n",
    "browser.get(url)\n",
    "\n",
    "#Time to let the website load all the elements\n",
    "time.sleep(4)\n",
    "\n",
    "#save the html source.\n",
    "html = browser.page_source\n",
    "\n",
    "#Use bs4 to parse the html response.\n",
    "soup = bs(html, \"html.parser\")"
   ]
  },
  {
   "cell_type": "code",
   "execution_count": null,
   "metadata": {},
   "outputs": [],
   "source": []
  }
 ]
}