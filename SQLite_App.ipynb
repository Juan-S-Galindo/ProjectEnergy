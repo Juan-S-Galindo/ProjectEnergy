{
 "cells": [
  {
   "cell_type": "code",
   "execution_count": 1,
   "metadata": {},
   "outputs": [],
   "source": [
    "# Python SQL toolkit and Object Relational Mapper\n",
    "import sqlalchemy\n",
    "from sqlalchemy.ext.automap import automap_base\n",
    "from sqlalchemy.orm import Session\n",
    "from sqlalchemy import create_engine, inspect, func\n",
    "import pandas as pd"
   ]
  },
  {
   "cell_type": "code",
   "execution_count": 2,
   "metadata": {},
   "outputs": [],
   "source": [
    "# Create engine using the `demographics.sqlite` database file\n",
    "engine = create_engine(\"sqlite:///USEnergy.sqlite\")"
   ]
  },
  {
   "cell_type": "code",
   "execution_count": 3,
   "metadata": {},
   "outputs": [],
   "source": [
    "# Declare a Base using `automap_base()`\n",
    "Base = automap_base()\n",
    "# Use the Base class to reflect the database tables\n",
    "Base.prepare(engine, reflect=True)"
   ]
  },
  {
   "cell_type": "code",
   "execution_count": 4,
   "metadata": {},
   "outputs": [
    {
     "name": "stdout",
     "output_type": "stream",
     "text": [
      "[]\n"
     ]
    }
   ],
   "source": [
    "# Print all of the classes mapped to the Base\n",
    "print(Base.classes.keys())"
   ]
  },
  {
   "cell_type": "code",
   "execution_count": 5,
   "metadata": {},
   "outputs": [
    {
     "data": {
      "text/plain": [
       "['AK Generation',\n",
       " 'AL Generation',\n",
       " 'AR Generation',\n",
       " 'AZ Generation',\n",
       " 'Average Energy Prices',\n",
       " 'CA Generation',\n",
       " 'CO Generation',\n",
       " 'CT Generation',\n",
       " 'DC Generation',\n",
       " 'DE Generation',\n",
       " 'Electric Power Consumption',\n",
       " 'End User Consumption',\n",
       " 'FL Generation',\n",
       " 'GA Generation',\n",
       " 'IA Generation',\n",
       " 'ID Generation',\n",
       " 'IL Generation',\n",
       " 'IN Generation',\n",
       " 'KS Generation',\n",
       " 'KY Generation',\n",
       " 'LA Generation',\n",
       " 'MA Generation',\n",
       " 'MD Generation',\n",
       " 'ME Generation',\n",
       " 'MI Generation',\n",
       " 'MN Generation',\n",
       " 'MO Generation',\n",
       " 'MS Generation',\n",
       " 'MT Generation',\n",
       " 'NC Generation',\n",
       " 'ND Generation',\n",
       " 'NE Generation',\n",
       " 'NH Generation',\n",
       " 'NJ Generation',\n",
       " 'NM Generation',\n",
       " 'NV Generation',\n",
       " 'NY Generation',\n",
       " 'OH Generation',\n",
       " 'OK Generation',\n",
       " 'OR Generation',\n",
       " 'PA Generation',\n",
       " 'RI Generation',\n",
       " 'SC Generation',\n",
       " 'SD Generation',\n",
       " 'TN Generation',\n",
       " 'TX Generation',\n",
       " 'UT Generation',\n",
       " 'VA Generation',\n",
       " 'VT Generation',\n",
       " 'WA Generation',\n",
       " 'WI Generation',\n",
       " 'WV Generation',\n",
       " 'WY Generation']"
      ]
     },
     "execution_count": 5,
     "metadata": {},
     "output_type": "execute_result"
    }
   ],
   "source": [
    "# Use the Inspector to explore the database and print the table names\n",
    "inspector = inspect(engine)\n",
    "inspector.get_table_names()"
   ]
  },
  {
   "cell_type": "code",
   "execution_count": 6,
   "metadata": {},
   "outputs": [
    {
     "name": "stdout",
     "output_type": "stream",
     "text": [
      "['index', 'AL', 'AK', 'AZ', 'AR', 'CA', 'CO', 'CT', 'DC', 'DE', 'FL', 'GA', 'HI', 'ID', 'IL', 'IN', 'IA', 'KS', 'KY', 'LA', 'ME', 'MD', 'MA', 'MI', 'MN', 'MS', 'MO', 'MT', 'NE', 'NV', 'NH', 'NJ', 'NM', 'NY', 'NC', 'ND', 'OH', 'OK', 'OR', 'PA', 'RI', 'SC', 'SD', 'TN', 'TX', 'UT', 'VT', 'VA', 'WA', 'WV', 'WI', 'WY']\n"
     ]
    }
   ],
   "source": [
    "columns = inspector.get_columns('Average Energy Prices')    \n",
    "states = []\n",
    "for column in columns:\n",
    "    states.append(column[\"name\"])\n",
    "print(states)"
   ]
  },
  {
   "cell_type": "code",
   "execution_count": 7,
   "metadata": {},
   "outputs": [
    {
     "data": {
      "text/html": [
       "<div>\n",
       "<style scoped>\n",
       "    .dataframe tbody tr th:only-of-type {\n",
       "        vertical-align: middle;\n",
       "    }\n",
       "\n",
       "    .dataframe tbody tr th {\n",
       "        vertical-align: top;\n",
       "    }\n",
       "\n",
       "    .dataframe thead th {\n",
       "        text-align: right;\n",
       "    }\n",
       "</style>\n",
       "<table border=\"1\" class=\"dataframe\">\n",
       "  <thead>\n",
       "    <tr style=\"text-align: right;\">\n",
       "      <th></th>\n",
       "      <th>index</th>\n",
       "      <th>AL</th>\n",
       "      <th>AK</th>\n",
       "      <th>AZ</th>\n",
       "      <th>AR</th>\n",
       "      <th>CA</th>\n",
       "      <th>CO</th>\n",
       "      <th>CT</th>\n",
       "      <th>DC</th>\n",
       "      <th>DE</th>\n",
       "      <th>...</th>\n",
       "      <th>SD</th>\n",
       "      <th>TN</th>\n",
       "      <th>TX</th>\n",
       "      <th>UT</th>\n",
       "      <th>VT</th>\n",
       "      <th>VA</th>\n",
       "      <th>WA</th>\n",
       "      <th>WV</th>\n",
       "      <th>WI</th>\n",
       "      <th>WY</th>\n",
       "    </tr>\n",
       "  </thead>\n",
       "  <tbody>\n",
       "    <tr>\n",
       "      <th>1</th>\n",
       "      <td>2018</td>\n",
       "      <td>9.63</td>\n",
       "      <td>19.36</td>\n",
       "      <td>10.85</td>\n",
       "      <td>7.78</td>\n",
       "      <td>16.58</td>\n",
       "      <td>10.02</td>\n",
       "      <td>18.41</td>\n",
       "      <td>12.03</td>\n",
       "      <td>10.55</td>\n",
       "      <td>...</td>\n",
       "      <td>9.97</td>\n",
       "      <td>9.58</td>\n",
       "      <td>8.48</td>\n",
       "      <td>8.21</td>\n",
       "      <td>15.13</td>\n",
       "      <td>9.48</td>\n",
       "      <td>8</td>\n",
       "      <td>8.72</td>\n",
       "      <td>10.58</td>\n",
       "      <td>8.09</td>\n",
       "    </tr>\n",
       "  </tbody>\n",
       "</table>\n",
       "<p>1 rows × 52 columns</p>\n",
       "</div>"
      ],
      "text/plain": [
       "  index    AL     AK     AZ    AR     CA     CO     CT     DC     DE  ...  \\\n",
       "1  2018  9.63  19.36  10.85  7.78  16.58  10.02  18.41  12.03  10.55  ...   \n",
       "\n",
       "     SD    TN    TX    UT     VT    VA  WA    WV     WI    WY  \n",
       "1  9.97  9.58  8.48  8.21  15.13  9.48   8  8.72  10.58  8.09  \n",
       "\n",
       "[1 rows x 52 columns]"
      ]
     },
     "execution_count": 7,
     "metadata": {},
     "output_type": "execute_result"
    }
   ],
   "source": [
    "year = 2018\n",
    "prices = pd.read_sql_query(\"SELECT * from 'Average Energy Prices'\",con = engine)\n",
    "#prices.rename(columns = {\"index\": \"Years\"},  \n",
    "          #inplace = True) \n",
    "year_df = prices.loc[prices['index'] == str(year)]\n",
    "year_df"
   ]
  },
  {
   "cell_type": "code",
   "execution_count": 8,
   "metadata": {},
   "outputs": [
    {
     "data": {
      "text/plain": [
       "index\n",
       "2019    9.88\n",
       "2018    9.63\n",
       "2017    9.83\n",
       "2016    9.56\n",
       "2015    9.33\n",
       "2014    9.27\n",
       "2013    9.02\n",
       "2012    9.18\n",
       "2011    9.10\n",
       "2010    8.89\n",
       "2009    8.83\n",
       "2008    8.59\n",
       "2007    7.57\n",
       "2006    7.07\n",
       "2005    6.46\n",
       "2004    6.08\n",
       "2003    5.88\n",
       "2002    5.71\n",
       "2001    5.60\n",
       "Name: AL, dtype: float64"
      ]
     },
     "execution_count": 8,
     "metadata": {},
     "output_type": "execute_result"
    }
   ],
   "source": [
    "state = \"AL\"\n",
    "prices = pd.read_sql_query(\"SELECT * from 'Average Energy Prices'\",con = engine)\n",
    "prices.set_index(\"index\",inplace =True)\n",
    "state_df = prices.loc[:,state]\n",
    "state_df"
   ]
  },
  {
   "cell_type": "code",
   "execution_count": null,
   "metadata": {},
   "outputs": [],
   "source": []
  }
 ],
 "metadata": {
  "kernelspec": {
   "display_name": "Python 3",
   "language": "python",
   "name": "python3"
  },
  "language_info": {
   "codemirror_mode": {
    "name": "ipython",
    "version": 3
   },
   "file_extension": ".py",
   "mimetype": "text/x-python",
   "name": "python",
   "nbconvert_exporter": "python",
   "pygments_lexer": "ipython3",
   "version": "3.7.6"
  }
 },
 "nbformat": 4,
 "nbformat_minor": 4
}
